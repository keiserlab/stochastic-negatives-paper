{
 "cells": [
  {
   "cell_type": "code",
   "execution_count": 1,
   "metadata": {
    "collapsed": false
   },
   "outputs": [
    {
     "name": "stderr",
     "output_type": "stream",
     "text": [
      "/srv/soft/python/versions/python-2.7.6/lib/python2.7/site-packages/pandas/io/excel.py:626: UserWarning: Installed openpyxl is not supported at this time. Use >=1.6.1 and <2.0.0.\n",
      "  .format(openpyxl_compat.start_ver, openpyxl_compat.stop_ver))\n"
     ]
    }
   ],
   "source": [
    "%matplotlib inline\n",
    "import os\n",
    "import gzip\n",
    "import random\n",
    "import numpy as np\n",
    "import seaborn as sns\n",
    "from matplotlib import pyplot as plt"
   ]
  },
  {
   "cell_type": "code",
   "execution_count": 2,
   "metadata": {
    "collapsed": true
   },
   "outputs": [],
   "source": [
    "TIDS_GREATER_THAN_10 = \"./uniq_tid_full_chembl20_cutoff800_sorted_by_mid_tid_greatequal10count.csv.gz\"\n",
    "FULL_DATASET = \"../full_chembl20_cutoff800_sorted_by_mid_tid.csv.gz\"\n",
    "OUT_FILE = \"../full_chembl20_cutoff800_sorted_by_mid_tid_greaterthan10tids.csv.gz\"\n",
    "RAND_CHOICE = \"../full_chembl20_cutoff800_sorted_by_mid_tid_greaterthan10tids_rand_choice.csv.gz\"\n",
    "\n",
    "RANDOM_STATE = 42"
   ]
  },
  {
   "cell_type": "code",
   "execution_count": 3,
   "metadata": {
    "collapsed": false
   },
   "outputs": [],
   "source": [
    "chembl_tids = set()\n",
    "with gzip.open(TIDS_GREATER_THAN_10, \"r\") as f:\n",
    "    for line in f: \n",
    "        chembl_tids.update({line.split(\"\\t\")[1]})"
   ]
  },
  {
   "cell_type": "code",
   "execution_count": 4,
   "metadata": {
    "collapsed": false
   },
   "outputs": [
    {
     "name": "stdout",
     "output_type": "stream",
     "text": [
      "doc_id\tyear\tChEMBL_Target_ID\tChEMBL_Molecule_ID\tChembl_Target_pref_name\tActivity (nM)\tRelation\tSMILES\n",
      "\n"
     ]
    }
   ],
   "source": [
    "# write all data where >10 targets\n",
    "chembl_mids = set()\n",
    "with gzip.open(FULL_DATASET, \"r\") as f:\n",
    "    with gzip.open(OUT_FILE, \"w\") as out:\n",
    "        # print header line\n",
    "        header = f.readline()\n",
    "        out.write(header)\n",
    "        print header\n",
    "        for line in f:\n",
    "            if line.split(\"\\t\")[2] in chembl_tids:\n",
    "                out.write(line)\n",
    "                chembl_mids.update({line.split(\"\\t\")[3]})"
   ]
  },
  {
   "cell_type": "code",
   "execution_count": 5,
   "metadata": {
    "collapsed": false
   },
   "outputs": [],
   "source": [
    "tid_lookup = {t:i for i,t in enumerate(list(chembl_tids))}\n",
    "mid_lookup = {t:i for i,t in enumerate(list(chembl_mids))}"
   ]
  },
  {
   "cell_type": "code",
   "execution_count": 6,
   "metadata": {
    "collapsed": false
   },
   "outputs": [
    {
     "name": "stdout",
     "output_type": "stream",
     "text": [
      "doc_id\tyear\tChEMBL_Target_ID\tChEMBL_Molecule_ID\tChembl_Target_pref_name\tActivity (nM)\tRelation\tSMILES\n",
      "\n"
     ]
    }
   ],
   "source": [
    "adj_arry = np.zeros((len(chembl_tids), len(chembl_mids)))\n",
    "with gzip.open(OUT_FILE, \"r\") as f:\n",
    "    print f.readline()\n",
    "    for line in f:\n",
    "        curr_tid = line.split(\"\\t\")[2]\n",
    "        curr_mid = line.split(\"\\t\")[3]\n",
    "        if curr_tid in chembl_tids:\n",
    "            adj_arry[tid_lookup[curr_tid]][mid_lookup[curr_mid]] += 1"
   ]
  },
  {
   "cell_type": "code",
   "execution_count": 7,
   "metadata": {
    "collapsed": false
   },
   "outputs": [],
   "source": [
    "vals = adj_arry[adj_arry>0]"
   ]
  },
  {
   "cell_type": "code",
   "execution_count": 8,
   "metadata": {
    "collapsed": false
   },
   "outputs": [
    {
     "data": {
      "text/plain": [
       "(array([1878]), array([249249]))"
      ]
     },
     "execution_count": 8,
     "metadata": {},
     "output_type": "execute_result"
    }
   ],
   "source": [
    "np.where(adj_arry == vals.max())"
   ]
  },
  {
   "cell_type": "code",
   "execution_count": 9,
   "metadata": {
    "collapsed": false
   },
   "outputs": [
    {
     "name": "stdout",
     "output_type": "stream",
     "text": [
      "CHEMBL205\n",
      "CHEMBL20\n"
     ]
    }
   ],
   "source": [
    "for key, idx in tid_lookup.iteritems():\n",
    "    if idx == 1878:\n",
    "        print key\n",
    "for key, idx in mid_lookup.iteritems():\n",
    "    if idx == 249249:\n",
    "        print key"
   ]
  },
  {
   "cell_type": "markdown",
   "metadata": {},
   "source": [
    "### general  note: the most overrepresented is (carbonic anhydrase,Acetazolamide) with 249 instances"
   ]
  },
  {
   "cell_type": "code",
   "execution_count": 10,
   "metadata": {
    "collapsed": false
   },
   "outputs": [
    {
     "data": {
      "text/plain": [
       "249.0"
      ]
     },
     "execution_count": 10,
     "metadata": {},
     "output_type": "execute_result"
    }
   ],
   "source": [
    "vals.max()"
   ]
  },
  {
   "cell_type": "code",
   "execution_count": 11,
   "metadata": {
    "collapsed": false
   },
   "outputs": [
    {
     "name": "stdout",
     "output_type": "stream",
     "text": [
      "doc_id\tyear\tChEMBL_Target_ID\tChEMBL_Molecule_ID\tChembl_Target_pref_name\tActivity (nM)\tRelation\tSMILES\n",
      "\n"
     ]
    }
   ],
   "source": [
    "# get a dict of all training examples and their indices\n",
    "ex_locs = {}\n",
    "loc = 0\n",
    "with gzip.open(OUT_FILE, \"r\") as f: \n",
    "    # print header line\n",
    "    header = f.readline()\n",
    "    print header\n",
    "    loc += 1\n",
    "    for line in f: \n",
    "        curr_tid = line.split(\"\\t\")[2]\n",
    "        curr_mid = line.split(\"\\t\")[3]\n",
    "        if curr_tid in chembl_tids:\n",
    "            if (curr_tid, curr_mid) in ex_locs:\n",
    "                ex_locs[(curr_tid, curr_mid)].append(loc)\n",
    "            else:\n",
    "                ex_locs[(curr_tid, curr_mid)] = [loc]\n",
    "            loc += 1"
   ]
  },
  {
   "cell_type": "code",
   "execution_count": 12,
   "metadata": {
    "collapsed": false
   },
   "outputs": [],
   "source": []
  },
  {
   "cell_type": "code",
   "execution_count": 13,
   "metadata": {
    "collapsed": false
   },
   "outputs": [
    {
     "name": "stdout",
     "output_type": "stream",
     "text": [
      "doc_id\tyear\tChEMBL_Target_ID\tChEMBL_Molecule_ID\tChembl_Target_pref_name\tActivity (nM)\tRelation\tSMILES\n",
      "\n"
     ]
    }
   ],
   "source": [
    "# Now, choose one training set randomly\n",
    "random.seed(RANDOM_STATE)\n",
    "to_write = set()\n",
    "all_vals = []\n",
    "for val_lists in ex_locs.itervalues():\n",
    "    all_vals.append(len(val_lists))\n",
    "    to_write.update({random.choice(val_lists)})\n",
    "\n",
    "last_mid = \"\"\n",
    "last_tid = \"\"\n",
    "loc = 0\n",
    "with gzip.open(OUT_FILE, \"r\") as f: \n",
    "    with gzip.open(RAND_CHOICE, \"w\") as out:\n",
    "        # print header line\n",
    "        header = f.readline()\n",
    "        print header\n",
    "        out.write(header)\n",
    "        loc += 1\n",
    "        for line in f:\n",
    "            if loc in to_write:\n",
    "                out.write(line)"
   ]
  },
  {
   "cell_type": "code",
   "execution_count": null,
   "metadata": {
    "collapsed": false
   },
   "outputs": [],
   "source": []
  },
  {
   "cell_type": "code",
   "execution_count": null,
   "metadata": {
    "collapsed": false
   },
   "outputs": [],
   "source": []
  },
  {
   "cell_type": "code",
   "execution_count": null,
   "metadata": {
    "collapsed": false
   },
   "outputs": [],
   "source": []
  },
  {
   "cell_type": "code",
   "execution_count": null,
   "metadata": {
    "collapsed": false
   },
   "outputs": [],
   "source": []
  },
  {
   "cell_type": "code",
   "execution_count": null,
   "metadata": {
    "collapsed": true
   },
   "outputs": [],
   "source": []
  }
 ],
 "metadata": {
  "kernelspec": {
   "display_name": "Python 2",
   "language": "python",
   "name": "python2"
  },
  "language_info": {
   "codemirror_mode": {
    "name": "ipython",
    "version": 2
   },
   "file_extension": ".py",
   "mimetype": "text/x-python",
   "name": "python",
   "nbconvert_exporter": "python",
   "pygments_lexer": "ipython2",
   "version": "2.7.6"
  }
 },
 "nbformat": 4,
 "nbformat_minor": 0
}
