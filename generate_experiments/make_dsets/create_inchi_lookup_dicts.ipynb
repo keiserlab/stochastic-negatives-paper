{
 "cells": [
  {
   "cell_type": "markdown",
   "metadata": {},
   "source": [
    "## For write_to_hdf5, I need inchi keys. Here, we make them"
   ]
  },
  {
   "cell_type": "code",
   "execution_count": 1,
   "metadata": {
    "collapsed": true
   },
   "outputs": [],
   "source": [
    "# From chembl raw data, get our smiles"
   ]
  },
  {
   "cell_type": "code",
   "execution_count": 1,
   "metadata": {
    "collapsed": true
   },
   "outputs": [],
   "source": [
    "import numpy as np\n",
    "import pandas as pd\n",
    "import os\n",
    "\n",
    "def get_env_var(handle):\n",
    "    tmp = os.getenv(handle)\n",
    "    if not tmp:\n",
    "        raise LookupError(\"Environment variable: {} not set.\".format(handle))\n",
    "    return tmp.strip(\"'\")"
   ]
  },
  {
   "cell_type": "code",
   "execution_count": 2,
   "metadata": {
    "collapsed": true
   },
   "outputs": [],
   "source": [
    "base = get_env_var(\"DATA_SAVE_BASE\")\n",
    "expt_base = \"{}/20180525_DM_scrubbing\".format(base)\n",
    "raw_chembl_name = \"{}/raw_data/full_chembl20_cutoff800_dm_scrubbed.csv.gz\".format(expt_base)\n",
    "smiles = \"{}/raw_data/all_chembl_smiles_mid_mwcutoff800.smi\".format(expt_base)"
   ]
  },
  {
   "cell_type": "code",
   "execution_count": 14,
   "metadata": {
    "collapsed": true
   },
   "outputs": [],
   "source": [
    "df = pd.read_csv(raw_chembl_name, sep=\"\\t\", compression=\"gzip\", index_col=0)"
   ]
  },
  {
   "cell_type": "code",
   "execution_count": 18,
   "metadata": {
    "collapsed": true
   },
   "outputs": [],
   "source": [
    "mid_smiles = df[[\"ChEMBL_Molecule_ID\", \"SMILES\"]]"
   ]
  },
  {
   "cell_type": "code",
   "execution_count": 21,
   "metadata": {
    "collapsed": true
   },
   "outputs": [],
   "source": [
    "mid_smiles_unique = mid_smiles.groupby([\"ChEMBL_Molecule_ID\", \"SMILES\"]).size().reset_index().rename(columns={0:'count'})"
   ]
  },
  {
   "cell_type": "code",
   "execution_count": 23,
   "metadata": {
    "collapsed": true
   },
   "outputs": [],
   "source": [
    "mid_smiles_unique = mid_smiles_unique[[\"ChEMBL_Molecule_ID\", \"SMILES\"]]"
   ]
  },
  {
   "cell_type": "code",
   "execution_count": 29,
   "metadata": {
    "collapsed": true
   },
   "outputs": [],
   "source": [
    "mid_smiles_unique.to_csv(smiles, sep=\"\\t\", compression=\"gzip\", header=True, index=False)"
   ]
  },
  {
   "cell_type": "code",
   "execution_count": 30,
   "metadata": {},
   "outputs": [
    {
     "name": "stdout",
     "output_type": "stream",
     "text": [
      "ChEMBL_Molecule_ID\tSMILES\r\n",
      "CHEMBL1\tCOc1ccc2[C@@H]3[C@H](COc2c1)C(C)(C)OC4=C3C(=O)C(=O)C5=C4OC(C)(C)[C@@H]6COc7cc(OC)ccc7[C@H]56\r\n",
      "CHEMBL10\tC[S+]([O-])c1ccc(cc1)c2nc(c3ccc(F)cc3)c([nH]2)c4ccncc4\r\n",
      "CHEMBL1000\tOC(=O)COCCN1CCN(CC1)C(c2ccccc2)c3ccc(Cl)cc3\r\n",
      "CHEMBL10000\tIc1ccc(NC2=Nc3ccccc3C(=O)O2)cc1\r\n",
      "CHEMBL100003\tCCCC1C(=C(C)N=C(C)/C/1=C(\\\\O)/OC)C(=O)OCC\r\n",
      "CHEMBL100004\tCCO\\\\C(=C\\\\1/C(C)C(=C(C)N=C1C)C(=O)OCCSc2ccccc2)\\\\O\r\n",
      "CHEMBL100005\tCOC(=O)C(Cc1ccc2OCOc2c1)c3c4ccccc4nc5ccccc35\r\n",
      "CHEMBL100006\tCOc1cc(C)c(OC)c(CC(C)N)c1\r\n",
      "CHEMBL100010\tCOC(=O)C1=C(CC2CCC1C2)c3ccccc3\r\n",
      "\r\n",
      "gzip: stdout: Broken pipe\r\n"
     ]
    }
   ],
   "source": [
    "!zcat $smiles | head"
   ]
  },
  {
   "cell_type": "markdown",
   "metadata": {},
   "source": [
    "## Create INCHI lookup dict"
   ]
  },
  {
   "cell_type": "markdown",
   "metadata": {},
   "source": [
    "Ran from this dir:\n",
    "\n",
    "`\n",
    "./get_inchi.sh\n",
    "`"
   ]
  },
  {
   "cell_type": "code",
   "execution_count": 116,
   "metadata": {
    "collapsed": true
   },
   "outputs": [],
   "source": [
    "import cPickle as pkl\n",
    "import gzip"
   ]
  },
  {
   "cell_type": "code",
   "execution_count": 117,
   "metadata": {
    "collapsed": true
   },
   "outputs": [],
   "source": [
    "inchi_dict=\"{}/raw_data/chembl20_MWmax800_smiles2inchi2mid.csv.gz\".format(expt_base)\n",
    "inchi2smiles = \"{}/raw_data/inchi2smiles.csv.gz\".format(expt_base)\n",
    "mid2inchi = \"{}/raw_data/mid2inchi.pkl\".format(expt_base)"
   ]
  },
  {
   "cell_type": "code",
   "execution_count": 118,
   "metadata": {
    "collapsed": true
   },
   "outputs": [],
   "source": [
    "inchi_df = pd.read_csv(inchi_dict, sep=\"\\t\", compression=\"gzip\")"
   ]
  },
  {
   "cell_type": "code",
   "execution_count": 119,
   "metadata": {
    "collapsed": true
   },
   "outputs": [],
   "source": [
    "# separate out data for convenience & reduce duplicate smiles\n",
    "inchi_to_smiles = inchi_df.set_index(\"INCHI key\").to_dict()[\"smiles\"]\n",
    "mid_to_inchi = inchi_df.set_index(\"mid\").to_dict()[\"INCHI key\"]\n",
    "\n",
    "inchi_to_smiles = pd.DataFrame.from_dict(inchi_to_smiles,orient=\"index\").reset_index()"
   ]
  },
  {
   "cell_type": "code",
   "execution_count": 125,
   "metadata": {
    "collapsed": true
   },
   "outputs": [],
   "source": [
    "# save data\n",
    "inchi_to_smiles.to_csv(inchi2smiles, sep=\"\\t\", header=False, index=False, compression=\"gzip\")\n",
    "with gzip.open(mid2inchi, \"wb\") as f:\n",
    "    # store molecules in case we want to go back and look them up.\n",
    "    pkl.dump(mid_to_inchi, f, protocol=0)"
   ]
  },
  {
   "cell_type": "markdown",
   "metadata": {},
   "source": [
    "# Run Smiles Generation\n",
    "\n",
    "`fp \\t INCHI`\n",
    "\n",
    "`\n",
    "./fingerprint_smiles.sh\n",
    "`"
   ]
  },
  {
   "cell_type": "code",
   "execution_count": 3,
   "metadata": {
    "collapsed": true
   },
   "outputs": [],
   "source": [
    "#check output\n",
    "fp_file = \"{}/raw_data/chembl20_MWmax800_fps.fp.gz\".format(expt_base)"
   ]
  },
  {
   "cell_type": "code",
   "execution_count": 4,
   "metadata": {},
   "outputs": [
    {
     "data": {
      "text/plain": [
       "'/srv/nas/mk1/users/ecaceres//20180525_DM_scrubbing/raw_data/chembl20_MWmax800_fps.fp.gz'"
      ]
     },
     "execution_count": 4,
     "metadata": {},
     "output_type": "execute_result"
    }
   ],
   "source": [
    "fp_file"
   ]
  },
  {
   "cell_type": "code",
   "execution_count": 6,
   "metadata": {},
   "outputs": [
    {
     "data": {
      "text/plain": [
       "u'/srv/home/ecaceres/labgits/lab-notebook-caceres/Projects/nnets/20180525_DM_scrubbing'"
      ]
     },
     "execution_count": 6,
     "metadata": {},
     "output_type": "execute_result"
    }
   ],
   "source": [
    "pwd\n"
   ]
  },
  {
   "cell_type": "code",
   "execution_count": 11,
   "metadata": {},
   "outputs": [
    {
     "name": "stdout",
     "output_type": "stream",
     "text": [
      "ChEMBL_Molecule_ID\tSMILES\r\n",
      "CHEMBL1\tCOc1ccc2[C@@H]3[C@H](COc2c1)C(C)(C)OC4=C3C(=O)C(=O)C5=C4OC(C)(C)[C@@H]6COc7cc(OC)ccc7[C@H]56\r\n",
      "CHEMBL10\tC[S+]([O-])c1ccc(cc1)c2nc(c3ccc(F)cc3)c([nH]2)c4ccncc4\r\n",
      "CHEMBL1000\tOC(=O)COCCN1CCN(CC1)C(c2ccccc2)c3ccc(Cl)cc3\r\n",
      "CHEMBL10000\tIc1ccc(NC2=Nc3ccccc3C(=O)O2)cc1\r\n",
      "CHEMBL100003\tCCCC1C(=C(C)N=C(C)/C/1=C(\\\\O)/OC)C(=O)OCC\r\n",
      "CHEMBL100004\tCCO\\\\C(=C\\\\1/C(C)C(=C(C)N=C1C)C(=O)OCCSc2ccccc2)\\\\O\r\n",
      "CHEMBL100005\tCOC(=O)C(Cc1ccc2OCOc2c1)c3c4ccccc4nc5ccccc35\r\n",
      "CHEMBL100006\tCOc1cc(C)c(OC)c(CC(C)N)c1\r\n",
      "CHEMBL100010\tCOC(=O)C1=C(CC2CCC1C2)c3ccccc3\r\n",
      "\r\n",
      "gzip: stdout: Broken pipe\r\n"
     ]
    }
   ],
   "source": [
    "!zcat $expt_base/raw_data/all_chembl_smiles_mid_mwcutoff800.smi | head"
   ]
  },
  {
   "cell_type": "code",
   "execution_count": 12,
   "metadata": {},
   "outputs": [
    {
     "name": "stdout",
     "output_type": "stream",
     "text": [
      "all_chembl_smiles_mid_mwcutoff800.smi\t    get_smiles.log\r\n",
      "chembl20_MWmax800_fps.fp.gz\t\t    inchi2smiles.csv.gz\r\n",
      "chembl20_MWmax800_smiles2inchi2mid.csv.gz   mid2inchi.csv.gz\r\n",
      "full_chembl20_cutoff800_dm_scrubbed.csv.gz  mid2inchi.pkl\r\n",
      "get_inchi.log\r\n"
     ]
    }
   ],
   "source": [
    "!ls $expt_base/raw_data"
   ]
  },
  {
   "cell_type": "code",
   "execution_count": 13,
   "metadata": {},
   "outputs": [
    {
     "name": "stdout",
     "output_type": "stream",
     "text": [
      "/srv/home/ecaceres/labgits/lab-notebook-caceres/Projects/nnets/20180525_DM_scrubbing\r\n"
     ]
    }
   ],
   "source": [
    "!pwd $expt_base/raw_data"
   ]
  },
  {
   "cell_type": "code",
   "execution_count": null,
   "metadata": {
    "collapsed": true
   },
   "outputs": [],
   "source": []
  }
 ],
 "metadata": {
  "kernelspec": {
   "display_name": "Python 2",
   "language": "python",
   "name": "python2"
  },
  "language_info": {
   "codemirror_mode": {
    "name": "ipython",
    "version": 2
   },
   "file_extension": ".py",
   "mimetype": "text/x-python",
   "name": "python",
   "nbconvert_exporter": "python",
   "pygments_lexer": "ipython2",
   "version": "2.7.15"
  }
 },
 "nbformat": 4,
 "nbformat_minor": 2
}
