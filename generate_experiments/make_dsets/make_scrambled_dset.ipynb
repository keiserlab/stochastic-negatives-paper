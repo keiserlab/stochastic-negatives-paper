{
 "cells": [
  {
   "cell_type": "markdown",
   "metadata": {},
   "source": [
    "The purpose of this experiment is to create an artificial baseline for neural net training on scrambled indices. I will scramble the training set and then evaluate performance on the validation, Drug Matrix, and Time Split holds outs to provide baseline measures."
   ]
  },
  {
   "cell_type": "code",
   "execution_count": 1,
   "metadata": {
    "collapsed": true
   },
   "outputs": [],
   "source": [
    "import numpy as np\n",
    "import h5py\n",
    "import numpy as np\n",
    "import os\n",
    "import logging\n",
    "np.random.seed(42)\n",
    "\n",
    "def get_env_var(handle):\n",
    "    tmp = os.getenv(handle)\n",
    "    if not tmp:\n",
    "        raise LookupError(\"Environment variable: {} not set.\".format(handle))\n",
    "    return tmp.strip(\"'\")"
   ]
  },
  {
   "cell_type": "code",
   "execution_count": 2,
   "metadata": {
    "collapsed": true
   },
   "outputs": [],
   "source": [
    "input_base = get_env_var(\"DATA_SAVE_BASE\")\n",
    "output_base = get_env_var(\"HOME_SAVE_BASE\")"
   ]
  },
  {
   "cell_type": "code",
   "execution_count": 3,
   "metadata": {
    "collapsed": true
   },
   "outputs": [],
   "source": [
    "input_file = \"{}/20180525_DM_scrubbing/train_data/train_ts2012_chembl20_MWmax800_scrubDM_minpos10_cutoff5.hdf5\".format(input_base)\n",
    "output_file = \"{}/output/20180815_Paper_Retrains/scrambled_idx/SCRAMBLED_train_ts2012_chembl20_MWmax800_scrubDM_minpos10_cutoff5.hdf5\".format(output_base)"
   ]
  },
  {
   "cell_type": "code",
   "execution_count": 4,
   "metadata": {
    "collapsed": true
   },
   "outputs": [],
   "source": [
    "with h5py.File(input_file, 'r') as f:\n",
    "    num_training_cases = f.attrs['training_cases']\n",
    "    fp_len = f.attrs['fprint_len']\n",
    "    num_targets = f.attrs['num_targets']\n",
    "    num_training_cases, fp_len = f['fp_array'].shape\n",
    "    print(\"Number of training cases: %d\" % num_training_cases)\n",
    "    print(\"Fingerprint length: %d\" % fp_len)\n",
    "    print(\"Number of targets: %d\" % num_targets)\n",
    "    print([i for i in f.iterkeys()])\n",
    "    acts = f['activity'][()].copy()\n",
    "    pos = f['position'][()].copy()\n",
    "    fps = f['fp_array'][()].copy()\n",
    "    rels = f['relation'][()].copy()\n",
    "    years = f['year'][()].copy()"
   ]
  },
  {
   "cell_type": "code",
   "execution_count": 5,
   "metadata": {
    "collapsed": true
   },
   "outputs": [],
   "source": [
    "with h5py.File(output_file, 'w') as f:\n",
    "        fp_arr = f.create_dataset('fp_array', fps.shape, dtype=np.bool, chunks=True, fillvalue=False, compression=\"lzf\")\n",
    "        act_arr = f.create_dataset('activity', acts.shape, dtype=np.float32, chunks=True, fillvalue=0.0, compression=\"lzf\")\n",
    "        pos_arr = f.create_dataset('position', pos.shape, dtype=np.uint16, chunks=True, fillvalue=0, compression=\"lzf\")\n",
    "        rel_arr = f.create_dataset('relation', rels.shape, dtype=\"S1\", chunks=True, fillvalue='', compression=\"lzf\")\n",
    "        year_arr = f.create_dataset('year', years.shape, dtype=np.uint16, chunks=True, fillvalue=0, compression=\"lzf\")\n",
    "        \n",
    "        # set values\n",
    "        fp_arr[:] = fps\n",
    "        act_arr[:] = acts\n",
    "        pos_arr[:] = pos\n",
    "        rel_arr[:] = rels\n",
    "        year_arr[:] = years\n",
    "\n",
    "        # declare attributes for meta-data\n",
    "        f.attrs[\"activity_units\"] = \"nM, median\"\n",
    "        f.attrs[\"relationship_type\"] = \"mode\"\n",
    "        f.attrs[\"year_type\"]=\"First publication date. If None given, value = 0\"\n",
    "        f.attrs[\"training_cases\"] = num_training_cases\n",
    "        f.attrs[\"num_targets\"] = num_targets \n",
    "        f.attrs[\"fprint_len\"] = fp_len\n",
    "        f.attrs[\"fprint_type\"] = \"bit/ECFP4\"\n",
    "        f.attrs[\"desc\"] = \"Scrambled Training data for ECFP multi-task network with DM scrubbed and no PCBA. 10 positive ligands/target with a cutoff of pac50 of 5.0.  See lookup tables for target indexing\""
   ]
  },
  {
   "cell_type": "code",
   "execution_count": null,
   "metadata": {
    "collapsed": true
   },
   "outputs": [],
   "source": []
  }
 ],
 "metadata": {
  "kernelspec": {
   "display_name": "Python 2",
   "language": "python",
   "name": "python2"
  },
  "language_info": {
   "codemirror_mode": {
    "name": "ipython",
    "version": 2
   },
   "file_extension": ".py",
   "mimetype": "text/x-python",
   "name": "python",
   "nbconvert_exporter": "python",
   "pygments_lexer": "ipython2",
   "version": "2.7.15"
  }
 },
 "nbformat": 4,
 "nbformat_minor": 2
}
