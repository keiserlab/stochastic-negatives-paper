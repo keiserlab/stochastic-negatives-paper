{
 "cells": [
  {
   "cell_type": "code",
   "execution_count": 1,
   "metadata": {
    "collapsed": true
   },
   "outputs": [],
   "source": [
    "import cPickle as pkl\n",
    "import os\n",
    "import glob\n",
    "\n",
    "def get_env_var(handle):\n",
    "    ''' Get an environment variable given the handle for the bash variable'''\n",
    "    tmp = os.getenv(handle)\n",
    "    if not tmp:\n",
    "        raise LookupError(\"Environment variable: {} not set.\".format(handle))\n",
    "    return tmp.strip(\"'\")"
   ]
  },
  {
   "cell_type": "code",
   "execution_count": 2,
   "metadata": {
    "collapsed": true
   },
   "outputs": [],
   "source": [
    "data_dict = {\n",
    "    \"CLASSIFIER_scrambled_idx\" : {\n",
    "        \"indir\": \"{}/20190410_SMA_Investigation/predictions/CLASSIFIER_scrambled_idx_LR03\".format(get_env_var(\"DATA_SAVE_BASE\")),\n",
    "        \"train_base\" : \"{}/20190410_SMA_Investigation/trained_nets/lr_nesterov_binary_classifier_1024_2048_3072/CLASSIFIER_scrambled_idx_LR03\".format(get_env_var(\"DATA_SAVE_BASE\")),\n",
    "        \"train_dir_fmter\" : \"{}/fold_{}/pnr_{}\",\n",
    "        \"knowns_fmt\" : \"{}/CLASSIFIER_scrambled_idx_LR03_pnr_{}_{}_fold_{}_regression_knowns.npz\",\n",
    "        \"preds_fmt\" : \"{}/CLASSIFIER_scrambled_idx_LR03_pnr_{}_{}_fold_{}_regression_preds.npz\",\n",
    "        \"npz_fmt\" : True, \n",
    "        \"ratios\" : [1.0]\n",
    "    },\n",
    "    \"CLASSIFIER_scrambled_idx_No_SMA\" : {\n",
    "        \"indir\": \"{}/20190410_SMA_Investigation/predictions/CLASSIFIER_scrambled_idx_No_SMA_LR03\".format(get_env_var(\"DATA_SAVE_BASE\")),\n",
    "        \"train_base\" : \"{}/20190410_SMA_Investigation/trained_nets/lr_nesterov_binary_classifier_1024_2048_3072/CLASSIFIER_scrambled_idx_No_SMA_LR03\".format(get_env_var(\"DATA_SAVE_BASE\")),\n",
    "        \"train_dir_fmter\" : \"{}/fold_{}/pnr_{}\",\n",
    "        \"knowns_fmt\" : \"{}/CLASSIFIER_scrambled_idx_No_SMA_LR03_pnr_{}_{}_fold_{}_regression_knowns.npz\",\n",
    "        \"preds_fmt\" : \"{}/CLASSIFIER_scrambled_idx_No_SMA_LR03_pnr_{}_{}_fold_{}_regression_preds.npz\",\n",
    "        \"npz_fmt\" : True, \n",
    "        \"ratios\" : [1.0]\n",
    "    },\n",
    "    \"CLASSIFIER_SEA_SMA\" : {\n",
    "        \"indir\": \"{}/20190410_SMA_Investigation/predictions/CLASSIFIER_SEA_SMA_LR03\".format(get_env_var(\"DATA_SAVE_BASE\")),\n",
    "        \"train_base\" : \"{}/20190410_SMA_Investigation/trained_nets/lr_nesterov_binary_classifier_1024_2048_3072/CLASSIFIER_SEA_SMA_LR03\".format(get_env_var(\"DATA_SAVE_BASE\")),\n",
    "        \"train_dir_fmter\" : \"{}/fold_{}/pnr_{}\",\n",
    "        \"knowns_fmt\" : \"{}/CLASSIFIER_SEA_SMA_LR03_pnr_{}_{}_fold_{}_regression_knowns.npz\",\n",
    "        \"preds_fmt\" : \"{}/CLASSIFIER_SEA_SMA_LR03_pnr_{}_{}_fold_{}_regression_preds.npz\",\n",
    "        \"npz_fmt\" : True, \n",
    "        \"ratios\" : [1.0]\n",
    "    },\n",
    "    \"CLASSIFIER_SMA_RATIOS\" : {\n",
    "        \"indir\": \"{}/20190410_SMA_Investigation/predictions/CLASSIFIER_SMA_RATIOS_LR03\".format(get_env_var(\"DATA_SAVE_BASE\")),\n",
    "        \"train_base\" : \"{}/20190410_SMA_Investigation/trained_nets/lr_nesterov_binary_classifier_1024_2048_3072/CLASSIFIER_SMA_RATIOS_LR03\".format(get_env_var(\"DATA_SAVE_BASE\")),\n",
    "        \"train_dir_fmter\" : \"{}/fold_{}/pnr_{}\",\n",
    "        \"knowns_fmt\" : \"{}/CLASSIFIER_SMA_RATIOS_LR03_pnr_{}_{}_fold_{}_regression_knowns.npz\",\n",
    "        \"preds_fmt\" : \"{}/CLASSIFIER_SMA_RATIOS_LR03_pnr_{}_{}_fold_{}_regression_preds.npz\",\n",
    "        \"npz_fmt\" : True,\n",
    "        \"ratios\": [\"1.0\", \"1.2222\", \"0.8182\", \"1.5\", \"19.0\", \"9.0\", \"4.0\", \"2.3333\", \"0.6666\", \"0.4286\", \"0.25\", \"0.1111\", \"0.0753\"]\n",
    "    },\n",
    "    \"CLASSIFIER_NEG_RM_SMA_RATIOS\" : {\n",
    "        \"indir\": \"{}/20190410_SMA_Investigation/predictions/CLASSIFIER_NEG_RM_SMA_RATIOS_LR03\".format(get_env_var(\"DATA_SAVE_BASE\")),\n",
    "        \"train_base\" : \"{}/20190410_SMA_Investigation/trained_nets/classification_negs_rm/CLASSIFIER_NEG_RM_SMA_RATIOS_LR03\".format(get_env_var(\"DATA_SAVE_BASE\")),\n",
    "        \"train_dir_fmter\" : \"{}/fold_{}/pnr_{}\",\n",
    "        \"knowns_fmt\" : \"{}/CLASSIFIER_NEG_RM_SMA_RATIOS_LR03_pnr_{}_{}_fold_{}_regression_knowns.npz\",\n",
    "        \"preds_fmt\" : \"{}/CLASSIFIER_NEG_RM_SMA_RATIOS_LR03_pnr_{}_{}_fold_{}_regression_preds.npz\",\n",
    "        \"npz_fmt\" : True,\n",
    "        \"ratios\": [\"1.0\", \"1.2222\", \"0.8182\", \"1.5\", \"19.0\", \"9.0\", \"4.0\", \"2.3333\", \"0.6666\", \"0.4286\", \"0.25\", \"0.1111\", \"0.0753\"]\n",
    "    },\n",
    "    \"CLASSIFIER_STD\" : {\n",
    "        \"indir\": \"{}/20190410_SMA_Investigation/predictions/CLASSIFIER_STD_LR03\".format(get_env_var(\"DATA_SAVE_BASE\")),\n",
    "        \"train_base\" : \"{}/20190410_SMA_Investigation/trained_nets/lr_nesterov_binary_classifier_1024_2048_3072/CLASSIFIER_STD_LR03\".format(get_env_var(\"DATA_SAVE_BASE\")),\n",
    "        \"train_dir_fmter\" : \"{}/fold_{}/pnr_{}/\",\n",
    "        \"knowns_fmt\" : \"{}/CLASSIFIER_STD_LR03_pnr_{}_{}_fold_{}_regression_knowns.npz\",\n",
    "        \"preds_fmt\" : \"{}/CLASSIFIER_STD_LR03_pnr_{}_{}_fold_{}_regression_preds.npz\",\n",
    "        \"npz_fmt\" : True,\n",
    "        \"ratios\": [\"1.0\"]\n",
    "    },\n",
    "    \"CLASSIFIER_NEG_RM\" : {\n",
    "        \"indir\": \"{}/20190410_SMA_Investigation/predictions/CLASSIFIER_NEG_RM\".format(get_env_var(\"DATA_SAVE_BASE\")),\n",
    "        \"train_base\" : \"{}/20190410_SMA_Investigation/trained_nets/classification_negs_rm/CLASSIFIER_NEG_RM\".format(get_env_var(\"DATA_SAVE_BASE\")),\n",
    "        \"train_dir_fmter\" : \"{}/fold_{}\",\n",
    "        \"knowns_fmt\" : \"{}/CLASSIFIER_NEG_RM_{}_fold_{}_regression_knowns.npz\",\n",
    "        \"preds_fmt\" : \"{}/CLASSIFIER_NEG_RM_{}_fold_{}_regression_preds.npz\",\n",
    "        \"npz_fmt\" : True,\n",
    "        \"ratios\": None\n",
    "    },\n",
    "        \"CLASSIFIER_scrambled_idx_LC\" : {\n",
    "        \"indir\": \"{}/20190410_SMA_Investigation/predictions/CLASSIFIER_scrambled_idx_longer_converge\".format(get_env_var(\"DATA_SAVE_BASE\")),\n",
    "        \"train_base\" : \"{}/20190410_SMA_Investigation/trained_nets/lr_nesterov_binary_classifier_1024_2048_3072/CLASSIFIER_scrambled_idx_LR03\".format(get_env_var(\"DATA_SAVE_BASE\")),\n",
    "        \"train_dir_fmter\" : \"{}/fold_{}/pnr_{}\",\n",
    "        \"knowns_fmt\" : \"{}/CLASSIFIER_scrambled_idx_LR03_pnr_{}_{}_fold_{}_regression_knowns.npz\",\n",
    "        \"preds_fmt\" : \"{}/CLASSIFIER_scrambled_idx_LR03_pnr_{}_{}_fold_{}_regression_preds.npz\",\n",
    "        \"npz_fmt\" : True, \n",
    "        \"ratios\" : [1.0]\n",
    "    },\n",
    "    \"CLASSIFIER_scrambled_idx_No_SMA_LC\" : {\n",
    "        \"indir\": \"{}/20190410_SMA_Investigation/predictions/CLASSIFIER_scrambled_idx_No_SMA_longer_converge\".format(get_env_var(\"DATA_SAVE_BASE\")),\n",
    "        \"train_base\" : \"{}/20190410_SMA_Investigation/trained_nets/lr_nesterov_binary_classifier_1024_2048_3072/CLASSIFIER_scrambled_idx_No_SMA_LR03\".format(get_env_var(\"DATA_SAVE_BASE\")),\n",
    "        \"train_dir_fmter\" : \"{}/fold_{}/pnr_{}\",\n",
    "        \"knowns_fmt\" : \"{}/CLASSIFIER_scrambled_idx_No_SMA_LR03_pnr_{}_{}_fold_{}_regression_knowns.npz\",\n",
    "        \"preds_fmt\" : \"{}/CLASSIFIER_scrambled_idx_No_SMA_LR03_pnr_{}_{}_fold_{}_regression_preds.npz\",\n",
    "        \"npz_fmt\" : True, \n",
    "        \"ratios\" : [1.0]\n",
    "    },\n",
    "    \"CLASSIFIER_NEG_RM_scrambled\" : {\n",
    "        \"indir\": \"{}/20190410_SMA_Investigation/predictions/CLASSIFIER_NEG_RM_scrambled\".format(get_env_var(\"DATA_SAVE_BASE\")),\n",
    "        \"train_base\" : \"{}/20190410_SMA_Investigation/trained_nets/classification_negs_rm/CLASSIFIER_NEG_RM_scrambled\".format(get_env_var(\"DATA_SAVE_BASE\")),\n",
    "        \"train_dir_fmter\" : \"{}/fold_{}\",\n",
    "        \"knowns_fmt\" : \"{}/CLASSIFIER_NEG_RM_scrambled_{}_fold_{}_regression_knowns.npz\",\n",
    "        \"preds_fmt\" : \"{}/CLASSIFIER_NEG_RM_scrambled_{}_fold_{}_regression_preds.npz\",\n",
    "        \"npz_fmt\" : True,\n",
    "        \"ratios\": None\n",
    "    },\n",
    "    \"CLASSIFIER_NEG_RM_RATIOS_scrambled\" : {\n",
    "        \"indir\": \"{}/20190410_SMA_Investigation/predictions/CLASSIFIER_NEG_RM_RATIOS_scrambled\".format(get_env_var(\"DATA_SAVE_BASE\")),\n",
    "        \"train_base\" : \"{}/20190410_SMA_Investigation/trained_nets/classification_negs_rm/CLASSIFIER_NEG_RM_RATIOS_scrambled\".format(get_env_var(\"DATA_SAVE_BASE\")),\n",
    "        \"train_dir_fmter\" : \"{}/fold_{}/pnr_{}\",\n",
    "        \"knowns_fmt\" : \"{}/CLASSIFIER_NEG_RM_RATIOS_scrambled_pnr_{}_{}_fold_{}_regression_knowns.npz\",\n",
    "        \"preds_fmt\" : \"{}/CLASSIFIER_NEG_RM_RATIOS_scrambled_pnr_{}_{}_fold_{}_regression_preds.npz\",\n",
    "        \"npz_fmt\" : True,\n",
    "        \"ratios\": [\"1.0\", \"0.1111\", \"0.0753\"]\n",
    "    },\n",
    "\n",
    "    \n",
    "}"
   ]
  },
  {
   "cell_type": "code",
   "execution_count": 3,
   "metadata": {
    "collapsed": true
   },
   "outputs": [],
   "source": [
    "saveas = \"classification_preds_file_lookup.pkl\""
   ]
  },
  {
   "cell_type": "code",
   "execution_count": 4,
   "metadata": {
    "collapsed": true
   },
   "outputs": [],
   "source": [
    "with open(saveas, \"wb\") as f:\n",
    "    pkl.dump(data_dict, f)"
   ]
  },
  {
   "cell_type": "code",
   "execution_count": null,
   "metadata": {
    "collapsed": true
   },
   "outputs": [],
   "source": []
  },
  {
   "cell_type": "code",
   "execution_count": null,
   "metadata": {
    "collapsed": true
   },
   "outputs": [],
   "source": []
  }
 ],
 "metadata": {
  "kernelspec": {
   "display_name": "Python 2",
   "language": "python",
   "name": "python2"
  },
  "language_info": {
   "codemirror_mode": {
    "name": "ipython",
    "version": 2
   },
   "file_extension": ".py",
   "mimetype": "text/x-python",
   "name": "python",
   "nbconvert_exporter": "python",
   "pygments_lexer": "ipython2",
   "version": "2.7.15"
  }
 },
 "nbformat": 4,
 "nbformat_minor": 2
}
