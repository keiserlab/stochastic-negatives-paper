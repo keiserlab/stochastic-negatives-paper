{
 "cells": [
  {
   "cell_type": "code",
   "execution_count": 1,
   "metadata": {},
   "outputs": [
    {
     "name": "stderr",
     "output_type": "stream",
     "text": [
      "/srv/home/ecaceres/anaconda2/envs/features/lib/python2.7/site-packages/matplotlib/__init__.py:1350: UserWarning:  This call to matplotlib.use() has no effect\n",
      "because the backend has already been chosen;\n",
      "matplotlib.use() must be called *before* pylab, matplotlib.pyplot,\n",
      "or matplotlib.backends is imported for the first time.\n",
      "\n",
      "  warnings.warn(_use_error_msg)\n",
      "ERROR (theano.gpuarray): Could not initialize pygpu, support disabled\n",
      "Traceback (most recent call last):\n",
      "  File \"/srv/home/ecaceres/anaconda2/envs/features/lib/python2.7/site-packages/theano/gpuarray/__init__.py\", line 227, in <module>\n",
      "    use(config.device)\n",
      "  File \"/srv/home/ecaceres/anaconda2/envs/features/lib/python2.7/site-packages/theano/gpuarray/__init__.py\", line 214, in use\n",
      "    init_dev(device, preallocate=preallocate)\n",
      "  File \"/srv/home/ecaceres/anaconda2/envs/features/lib/python2.7/site-packages/theano/gpuarray/__init__.py\", line 99, in init_dev\n",
      "    **args)\n",
      "  File \"pygpu/gpuarray.pyx\", line 658, in pygpu.gpuarray.init\n",
      "  File \"pygpu/gpuarray.pyx\", line 587, in pygpu.gpuarray.pygpu_init\n",
      "GpuArrayException: Could not load \"libcuda.so\": libcuda.so: cannot open shared object file: No such file or directory\n"
     ]
    }
   ],
   "source": [
    "%matplotlib inline\n",
    "import glob\n",
    "import json\n",
    "import matplotlib\n",
    "import os\n",
    "import sys\n",
    "\n",
    "sys.path.insert(0,'/srv/home/nmew/myprojects/neural-nets/')\n",
    "from collections import defaultdict, OrderedDict, Counter\n",
    "import common.util as ut\n",
    "from itertools import izip\n",
    "import numpy as np\n",
    "import matplotlib.pyplot as plt\n",
    "import pandas as pd\n",
    "import seaborn as sns\n",
    "from sklearn.metrics import accuracy_score,f1_score, confusion_matrix, r2_score, precision_recall_fscore_support\n",
    "import common.metrics as met\n",
    "import common.plots as plo\n",
    "from common.h5py_loading import load_target_map, load_dataset\n",
    "from common.h5py_data_loader import H5pyDataLoader\n",
    "from common.prediction_analysis import df_from_chembl_export, intersect_truth_prediction\n",
    "from lasagne_nn.run_nn import get_predictions_of_knowns, get_network_from_weights\n",
    "from lasagne_nn.output_loader import df_from_prediction_path\n",
    "import cPickle as pkl\n",
    "# setups\n",
    "matplotlib.rcParams['savefig.dpi'] = 300\n",
    "context = 'paper'\n",
    "\n",
    "    \n",
    "##### misc functions #####\n",
    "class  Experiment(dict):\n",
    "    def __init__(self, name):\n",
    "        self.name = name\n",
    "        self.folds = []\n",
    "        self.converged_epochs = []\n",
    "        self.trained_paths = []\n",
    "      \n",
    "    def __repr__(self):\n",
    "        return str(vars(self))\n",
    "    \n",
    "    def __str__(self):\n",
    "        return json.dumps(vars(self), indent=2)\n",
    "        \n",
    "    def set_converged_epoch(self, epoch, train_path, fold=None):        \n",
    "        self.folds.append(fold)\n",
    "        self.converged_epochs.append(epoch)\n",
    "        self.trained_paths.append(train_path)\n",
    "\n",
    "        \n",
    "def get_expts(expt_json):\n",
    "    \"\"\"\n",
    "    Given a filename for a pnr experiment that contains converged epochs, \n",
    "    \n",
    "    Parameters\n",
    "    ----------\n",
    "    expt_json : str\n",
    "        *.json containing experiment converged epochs, folds, and paths\n",
    "\n",
    "    Returns\n",
    "    -------\n",
    "    expt_epochs_json : list of Experiment\n",
    "        list of class Experiment containing names, trained_paths, folds, and converged epochs for an experiment\n",
    "\n",
    "    \"\"\"\n",
    "    converged_epochs = (expt_json)\n",
    "    with open(converged_epochs, \"r\") as fp:\n",
    "        expts = json.load(fp)\n",
    "    experiments = []\n",
    "    for e in expts:\n",
    "        tmp = Experiment(e[\"name\"])\n",
    "        for epoch, path, fold in izip(e[\"converged_epochs\"], e[\"trained_paths\"], e[\"folds\"]):\n",
    "            tmp.set_converged_epoch(epoch, path, fold)\n",
    "        experiments.append(tmp)\n",
    "        del(tmp)    \n",
    "    return experiments\n",
    "\n",
    "\n",
    "##### Filesystem handler functions #####\n",
    "\n",
    "def get_env_var(handle):\n",
    "    \"\"\"Get an environment variable given the handle for the bash variable\n",
    "    \n",
    "    Params\n",
    "    ========\n",
    "    handle : str\n",
    "        handle for a bash variable\n",
    "        \n",
    "    Returns\n",
    "    ========\n",
    "    tmp : str\n",
    "        environment variable as a string\n",
    "    \"\"\" \n",
    "    tmp = os.getenv(handle)\n",
    "    if not tmp:\n",
    "        raise LookupError(\"Environment variable: {} not set.\".format(handle))\n",
    "    return tmp.strip(\"'\")\n",
    "\n",
    "\n",
    "##### Data reader functions #####\n",
    "\n",
    "def get_easy_percentages(df):\n",
    "    df['enforced_neg_percent'] = (100 / (1 + df['positive_negative_ratio']))\n",
    "    df['ppos'] = 100 - df[\"enforced_neg_percent\"]\n",
    "    df.loc[df['positive_negative_ratio'] == 0.0, 'enforced_neg_percent'] = 0.0\n",
    "    df.loc[df['positive_negative_ratio'] == 0.0, 'ppos'] = 100.0  \n",
    "    df = df.sort_values('enforced_neg_percent')\n",
    "    return df\n",
    "\n",
    "\n",
    "##### Plotting functions #####\n",
    "\n",
    "def set_nice_spines(ax=None, sides=('left', 'bottom'), color=\"black\", linewidth=1.5):\n",
    "    \"\"\"\n",
    "    Nice spine formatting for plots\n",
    "    \"\"\"\n",
    "    if not ax:\n",
    "        ax = plt.gca()\n",
    "    for side in sides:\n",
    "        ax.spines[side].set_visible(True)\n",
    "        ax.spines[side].set_color(color)\n",
    "        ax.spines[side].set_linewidth(linewidth)\n",
    "        \n",
    "\n",
    "def plot_metrics_by_pnr(resdf, metrics, palette=None, metric_names=None, label_suffix='', linestyle='-', hatch=''):  \n",
    "    \"\"\"\n",
    "    Plots a positive-negative ratio experiment given a dataframe of experiments, metrics of interest, and a list of converged epochs\n",
    "    \n",
    "    Parameters\n",
    "    ----------\n",
    "    df : pd.DataFrame\n",
    "        pandas dataframe containing experiment metrics and info\n",
    "    metric : str\n",
    "        metric of interest (e.g. r2_train)\n",
    "    expt_epochs_json : list of dicts\n",
    "        list of dicts containing: trained_paths, folds, and converged epochs for an experiment\n",
    "        \n",
    "    Kwargs\n",
    "    -------\n",
    "    metric_names : list\n",
    "        list of names for provided metrics\n",
    "    label_suffix : str\n",
    "        Name to add to end of legend names (Default '')\n",
    "    linestyle : str\n",
    "        matplotlib plotting variable for linestyle (Default '-')\n",
    "    hatch : str\n",
    "        What hatch to use for matplotlib filling of fold variance (Default '')\n",
    "    \"\"\"\n",
    "    if metric_names is None:\n",
    "        metric_names = list(metrics)\n",
    "    if not palette:\n",
    "        palette = sns.color_palette(\"husl\", len(metrics))\n",
    "\n",
    "    for i, (metric, metric_name) in enumerate(zip(metrics, metric_names)):\n",
    "        metric_df = resdf.sort_values('positive_negative_ratio')\n",
    "        metric_df = metric_df[['positive_negative_ratio', 'enforced_neg_percent', metric]]\n",
    "        metric_df['is_mean'] = False\n",
    "        metric_df = metric_df.rename(index=str, columns={'Score':metric})\n",
    "        cfold_ctr = metric_df.groupby(\"positive_negative_ratio\").count()\n",
    "        missing_vals = cfold_ctr[cfold_ctr[metric]<5].index.values\n",
    "        if len(missing_vals) > 0:\n",
    "            print(\"Missing values for PNR {} tests: {}\".format(metric, missing_vals))\n",
    "        metric_df = metric_df[['enforced_neg_percent', metric]]\n",
    "\n",
    "        mean_df = metric_df.groupby('enforced_neg_percent', as_index=False).mean()        \n",
    "        max_err = metric_df.groupby('enforced_neg_percent', as_index=False).max()\n",
    "        min_err = metric_df.groupby('enforced_neg_percent', as_index=False).min()\n",
    "\n",
    "\n",
    "        plt.plot(mean_df['enforced_neg_percent'], mean_df[metric], label=metric_name+label_suffix, linestyle=linestyle, color=palette[i], lw=2)\n",
    "        plt.fill_between(mean_df['enforced_neg_percent'], min_err[metric], max_err[metric], alpha=.25, color=palette[i], hatch=hatch)\n"
   ]
  },
  {
   "cell_type": "code",
   "execution_count": 2,
   "metadata": {
    "collapsed": true
   },
   "outputs": [],
   "source": [
    "# data handling\n",
    "\n",
    "def get_preds(dset_dict, expt, dset, fold, ratio=None):\n",
    "    indir = data_dict[expt][\"indir\"]\n",
    "    if ratio is not None:\n",
    "        knowns_file = data_dict[expt][\"knowns_fmt\"].format(indir, ratio, dset, fold)\n",
    "        preds_file = data_dict[expt][\"preds_fmt\"].format(indir, ratio, dset, fold)\n",
    "    else:\n",
    "        knowns_file = data_dict[expt][\"knowns_fmt\"].format(indir, dset, fold)\n",
    "        preds_file = data_dict[expt][\"preds_fmt\"].format(indir, dset, fold)\n",
    "        \n",
    "    prediction = np.load(preds_file)\n",
    "    truth = np.load(knowns_file)\n",
    "    \n",
    "    if dset_dict[expt][\"npz_fmt\"] == True:\n",
    "        prediction = prediction[\"arr_0\"]\n",
    "        truth = truth[\"arr_0\"]\n",
    "    return prediction, truth\n",
    "\n",
    "\n",
    "def predictions_knowns_from_trained_network_and_data(hdf5_file, weights_filename, build_nn_script,\n",
    "                                                     test_indices_file=None,\n",
    "                                                     npKi=False, multitask=False,\n",
    "                                                     network_target_map_file=None,\n",
    "                                                     dataset_target_map_file=None):\n",
    "    network = get_network_from_weights(weights_filename, build_nn=build_nn_script)\n",
    "    network_target_map = load_target_map(network_target_map_file) if network_target_map_file else None\n",
    "    data_loader = H5pyDataLoader(hdf5_file=hdf5_file, test_indices_file=test_indices_file,\n",
    "                                 npKi=npKi, multitask=multitask,\n",
    "                                 target_map_file=dataset_target_map_file,\n",
    "                                 train_percentage=None)\n",
    "    data_loader.load_training_data()\n",
    "    predictions, knowns = get_predictions_of_knowns(data_loader=data_loader,\n",
    "                                                    weights_filename=weights_filename,\n",
    "                                                    indices=data_loader.train_indices,\n",
    "                                                    network=network,\n",
    "                                                    network_target_map=network_target_map)\n",
    "    return predictions, knowns"
   ]
  },
  {
   "cell_type": "code",
   "execution_count": 3,
   "metadata": {
    "collapsed": true
   },
   "outputs": [],
   "source": [
    "home_save_dir = get_env_var(\"HOME_SAVE_BASE\")\n",
    "srv_save_dir = get_env_var(\"DATA_SAVE_BASE\")\n",
    "proj_dir = get_env_var(\"NMEW_PROJ_BASE\")\n",
    "loss_dir = \"{}/nnet_output\".format(srv_save_dir)\n",
    "\n",
    "std_sma_dir = \"{}/lr_nesterov_1024_2048_3072/\".format(loss_dir)\n",
    "std_sma_basepath = os.path.join(std_sma_dir, \"STD_SMA_RATIOS\")\n",
    "\n",
    "neg_rm_dir = \"{}/all_negs_stochastic/\".format(loss_dir)\n",
    "neg_rm_basepath = os.path.join(neg_rm_dir, \"NEG_RM_RATIOS\")"
   ]
  },
  {
   "cell_type": "code",
   "execution_count": 4,
   "metadata": {
    "collapsed": true
   },
   "outputs": [],
   "source": [
    "preds_dir = \"{}/20190410_SMA_Investigation/predictions\".format(srv_save_dir)\n",
    "sma_pnr_epochs = get_expts(\"{}/{}/experiments.json\".format(preds_dir, \"STD_SMA_RATIOS\"))\n",
    "neg_rm_pnr_epochs = get_expts(\"{}/{}/experiments.json\".format(preds_dir, \"NEG_RM_RATIOS\"))"
   ]
  },
  {
   "cell_type": "code",
   "execution_count": 5,
   "metadata": {
    "collapsed": true
   },
   "outputs": [],
   "source": [
    "reg_data_file = \"./regression_preds_file_lookup.pkl\"\n",
    "with open(reg_data_file, \"rb\") as f:\n",
    "    data_dict = pkl.load(f)"
   ]
  },
  {
   "cell_type": "code",
   "execution_count": 6,
   "metadata": {
    "collapsed": true
   },
   "outputs": [],
   "source": [
    "df = pd.DataFrame(columns=[\"expt\", \"dset\", \"fold\", \"ratio\", \"AUROC\", \"AUPRC\", \"R2\"])\n",
    "thresh=5.0\n",
    "expts = [\"STD_SMA_RATIOS\", \"NEG_RM_RATIOS\"]\n",
    "make_data = False\n",
    "\n",
    "if make_data:\n",
    "    for expt in expts:\n",
    "        ratio_explicit = data_dict[expt][\"ratios\"]\n",
    "        for ratio in ratio_explicit:\n",
    "            for dset in [\"drugmatrix\", \"timesplit\", \"test\", \"train\"]:\n",
    "                for fold in np.arange(0,5,1):\n",
    "                    prediction, truth = get_preds(data_dict, expt, dset, fold, ratio=ratio)\n",
    "\n",
    "                    if dset != \"drugmatrix\":\n",
    "                        known_mask = ~np.isnan(truth)\n",
    "                        truth = truth[known_mask]\n",
    "                        prediction = prediction[known_mask]\n",
    "\n",
    "                    auroc, _, _, _, _ = met.compute_binary_auc(prediction, truth, \n",
    "                                                                   threshold=thresh, x_y_type=\"tpr-fpr\")\n",
    "                    auprc, _, _, _, _ = met.compute_binary_auc(prediction, truth, \n",
    "                                                                   threshold=thresh, x_y_type=\"precision-recall\")\n",
    "                    if dset == \"drugmatrix\":\n",
    "                        known_mask = ~np.isnan(truth)\n",
    "                        truth = truth[known_mask]\n",
    "                        prediction = prediction[known_mask]\n",
    "\n",
    "                    r2 = met.compute_rsquared(prediction, truth)\n",
    "                    input_data={\"expt\":[expt],\"dset\" :[dset], \"fold\": [fold], \"ratio\":[ratio], \"AUROC\":[auroc], \n",
    "                                \"AUPRC\":[auprc], \"R2\":[r2]}\n",
    "                    df = pd.concat([df, pd.DataFrame(input_data)], sort=False)\n",
    "\n",
    "    plot_data_save_base = \"{}/20190410_SMA_Investigation/plot_data/regression\".format(get_env_var(\"DATA_SAVE_BASE\"))\n",
    "    df.to_csv(\"{}/ratio_plot_vals.tsv\".format(plot_data_save_base), sep='\\t')            "
   ]
  },
  {
   "cell_type": "code",
   "execution_count": 7,
   "metadata": {
    "collapsed": true
   },
   "outputs": [],
   "source": [
    "plot_data_save_base = \"{}/20190410_SMA_Investigation/plot_data/regression\".format(get_env_var(\"DATA_SAVE_BASE\"))\n",
    "sma_df = pd.read_csv(\"{}/ratio_plot_vals.tsv\".format(plot_data_save_base), sep='\\t', index_col=0)\n",
    "sma_df.columns = [u'expt', u'dset', u'fold', u'positive_negative_ratio', u'AUROC', u'AUPRC', u'R2']\n",
    "sma_df[\"positive_negative_ratio\"] = sma_df.positive_negative_ratio.astype(np.float)\n",
    "sma_df = get_easy_percentages(sma_df)\n"
   ]
  },
  {
   "cell_type": "code",
   "execution_count": 8,
   "metadata": {},
   "outputs": [
    {
     "name": "stderr",
     "output_type": "stream",
     "text": [
      "/srv/home/ecaceres/anaconda2/envs/features/lib/python2.7/site-packages/pandas/core/generic.py:4401: SettingWithCopyWarning: \n",
      "A value is trying to be set on a copy of a slice from a DataFrame.\n",
      "Try using .loc[row_indexer,col_indexer] = value instead\n",
      "\n",
      "See the caveats in the documentation: http://pandas.pydata.org/pandas-docs/stable/indexing.html#indexing-view-versus-copy\n",
      "  self[name] = value\n",
      "/srv/home/ecaceres/anaconda2/envs/features/lib/python2.7/site-packages/ipykernel_launcher.py:102: SettingWithCopyWarning: \n",
      "A value is trying to be set on a copy of a slice from a DataFrame.\n",
      "Try using .loc[row_indexer,col_indexer] = value instead\n",
      "\n",
      "See the caveats in the documentation: http://pandas.pydata.org/pandas-docs/stable/indexing.html#indexing-view-versus-copy\n",
      "/srv/home/ecaceres/anaconda2/envs/features/lib/python2.7/site-packages/ipykernel_launcher.py:103: SettingWithCopyWarning: \n",
      "A value is trying to be set on a copy of a slice from a DataFrame.\n",
      "Try using .loc[row_indexer,col_indexer] = value instead\n",
      "\n",
      "See the caveats in the documentation: http://pandas.pydata.org/pandas-docs/stable/indexing.html#indexing-view-versus-copy\n",
      "/srv/home/ecaceres/anaconda2/envs/features/lib/python2.7/site-packages/pandas/core/indexing.py:543: SettingWithCopyWarning: \n",
      "A value is trying to be set on a copy of a slice from a DataFrame.\n",
      "Try using .loc[row_indexer,col_indexer] = value instead\n",
      "\n",
      "See the caveats in the documentation: http://pandas.pydata.org/pandas-docs/stable/indexing.html#indexing-view-versus-copy\n",
      "  self.obj[item] = s\n",
      "/srv/home/ecaceres/anaconda2/envs/features/lib/python2.7/site-packages/ipykernel_launcher.py:10: SettingWithCopyWarning: \n",
      "A value is trying to be set on a copy of a slice from a DataFrame\n",
      "\n",
      "See the caveats in the documentation: http://pandas.pydata.org/pandas-docs/stable/indexing.html#indexing-view-versus-copy\n",
      "  # Remove the CWD from sys.path while we load stuff.\n",
      "/srv/home/ecaceres/anaconda2/envs/features/lib/python2.7/site-packages/ipykernel_launcher.py:11: SettingWithCopyWarning: \n",
      "A value is trying to be set on a copy of a slice from a DataFrame\n",
      "\n",
      "See the caveats in the documentation: http://pandas.pydata.org/pandas-docs/stable/indexing.html#indexing-view-versus-copy\n",
      "  # This is added back by InteractiveShellApp.init_path()\n"
     ]
    }
   ],
   "source": [
    "other_df = pd.read_csv(\"{}/neighbors_plot_vals.tsv\".format(plot_data_save_base), sep='\\t', index_col=0)\n",
    "other_df.columns = [u'expt', u'dset', u'fold', u'positive_negative_ratio', u'AUROC', u'AUPRC', u'R2']\n",
    "other_df[\"positive_negative_ratio\"] = other_df.positive_negative_ratio.astype(np.float)\n",
    "other_df = get_easy_percentages(other_df)\n",
    "other_expts = ['NEG_RM', 'STD']\n",
    "to_add = other_df[other_df.expt.isin(other_expts)]\n",
    "to_add.positive_negative_ratio=0.0\n",
    "to_add = get_easy_percentages(to_add)\n",
    "m = to_add[\"expt\"] == \"NEG_RM\"\n",
    "to_add.expt[m] = 'NEG_RM_RATIOS'\n",
    "to_add.expt[~m] = 'STD_SMA_RATIOS'\n",
    "\n",
    "df = pd.concat([sma_df, to_add])"
   ]
  },
  {
   "cell_type": "code",
   "execution_count": 9,
   "metadata": {
    "collapsed": true
   },
   "outputs": [],
   "source": [
    "sma_resdf = df[df.expt == \"STD_SMA_RATIOS\"]\n",
    "neg_resdf = df[df.expt == \"NEG_RM_RATIOS\"]"
   ]
  },
  {
   "cell_type": "code",
   "execution_count": 21,
   "metadata": {
    "scrolled": false
   },
   "outputs": [
    {
     "data": {
      "text/plain": [
       "<matplotlib.figure.Figure at 0x7f873312a7d0>"
      ]
     },
     "metadata": {},
     "output_type": "display_data"
    },
    {
     "data": {
      "text/plain": [
       "<matplotlib.figure.Figure at 0x7f8732fb1190>"
      ]
     },
     "metadata": {},
     "output_type": "display_data"
    },
    {
     "data": {
      "text/plain": [
       "<matplotlib.figure.Figure at 0x7f8733326990>"
      ]
     },
     "metadata": {},
     "output_type": "display_data"
    },
    {
     "data": {
      "text/plain": [
       "<matplotlib.figure.Figure at 0x7f873a6bae10>"
      ]
     },
     "metadata": {},
     "output_type": "display_data"
    }
   ],
   "source": [
    "axes_size = 20\n",
    "legend_size= 20\n",
    "legend_col = 2\n",
    "title_size=25\n",
    "\n",
    "name_dict = {\n",
    "    \"drugmatrix\" : \"Drug Matrix\",\n",
    "    \"timesplit\" : \"Time Split\",\n",
    "    \"test\" : \"Test\",\n",
    "    \"train\" : \"Train\",\n",
    "}\n",
    "\n",
    "metrics = [\"AUROC\", \"AUPRC\", \"R2\"]\n",
    "metric_names = metrics\n",
    "\n",
    "dsets = [\"drugmatrix\", \"timesplit\", \"test\", \"train\"]\n",
    "\n",
    "\n",
    "for d in dsets:\n",
    "    fig, ax = plt.subplots(figsize=(20,12))\n",
    "    sns.set_style(\"whitegrid\")\n",
    "    palette = sns.color_palette(\"husl\", len(metrics))\n",
    "\n",
    "    plot_metrics_by_pnr(sma_resdf[sma_resdf[\"dset\"]==d], metrics, metric_names=metric_names, palette=palette, label_suffix=\" SNA\")\n",
    "    plot_metrics_by_pnr(neg_resdf[neg_resdf[\"dset\"]==d], metrics, metric_names=metric_names, palette=palette, label_suffix=' Negatives Removed +SNA', linestyle='--', hatch='//')\n",
    "    set_nice_spines(ax=ax)\n",
    "#     plt.title(d, fontsize=30)\n",
    "    \n",
    "    plt.ylim(ymin=0.)\n",
    "    sns.despine()\n",
    "    set_nice_spines(ax)\n",
    "    ax.xaxis.grid(True, which='major', linestyle=':') \n",
    "    ax.set_xlim(0,101)\n",
    "    ax.set_ylim(0,1.01)\n",
    "\n",
    "    ax.yaxis.grid(True, which='major', linestyle=':')\n",
    "    ax.tick_params(top=False, right=False)\n",
    "\n",
    "    plt.suptitle('{} Regression Network Performance on Standard vs. Negative-removed Models'.format(name_dict[d]), size=title_size)\n",
    "    plt.xlabel('Percent Negative Composition aim for training data (by protein target when # negatives < # positives)', size=axes_size)\n",
    "    plt.ylabel('Score', size=axes_size)\n",
    "    plt.legend(loc='lower center')\n",
    "    plt.legend(bbox_to_anchor=(0, -0.25), loc=3, borderaxespad=0., fontsize=legend_size, ncol=legend_col)\n",
    "    sns.set_context(\"poster\")\n",
    "    save_dir = \"{}/paper_figs\".format(get_env_var(\"HOME\"))\n",
    "    plt.savefig(\"{}/{}_regression_SNA_ratios.png\".format(save_dir, d), dpi=300)\n",
    "    plt.clf()\n",
    "    "
   ]
  },
  {
   "cell_type": "code",
   "execution_count": 11,
   "metadata": {
    "collapsed": true
   },
   "outputs": [],
   "source": [
    "grouped = sma_resdf.groupby([\"expt\", \"dset\", \"positive_negative_ratio\", \"enforced_neg_percent\", \"ppos\"])\n",
    "g1 = grouped.mean()\n",
    "g2 = grouped.std()\n",
    "g2.columns = [\"fold_std\", \"AUROC std\", \"AUPRC std\", \"R2 std\"]\n",
    "sma_ratio_df = pd.merge(g1.reset_index(), g2.reset_index(), on=[\"expt\", \"dset\", \"positive_negative_ratio\", \n",
    "                                                                \"enforced_neg_percent\", \"ppos\"])\n"
   ]
  },
  {
   "cell_type": "code",
   "execution_count": 12,
   "metadata": {
    "collapsed": true
   },
   "outputs": [],
   "source": [
    "grouped = neg_resdf.groupby([\"expt\", \"dset\", \"positive_negative_ratio\", \"enforced_neg_percent\", \"ppos\"])\n",
    "g1 = grouped.mean()\n",
    "g2 = grouped.std()\n",
    "g2.columns = [\"fold_std\", \"AUROC std\", \"AUPRC std\", \"R2 std\"]\n",
    "neg_ratio_df = pd.merge(g1.reset_index(), g2.reset_index(), on=[\"expt\", \"dset\", \"positive_negative_ratio\", \n",
    "                                                                \"enforced_neg_percent\", \"ppos\"])"
   ]
  },
  {
   "cell_type": "code",
   "execution_count": 13,
   "metadata": {
    "collapsed": true
   },
   "outputs": [],
   "source": [
    "all_df = pd.concat([sma_ratio_df, neg_ratio_df]).groupby([\"dset\", \"expt\", \"positive_negative_ratio\", \n",
    "                                                                \"enforced_neg_percent\", \"ppos\"]).mean()"
   ]
  },
  {
   "cell_type": "code",
   "execution_count": 14,
   "metadata": {
    "collapsed": true
   },
   "outputs": [],
   "source": [
    "all_df = all_df[['AUROC', 'AUROC std', 'AUPRC', 'AUPRC std', 'R2', 'R2 std']]"
   ]
  },
  {
   "cell_type": "code",
   "execution_count": 15,
   "metadata": {
    "collapsed": true
   },
   "outputs": [],
   "source": [
    "all_df.to_csv(\"{}/all_ratio_plot_mean_std.csv\".format(plot_data_save_base), sep='\\t', index=True)"
   ]
  },
  {
   "cell_type": "code",
   "execution_count": null,
   "metadata": {
    "collapsed": true
   },
   "outputs": [],
   "source": []
  },
  {
   "cell_type": "code",
   "execution_count": null,
   "metadata": {
    "collapsed": true
   },
   "outputs": [],
   "source": []
  },
  {
   "cell_type": "code",
   "execution_count": null,
   "metadata": {
    "collapsed": true
   },
   "outputs": [],
   "source": []
  }
 ],
 "metadata": {
  "kernelspec": {
   "display_name": "Python 2",
   "language": "python",
   "name": "python2"
  },
  "language_info": {
   "codemirror_mode": {
    "name": "ipython",
    "version": 2
   },
   "file_extension": ".py",
   "mimetype": "text/x-python",
   "name": "python",
   "nbconvert_exporter": "python",
   "pygments_lexer": "ipython2",
   "version": "2.7.15"
  }
 },
 "nbformat": 4,
 "nbformat_minor": 2
}
