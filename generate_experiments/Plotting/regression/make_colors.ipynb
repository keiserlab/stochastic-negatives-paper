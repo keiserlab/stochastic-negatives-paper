{
 "cells": [
  {
   "cell_type": "code",
   "execution_count": 1,
   "metadata": {
    "collapsed": true
   },
   "outputs": [],
   "source": [
    "%matplotlib inline\n",
    "import cPickle as pkl\n",
    "import seaborn as sns"
   ]
  },
  {
   "cell_type": "code",
   "execution_count": 2,
   "metadata": {
    "collapsed": true
   },
   "outputs": [],
   "source": [
    "\n",
    "bar_blue = (114, 147, 203) # blue\n",
    "bar_orange = (225, 151, 76) # orange\n",
    "bar_green = (132, 186, 91) # green\n",
    "bar_red = (211, 94, 96) # red\n",
    "bar_grey = (128, 133, 133) # grey\n",
    "bar_purple = (144, 103, 167) #  actually purple\n",
    "bar_dark_red = (171, 104, 87) # dark red\n",
    "bar_yellow = (204, 194, 16) # yellow\n",
    "\n",
    "color_dict_bar = {\n",
    "    \"STD\" : bar_red,\n",
    "    \"STD_SMA\" : bar_blue,\n",
    "    \"scrambled_idx_no_SMA\" : bar_grey,\n",
    "    \"scrambled_idx\" : bar_purple,\n",
    "    \"NEG_RM_SMA\" : bar_green,\n",
    "    \"NEG_RM\" : bar_orange,\n",
    "    \"NEG_UW\" : bar_dark_red,\n",
    "    \"SEA_SMA\" : bar_yellow,\n",
    "}\n",
    "\n",
    "color_dict_bar = {k:tuple([float(i)/255 for i in v]) for k,v in color_dict_bar.iteritems()}\n",
    "\n",
    "pt_blue = (57, 106, 177)\n",
    "pt_orange = (218, 124, 48)\n",
    "pt_green = (62, 150, 81)\n",
    "pt_red = (204, 37, 41)\n",
    "pt_grey = (83, 81, 84)\n",
    "pt_purple = (107, 76, 154)\n",
    "pt_dark_red = (146, 36, 40)\n",
    "pt_yellow = (148, 139, 61)\n",
    "\n",
    "color_dict_pt = {\n",
    "    \"STD\" : pt_red,\n",
    "    \"STD_SMA\": pt_blue,\n",
    "    \"scrambled_idx_no_SMA\" : pt_grey,\n",
    "    \"scrambled_idx\" : pt_purple,\n",
    "    \"NEG_RM_SMA\" : pt_green,\n",
    "    \"NEG_RM\" : pt_orange,\n",
    "    \"NEG_UW\" : pt_dark_red,\n",
    "    \"SEA_SMA\" : pt_yellow\n",
    "}\n",
    "color_dict_pt = {k:tuple([float(i)/255 for i in v]) for k,v in color_dict_pt.iteritems()}\n"
   ]
  },
  {
   "cell_type": "code",
   "execution_count": 3,
   "metadata": {
    "collapsed": true
   },
   "outputs": [],
   "source": [
    "sns.set(style=\"white\")\n",
    "sns.set_context(\"talk\")\n"
   ]
  },
  {
   "cell_type": "code",
   "execution_count": 4,
   "metadata": {},
   "outputs": [
    {
     "data": {
      "image/png": "[encoded data removed]",
      "text/plain": [
       "<matplotlib.figure.Figure at 0x7fe697d9dc90>"
      ]
     },
     "metadata": {},
     "output_type": "display_data"
    }
   ],
   "source": [
    "exptsplus = ['scrambled_idx_no_SMA', 'STD', 'NEG_RM', 'scrambled_idx', 'STD_SMA', 'NEG_RM_SMA', \"SEA_SMA\", \"NEG_UW\"]\n",
    "sns.palplot([color_dict_pt[i] for i in exptsplus])"
   ]
  },
  {
   "cell_type": "code",
   "execution_count": 5,
   "metadata": {},
   "outputs": [
    {
     "data": {
      "image/png": "[encoded data removed]",
      "text/plain": [
       "<matplotlib.figure.Figure at 0x7fe68d086c10>"
      ]
     },
     "metadata": {},
     "output_type": "display_data"
    }
   ],
   "source": [
    "exptsplus = ['scrambled_idx_no_SMA', 'STD', 'NEG_RM', 'scrambled_idx', 'STD_SMA', 'NEG_RM_SMA', \"SEA_SMA\", \"NEG_UW\"]\n",
    "sns.palplot([color_dict_bar[i] for i in exptsplus])"
   ]
  },
  {
   "cell_type": "code",
   "execution_count": 6,
   "metadata": {
    "collapsed": true
   },
   "outputs": [],
   "source": [
    "with open(\"./color_dict_pt.pkl\", \"wb\") as f: \n",
    "    pkl.dump(color_dict_pt, f)\n",
    "with open(\"./color_dict_bar.pkl\", \"wb\") as f: \n",
    "    pkl.dump(color_dict_bar, f)"
   ]
  },
  {
   "cell_type": "code",
   "execution_count": null,
   "metadata": {
    "collapsed": true
   },
   "outputs": [],
   "source": []
  }
 ],
 "metadata": {
  "kernelspec": {
   "display_name": "Python 2",
   "language": "python",
   "name": "python2"
  },
  "language_info": {
   "codemirror_mode": {
    "name": "ipython",
    "version": 2
   },
   "file_extension": ".py",
   "mimetype": "text/x-python",
   "name": "python",
   "nbconvert_exporter": "python",
   "pygments_lexer": "ipython2",
   "version": "2.7.15"
  }
 },
 "nbformat": 4,
 "nbformat_minor": 2
}
