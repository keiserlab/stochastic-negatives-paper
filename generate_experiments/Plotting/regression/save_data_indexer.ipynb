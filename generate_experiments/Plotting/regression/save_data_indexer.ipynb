{
 "cells": [
  {
   "cell_type": "code",
   "execution_count": 1,
   "metadata": {
    "collapsed": true
   },
   "outputs": [],
   "source": [
    "import cPickle as pkl\n",
    "import os\n",
    "\n",
    "def get_env_var(handle):\n",
    "    ''' Get an environment variable given the handle for the bash variable'''\n",
    "    tmp = os.getenv(handle)\n",
    "    if not tmp:\n",
    "        raise LookupError(\"Environment variable: {} not set.\".format(handle))\n",
    "    return tmp.strip(\"'\")"
   ]
  },
  {
   "cell_type": "code",
   "execution_count": 2,
   "metadata": {
    "collapsed": true
   },
   "outputs": [],
   "source": [
    "data_dict = {\n",
    "    \"scrambled_idx\" : {\n",
    "        \"indir\": \"{}/20190410_SMA_Investigation/predictions/scrambled_idx\".format(get_env_var(\"DATA_SAVE_BASE\")),\n",
    "        \"train_base\" : \"{}/20190410_SMA_Investigation/trained_nets/lr_nesterov_1024_2048_3072/scrambled_idx\".format(get_env_var(\"DATA_SAVE_BASE\")),\n",
    "        \"train_dir_fmter\" : \"{}/fold_{}/pnr_{}\",\n",
    "        \"knowns_fmt\" : \"{}/scrambled_idx_pnr_{}_{}_fold_{}_regression_knowns.npz\",\n",
    "        \"preds_fmt\" : \"{}/scrambled_idx_pnr_{}_{}_fold_{}_regression_preds.npz\",\n",
    "        \"npz_fmt\" : True, \n",
    "        \"ratios\" : [1.0]\n",
    "    },\n",
    "    \"scrambled_idx_no_SMA\" : {\n",
    "        \"indir\": \"{}/20190410_SMA_Investigation/predictions/scrambled_idx_no_SMA\".format(get_env_var(\"DATA_SAVE_BASE\")),\n",
    "        \"train_base\" : \"{}/20190410_SMA_Investigation/trained_nets/lr_nesterov_1024_2048_3072/scrambled_idx_no_SMA\".format(get_env_var(\"DATA_SAVE_BASE\")),\n",
    "        \"train_dir_fmter\" : \"{}/fold_{}/pnr_{}\",\n",
    "        \"knowns_fmt\" : \"{}/scrambled_idx_no_SMA_pnr_{}_{}_fold_{}_regression_knowns.npz\",\n",
    "        \"preds_fmt\" : \"{}/scrambled_idx_no_SMA_pnr_{}_{}_fold_{}_regression_preds.npz\",\n",
    "        \"npz_fmt\" : True, \n",
    "        \"ratios\" : [1.0]\n",
    "    },\n",
    "    \"SEA_SMA\" : {\n",
    "        \"indir\": \"{}/20190410_SMA_Investigation/predictions/SEA_SMA\".format(get_env_var(\"DATA_SAVE_BASE\")),\n",
    "        \"train_base\" : \"{}/20190410_SMA_Investigation/trained_nets/lr_nesterov_1024_2048_3072/SEA_SMA\".format(get_env_var(\"DATA_SAVE_BASE\")),\n",
    "        \"train_dir_fmter\" : \"{}/fold_{}/pnr_{}\",\n",
    "        \"knowns_fmt\" : \"{}/SEA_SMA_pnr_{}_{}_fold_{}_regression_knowns.npz\",\n",
    "        \"preds_fmt\" : \"{}/SEA_SMA_pnr_{}_{}_fold_{}_regression_preds.npz\",\n",
    "        \"npz_fmt\" : True, \n",
    "        \"ratios\" : [1.0]\n",
    "    },\n",
    "    \"STD_SMA_RATIOS\" : {\n",
    "        \"indir\": \"{}/20190410_SMA_Investigation/predictions/STD_SMA_RATIOS\".format(get_env_var(\"DATA_SAVE_BASE\")),\n",
    "        \"train_base\" : \"{}/20190410_SMA_Investigation/trained_nets/lr_nesterov_1024_2048_3072/STD_SMA_RATIOS\".format(get_env_var(\"DATA_SAVE_BASE\")),\n",
    "        \"train_dir_fmter\" : \"{}/fold_{}/pnr_{}\",\n",
    "        \"knowns_fmt\" : \"{}/STD_SMA_RATIOS_pnr_{}_{}_fold_{}_regression_knowns.npz\",\n",
    "        \"preds_fmt\" : \"{}/STD_SMA_RATIOS_pnr_{}_{}_fold_{}_regression_preds.npz\",\n",
    "        \"npz_fmt\" : True,\n",
    "        \"ratios\": [\"1.0\", \"1.2222\", \"0.8182\", \"1.5\", \"19.0\", \"9.0\", \"4.0\", \"2.3333\", \"0.6666\", \"0.4286\", \"0.25\", \"0.1111\", \"0.0753\"]\n",
    "    },\n",
    "    \"NEG_RM_RATIOS\" : {\n",
    "        \"indir\": \"{}/20190410_SMA_Investigation/predictions/NEG_RM_RATIOS\".format(get_env_var(\"DATA_SAVE_BASE\")),\n",
    "        \"train_base\" : \"{}/20190410_SMA_Investigation/trained_nets/all_negs_stochastic/NEG_RM_RATIOS\".format(get_env_var(\"DATA_SAVE_BASE\")),\n",
    "        \"train_dir_fmter\" : \"{}/fold_{}/pnr_{}\",\n",
    "        \"knowns_fmt\" : \"{}/NEG_RM_RATIOS_pnr_{}_{}_fold_{}_regression_knowns.npz\",\n",
    "        \"preds_fmt\" : \"{}/NEG_RM_RATIOS_pnr_{}_{}_fold_{}_regression_preds.npz\",\n",
    "        \"npz_fmt\" : True,\n",
    "        \"ratios\": [\"1.0\", \"1.2222\", \"0.8182\", \"1.5\", \"19.0\", \"9.0\", \"4.0\", \"2.3333\", \"0.6666\", \"0.4286\", \"0.25\", \"0.1111\", \"0.0753\"]\n",
    "    },\n",
    "    \"STD\" : {\n",
    "        \"indir\": \"{}/20190410_SMA_Investigation/predictions/STD\".format(get_env_var(\"DATA_SAVE_BASE\")),\n",
    "        \"train_base\" : \"{}/20190410_SMA_Investigation/trained_nets/lr_nesterov_1024_2048_3072/STD\".format(get_env_var(\"DATA_SAVE_BASE\")),\n",
    "        \"train_dir_fmter\" : \"{}/fold_{}\",\n",
    "        \"knowns_fmt\" : \"{}/STD_{}_fold_{}_regression_knowns.npz\",\n",
    "        \"preds_fmt\" : \"{}/STD_{}_fold_{}_regression_preds.npz\",\n",
    "        \"npz_fmt\" : True,\n",
    "        \"ratios\": None\n",
    "    },\n",
    "    \"NEG_RM\" : {\n",
    "        \"indir\": \"{}/20190410_SMA_Investigation/predictions/NEG_RM\".format(get_env_var(\"DATA_SAVE_BASE\")),\n",
    "        \"train_base\" : \"{}/20190410_SMA_Investigation/trained_nets/all_negs_stochastic/NEG_RM\".format(get_env_var(\"DATA_SAVE_BASE\")),\n",
    "        \"train_dir_fmter\" : \"{}/fold_{}\",\n",
    "        \"knowns_fmt\" : \"{}/NEG_RM_{}_fold_{}_regression_knowns.npz\",\n",
    "        \"preds_fmt\" : \"{}/NEG_RM_{}_fold_{}_regression_preds.npz\",\n",
    "        \"npz_fmt\" : True,\n",
    "        \"ratios\": None\n",
    "    },\n",
    "    \"NEG_RM_SMA\" : {\n",
    "        \"indir\": \"{}/20190410_SMA_Investigation/predictions/NEG_RM_RATIOS\".format(get_env_var(\"DATA_SAVE_BASE\")),\n",
    "        \"train_base\" : \"{}/20190410_SMA_Investigation/trained_nets/all_negs_stochastic/NEG_RM_RATIOS\".format(get_env_var(\"DATA_SAVE_BASE\")),\n",
    "        \"train_dir_fmter\" : \"{}/fold_{}/pnr_{}\",\n",
    "        \"knowns_fmt\" : \"{}/NEG_RM_RATIOS_pnr_{}_{}_fold_{}_regression_knowns.npz\",\n",
    "        \"preds_fmt\" : \"{}/NEG_RM_RATIOS_pnr_{}_{}_fold_{}_regression_preds.npz\",\n",
    "        \"npz_fmt\" : True,\n",
    "        \"ratios\": [1.0]\n",
    "    },\n",
    "    \"STD_SMA\" : {\n",
    "        \"indir\": \"{}/20190410_SMA_Investigation/predictions/STD_SMA\".format(get_env_var(\"DATA_SAVE_BASE\")),\n",
    "        \"train_base\" : \"{}/20190410_SMA_Investigation/trained_nets/lr_nesterov_1024_2048_3072/STD_SMA\".format(get_env_var(\"DATA_SAVE_BASE\")),\n",
    "        \"train_dir_fmter\" : \"{}/fold_{}\",\n",
    "        \"knowns_fmt\" : \"{}/STD_SMA_{}_fold_{}_regression_knowns.npz\",\n",
    "        \"preds_fmt\" : \"{}/STD_SMA_{}_fold_{}_regression_preds.npz\",\n",
    "        \"npz_fmt\" : True,\n",
    "        \"ratios\": None\n",
    "    },    \n",
    "    \"scrambled_idx_LC\" : {\n",
    "        \"indir\": \"{}/20190410_SMA_Investigation/predictions/scrambled_idx_longer_converge\".format(get_env_var(\"DATA_SAVE_BASE\")),\n",
    "        \"train_base\" : \"{}/20190410_SMA_Investigation/trained_nets/lr_nesterov_1024_2048_3072/scrambled_idx\".format(get_env_var(\"DATA_SAVE_BASE\")),\n",
    "        \"train_dir_fmter\" : \"{}/fold_{}/pnr_{}\",\n",
    "        \"knowns_fmt\" : \"{}/scrambled_idx_pnr_{}_{}_fold_{}_regression_knowns.npz\",\n",
    "        \"preds_fmt\" : \"{}/scrambled_idx_pnr_{}_{}_fold_{}_regression_preds.npz\",\n",
    "        \"npz_fmt\" : True, \n",
    "        \"ratios\" : [1.0]\n",
    "    },\n",
    "    \"scrambled_idx_no_SMA_LC\" : {\n",
    "        \"indir\": \"{}/20190410_SMA_Investigation/predictions/scrambled_idx_no_SMA_longer_converge\".format(get_env_var(\"DATA_SAVE_BASE\")),\n",
    "        \"train_base\" : \"{}/20190410_SMA_Investigation/trained_nets/lr_nesterov_1024_2048_3072/scrambled_idx_no_SMA\".format(get_env_var(\"DATA_SAVE_BASE\")),\n",
    "        \"train_dir_fmter\" : \"{}/fold_{}/pnr_{}\",\n",
    "        \"knowns_fmt\" : \"{}/scrambled_idx_no_SMA_pnr_{}_{}_fold_{}_regression_knowns.npz\",\n",
    "        \"preds_fmt\" : \"{}/scrambled_idx_no_SMA_pnr_{}_{}_fold_{}_regression_preds.npz\",\n",
    "        \"npz_fmt\" : True, \n",
    "        \"ratios\" : [1.0]\n",
    "    },\n",
    "    \"NEG_UW\" : {\n",
    "        \"indir\": \"{}/20190410_SMA_Investigation/predictions/NEG_UW\".format(get_env_var(\"DATA_SAVE_BASE\")),\n",
    "        \"train_base\" : \"{}/20190410_SMA_Investigation/trained_nets/weight_known_negative_loss/NEG_UW\".format(get_env_var(\"DATA_SAVE_BASE\")),\n",
    "        \"train_dir_fmter\" : \"{}/fold_{}\",\n",
    "        \"knowns_fmt\" : \"{}/NEG_UW_{}_fold_{}_regression_knowns.npz\",\n",
    "        \"preds_fmt\" : \"{}/NEG_UW_{}_fold_{}_regression_preds.npz\",\n",
    "        \"npz_fmt\" : True,\n",
    "        \"ratios\": None\n",
    "    },\n",
    "    \"NEG_RM_scrambled\" : {\n",
    "        \"indir\": \"{}/20190410_SMA_Investigation/predictions/NEG_RM_scrambled\".format(get_env_var(\"DATA_SAVE_BASE\")),\n",
    "        \"train_base\" : \"{}/20190410_SMA_Investigation/trained_nets/all_negs_stochastic/NEG_RM_scrambled\".format(get_env_var(\"DATA_SAVE_BASE\")),\n",
    "        \"train_dir_fmter\" : \"{}/fold_{}\",\n",
    "        \"knowns_fmt\" : \"{}/NEG_RM_scrambled_{}_fold_{}_regression_knowns.npz\",\n",
    "        \"preds_fmt\" : \"{}/NEG_RM_scrambled_{}_fold_{}_regression_preds.npz\",\n",
    "        \"npz_fmt\" : True,\n",
    "        \"ratios\": None\n",
    "    },\n",
    "    \"NEG_RM_RATIOS_scrambled\" : {\n",
    "        \"indir\": \"{}/20190410_SMA_Investigation/predictions/NEG_RM_RATIOS_scrambled\".format(get_env_var(\"DATA_SAVE_BASE\")),\n",
    "        \"train_base\" : \"{}/20190410_SMA_Investigation/trained_nets/all_negs_stochastic/NEG_RM_RATIOS_scrambled\".format(get_env_var(\"DATA_SAVE_BASE\")),\n",
    "        \"train_dir_fmter\" : \"{}/fold_{}/pnr_{}\",\n",
    "        \"knowns_fmt\" : \"{}/NEG_RM_RATIOS_scrambled_pnr_{}_{}_fold_{}_regression_knowns.npz\",\n",
    "        \"preds_fmt\" : \"{}/NEG_RM_RATIOS_scrambled_pnr_{}_{}_fold_{}_regression_preds.npz\",\n",
    "        \"npz_fmt\" : True,\n",
    "        \"ratios\": [\"1.0\"]\n",
    "    },\n",
    "    \n",
    "}"
   ]
  },
  {
   "cell_type": "code",
   "execution_count": 3,
   "metadata": {
    "collapsed": true
   },
   "outputs": [],
   "source": [
    "saveas = \"regression_preds_file_lookup.pkl\""
   ]
  },
  {
   "cell_type": "code",
   "execution_count": 4,
   "metadata": {
    "collapsed": true
   },
   "outputs": [],
   "source": [
    "with open(saveas, \"wb\") as f:\n",
    "    pkl.dump(data_dict, f)"
   ]
  },
  {
   "cell_type": "code",
   "execution_count": null,
   "metadata": {
    "collapsed": true
   },
   "outputs": [],
   "source": []
  },
  {
   "cell_type": "code",
   "execution_count": null,
   "metadata": {
    "collapsed": true
   },
   "outputs": [],
   "source": []
  }
 ],
 "metadata": {
  "kernelspec": {
   "display_name": "Python 2",
   "language": "python",
   "name": "python2"
  },
  "language_info": {
   "codemirror_mode": {
    "name": "ipython",
    "version": 2
   },
   "file_extension": ".py",
   "mimetype": "text/x-python",
   "name": "python",
   "nbconvert_exporter": "python",
   "pygments_lexer": "ipython2",
   "version": "2.7.15"
  }
 },
 "nbformat": 4,
 "nbformat_minor": 2
}
