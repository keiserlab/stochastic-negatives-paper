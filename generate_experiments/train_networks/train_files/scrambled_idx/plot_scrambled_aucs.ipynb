{
 "cells": [
  {
   "cell_type": "code",
   "execution_count": 1,
   "metadata": {},
   "outputs": [
    {
     "name": "stderr",
     "output_type": "stream",
     "text": [
      "/srv/home/ecaceres/anaconda2/envs/features/lib/python2.7/site-packages/matplotlib/__init__.py:1357: UserWarning:  This call to matplotlib.use() has no effect\n",
      "because the backend has already been chosen;\n",
      "matplotlib.use() must be called *before* pylab, matplotlib.pyplot,\n",
      "or matplotlib.backends is imported for the first time.\n",
      "\n",
      "  warnings.warn(_use_error_msg)\n",
      "ERROR (theano.gpuarray): Could not initialize pygpu, support disabled\n",
      "Traceback (most recent call last):\n",
      "  File \"/srv/home/ecaceres/anaconda2/envs/features/lib/python2.7/site-packages/theano/gpuarray/__init__.py\", line 227, in <module>\n",
      "    use(config.device)\n",
      "  File \"/srv/home/ecaceres/anaconda2/envs/features/lib/python2.7/site-packages/theano/gpuarray/__init__.py\", line 214, in use\n",
      "    init_dev(device, preallocate=preallocate)\n",
      "  File \"/srv/home/ecaceres/anaconda2/envs/features/lib/python2.7/site-packages/theano/gpuarray/__init__.py\", line 99, in init_dev\n",
      "    **args)\n",
      "  File \"pygpu/gpuarray.pyx\", line 658, in pygpu.gpuarray.init\n",
      "  File \"pygpu/gpuarray.pyx\", line 587, in pygpu.gpuarray.pygpu_init\n",
      "GpuArrayException: Could not load \"libcuda.so\": libcuda.so: cannot open shared object file: No such file or directory\n"
     ]
    }
   ],
   "source": [
    "import os\n",
    "import numpy as np\n",
    "import pandas as pd\n",
    "import matplotlib\n",
    "%matplotlib inline\n",
    "import matplotlib.pyplot as plt\n",
    "import matplotlib.patheffects as path_effects\n",
    "import seaborn as sns\n",
    "from sklearn.metrics import accuracy_score,f1_score, confusion_matrix, r2_score, precision_recall_fscore_support\n",
    "import common.metrics as met\n",
    "import common.plots as plo\n",
    "from common.h5py_loading import load_target_map, load_dataset\n",
    "from common.h5py_data_loader import H5pyDataLoader\n",
    "from common.prediction_analysis import df_from_chembl_export, intersect_truth_prediction\n",
    "from lasagne_nn.run_nn import get_predictions_of_knowns, get_network_from_weights\n",
    "from lasagne_nn.output_loader import df_from_prediction_path"
   ]
  },
  {
   "cell_type": "code",
   "execution_count": 2,
   "metadata": {
    "collapsed": true
   },
   "outputs": [],
   "source": [
    "# data handling\n",
    "\n",
    "def get_env_var(handle):\n",
    "    ''' Get an environment variable given the handle for the bash variable'''\n",
    "    tmp = os.getenv(handle)\n",
    "    if not tmp:\n",
    "        raise LookupError(\"Environment variable: {} not set.\".format(handle))\n",
    "    return tmp.strip(\"'\")\n",
    "\n",
    "def get_preds(dset, fold):\n",
    "    indir=\"{}/output/20180815_Paper_Retrains/predictions/scrambled_idx\".format(get_env_var(\"HOME_SAVE_BASE\"))\n",
    "    knowns_file = \"{}/scrambled_idx_1.0_{}_fold_{}_regression_knowns.npz\".format(indir, dset, fold)\n",
    "    preds_file = \"{}/scrambled_idx_1.0_{}_fold_{}_regression_preds.npz\".format(indir, dset, fold)\n",
    "\n",
    "    pred_npz = np.load(preds_file)\n",
    "    known_npz = np.load(knowns_file)\n",
    "    \n",
    "    prediction = pred_npz[\"arr_0\"]\n",
    "    truth = known_npz[\"arr_0\"]\n",
    "    \n",
    "    return prediction, truth\n",
    "\n",
    "def predictions_knowns_from_trained_network_and_data(hdf5_file, weights_filename, build_nn_script,\n",
    "                                                     test_indices_file=None,\n",
    "                                                     npKi=False, multitask=False,\n",
    "                                                     network_target_map_file=None,\n",
    "                                                     dataset_target_map_file=None):\n",
    "    network = get_network_from_weights(weights_filename, build_nn=build_nn_script)\n",
    "    network_target_map = load_target_map(network_target_map_file) if network_target_map_file else None\n",
    "    data_loader = H5pyDataLoader(hdf5_file=hdf5_file, test_indices_file=test_indices_file,\n",
    "                                 npKi=npKi, multitask=multitask,\n",
    "                                 target_map_file=dataset_target_map_file,\n",
    "                                 train_percentage=None)\n",
    "    data_loader.load_training_data()\n",
    "    predictions, knowns = get_predictions_of_knowns(data_loader=data_loader,\n",
    "                                                    weights_filename=weights_filename,\n",
    "                                                    indices=data_loader.train_indices,\n",
    "                                                    network=network,\n",
    "                                                    network_target_map=network_target_map)\n",
    "    return predictions, knowns"
   ]
  },
  {
   "cell_type": "code",
   "execution_count": 3,
   "metadata": {
    "collapsed": true
   },
   "outputs": [],
   "source": [
    "# plotting \n",
    "\n",
    "def set_nice_spines(ax=None, sides=('left', 'bottom'), color=\"black\", linewidth=1.5):\n",
    "    if not ax:\n",
    "        ax = plt.gca()\n",
    "    for side in sides:\n",
    "        ax.spines[side].set_visible(True)\n",
    "        ax.spines[side].set_color(color)\n",
    "        ax.spines[side].set_linewidth(linewidth)\n",
    "    ax.tick_params(axis='both', labeltop='off', labelright='off')\n",
    "    x_labels = map(str, ax.get_xticks().tolist())\n",
    "    x_labels[:-1] = ['']*(len(x_labels) - 1)\n",
    "    ax.set_xticklabels(x_labels, size=10)\n",
    "    y_labels = map(str, ax.get_yticks().tolist())\n",
    "    y_labels[1:-1] = ['']*(len(y_labels) - 2)\n",
    "    ax.set_yticklabels(y_labels, size=10)\n",
    "    ax.xaxis.labelpad = -10\n",
    "    ax.yaxis.labelpad = -18\n",
    "\n",
    "def plot_roc_curves(train_dir, fold, save_name=None, thresh=6.0):\n",
    "    reload(met)\n",
    "    reload(plo)\n",
    "    figsize = (10, 10)\n",
    "    plt.clf()\n",
    "    current_palette = sns.color_palette(\"deep\")\n",
    "    sns.set_palette(current_palette)\n",
    "    fig, ax = plt.subplots(figsize=figsize)\n",
    "    sns.set_context(\"paper\")\n",
    "    sns.set(font_scale=2)\n",
    "    \n",
    "    labels = []\n",
    "    aucs = []\n",
    "    # TRAIN\n",
    "\n",
    "    prediction, truth = get_preds(\"train\", fold)\n",
    "    known_mask = ~np.isnan(truth)\n",
    "    truth = truth[known_mask]\n",
    "    prediction = prediction[known_mask]\n",
    "    \n",
    "    \n",
    "    auc = plo.plot_binary_auc(prediction, truth, threshold=thresh, plot_rand=False,\n",
    "                              ax=ax, x_y_type='tpr-fpr', show_legend=False)\n",
    "    labels.append((\"Train Set (auc={:0.2f})\".format(auc), \"-\"))\n",
    "\n",
    "    # TEST\n",
    "    \n",
    "    prediction, truth = get_preds(\"test\", fold)\n",
    "    known_mask = ~np.isnan(truth)\n",
    "    truth = truth[known_mask]\n",
    "    prediction = prediction[known_mask]\n",
    "    \n",
    "    auc = plo.plot_binary_auc(prediction, truth, threshold=thresh, plot_rand=False,\n",
    "                              ax=ax, x_y_type='tpr-fpr', show_legend=False)\n",
    "    labels.append((\"Test Set (auc={:0.2f})\".format(auc), \"--\"))\n",
    "    # DM\n",
    "    dm_exprt = '/srv/home/nmew/data/drugmatrix/drugmatrix_full_chembl20_cutoff800.csv'\n",
    "    \n",
    "    \n",
    "    dm_prediction = os.path.join(train_dir, 'drug-matrix', 'model_at_epoch_200_prediction.csv')\n",
    "    tdf, pdf = intersect_truth_prediction(df_from_chembl_export(dm_exprt, fill_unknowns=False),\n",
    "                                          df_from_prediction_path(dm_prediction))\n",
    "    prediction, truth = pdf.values, tdf.values\n",
    "    auc = plo.plot_binary_auc(prediction, truth, threshold=thresh, plot_rand=False,\n",
    "                              ax=ax, x_y_type='tpr-fpr', show_legend=False)\n",
    "    aucs.append(auc)\n",
    "    labels.append((\"Drug Matrix (auc={:0.3f})\".format(auc), \"-.\"))\n",
    "    \n",
    "    # TS\n",
    "    ts_prediction, ts_truth = get_preds(\"timesplit\", fold)\n",
    "    \n",
    "    known_mask = ~np.isnan(ts_truth)\n",
    "    ts_truth = ts_truth[known_mask]\n",
    "    ts_prediction = ts_prediction[known_mask]\n",
    "    \n",
    "    auc, rand_auc = plo.plot_binary_auc(ts_prediction, ts_truth, threshold=thresh,\n",
    "                                        ax=ax, x_y_type='tpr-fpr', show_legend=False, \n",
    "                                        plot_rand=True)\n",
    "    aucs.append(auc)\n",
    "    labels.append((\"Time Split (auc={:0.2f})\".format(auc), \":\"))\n",
    "    labels.append((\"Random (auc={:0.2f})\".format(0.5), \"--\"))\n",
    "    \n",
    "    # ax = plt.gca()\n",
    "    ax.spines[\"left\"].set_visible(True)\n",
    "    ax.spines[\"left\"].set_color(\"black\")\n",
    "    ax.spines[\"left\"].set_linewidth(1.5)\n",
    "\n",
    "    ax.spines[\"bottom\"].set_visible(True)\n",
    "    ax.spines[\"bottom\"].set_color(\"black\")\n",
    "    ax.spines[\"bottom\"].set_linewidth(1.5)\n",
    "\n",
    "    for line, (label, style) in zip(ax.lines, labels):\n",
    "        line.set_label(label)\n",
    "        line.set_linestyle(style)\n",
    "        line.set_clip_on(False)\n",
    "\n",
    "    plt.legend(loc=\"lower right\")\n",
    "    plt.tight_layout()\n",
    "    plt.title(\"AUROC Curve for fold {}\".format(fold))\n",
    "    \n",
    "    if save_name:\n",
    "        plt.savefig(save_name)\n",
    "        plt.close()\n",
    "    else: \n",
    "        plt.show()\n",
    "    \n",
    "    return\n",
    "    \n",
    "    \n",
    "def plot_test_train_auprc(fold, save_name=None, thresh=6.0, figsize=(4,4), dpi=300):\n",
    "    # TEST AND TRAIN TOGETHER At theshold of 6.0# TEST A \n",
    "    plt.clf()\n",
    "    fig, ax = plt.subplots(figsize=figsize, dpi=dpi)    \n",
    "    sns.set_context(\"paper\")\n",
    "\n",
    "    # train\n",
    "    prediction, truth = get_preds(\"train\", fold)\n",
    "    known_mask = ~np.isnan(truth)\n",
    "    truth = truth[known_mask]\n",
    "    prediction = prediction[known_mask]\n",
    "    tr_auc = plo.plot_binary_auc(prediction, truth, threshold=thresh, \n",
    "                                 ax=ax, x_y_type='precision-recall', \n",
    "                                 show_legend=False, plot_rand=False)\n",
    "\n",
    "    # test\n",
    "    prediction, truth = get_preds(\"test\", fold)\n",
    "    known_mask = ~np.isnan(truth\n",
    "                         \n",
    "                         )\n",
    "    truth = truth[known_mask]\n",
    "    prediction = prediction[known_mask]\n",
    "    auc, rand_auc = plo.plot_binary_auc(prediction, truth, threshold=thresh, \n",
    "                                        ax=ax, x_y_type='precision-recall', \n",
    "                                        show_legend=False)\n",
    "\n",
    "    for side in ['left', 'bottom']:\n",
    "        ax.spines[side].set_visible(True)\n",
    "        ax.spines[side].set_color(\"black\")\n",
    "        ax.spines[side].set_linewidth(1.5)\n",
    "\n",
    "    for line, (label, style) in zip(ax.lines, \n",
    "                                    [(\"Train Set (auc = {:0.3f})\".format(tr_auc), '-'),\n",
    "                                     (\"Test Set  (auc = {:0.3f})\".format(auc), '-'),\n",
    "                                     (\"Random  (auc = {:0.3f})\".format(rand_auc), '--')]):\n",
    "        line.set_label(label)\n",
    "        line.set_linestyle(style)\n",
    "        line.set_clip_on(False)\n",
    "\n",
    "    plt.legend(loc='lower right')\n",
    "    plt.title(\"Scrambled index AUPRC Curve for fold {} at threshold {}\".format(fold, thresh))\n",
    "    \n",
    "    if save_name:\n",
    "        plt.savefig(save_name)\n",
    "        plt.close()\n",
    "    else: \n",
    "        plt.show()\n",
    "    \n",
    "    return\n",
    "\n",
    "def plot_dm_auprc(fold, save_name=None, thresh=6.0, figsize=(6,6), dpi=300):\n",
    "    \n",
    "    prediction, truth = get_preds(\"drugmatrix\", fold)\n",
    "\n",
    "    plt.clf()\n",
    "    fig, ax = plt.subplots(figsize=figsize, dpi=dpi)\n",
    "    sns.set_context(\"paper\")\n",
    "    \n",
    "    auc, rand_auc = plo.plot_binary_auc(prediction, truth, threshold=6., \n",
    "                                        ax=ax, x_y_type='precision-recall', \n",
    "                                        show_legend=False)\n",
    "    \n",
    "    for side in ['left', 'bottom']:\n",
    "        ax.spines[side].set_visible(True)\n",
    "        ax.spines[side].set_color(\"black\")\n",
    "        ax.spines[side].set_linewidth(1.5)\n",
    "        \n",
    "    for line, (label, style) in zip(ax.lines, [(\"DM  (auc = {:0.3f})\".format(auc), '-'),\n",
    "                                               (\"Base (auc = {:0.3f})\".format(rand_auc), '--')]):\n",
    "        line.set_label(label)\n",
    "        line.set_linestyle(style)\n",
    "        line.set_clip_on(False)\n",
    "        \n",
    "#     set_nice_spines(ax)\n",
    "    plt.title(\"Scrambled index AUPRC Curve for fold {} at threshold {}\".format(fold, thresh))\n",
    "    ax.legend(loc='upper right', borderpad=0., borderaxespad=0.25, prop={'family': 'monospace', 'size': 11})\n",
    "    plt.tight_layout()\n",
    "    \n",
    "    if save_name:\n",
    "        plt.savefig(save_name)\n",
    "        plt.close()\n",
    "    else: \n",
    "        plt.show()\n",
    "    \n",
    "    return\n",
    "\n",
    "def plot_ts_auprc(fold, save_name=None, thresh=6.0, figsize=(4,4), dpi=300):\n",
    "    \n",
    "    prediction, truth = get_preds(\"timesplit\", fold)\n",
    "    known_mask = ~np.isnan(truth)\n",
    "    truth = truth[known_mask]\n",
    "    prediction = prediction[known_mask]\n",
    "    \n",
    "    plt.clf()\n",
    "    fig, ax = plt.subplots(figsize=figsize, dpi=dpi)\n",
    "    sns.set_context(\"paper\")\n",
    "    \n",
    "    auc, rand_auc = plo.plot_binary_auc(prediction, truth, threshold=6., \n",
    "                                        x_y_type='precision-recall',\n",
    "                                        ax=ax, show_legend=False)\n",
    "    \n",
    "    for side in ['left', 'bottom']:\n",
    "        ax.spines[side].set_visible(True)\n",
    "        ax.spines[side].set_color(\"black\")\n",
    "        ax.spines[side].set_linewidth(1.5)\n",
    "        \n",
    "    \n",
    "    for line, (label, style) in zip(ax.lines, [(\"TS  (auc = {:0.3f})\".format(auc), '-'),\n",
    "                                               (\"Base (auc = {:0.3f})\".format(rand_auc), '--')]):\n",
    "        line.set_label(label)\n",
    "        line.set_linestyle(style)\n",
    "        line.set_clip_on(False)\n",
    "        \n",
    "    #set_nice_spines(ax)\n",
    "    plt.title(\"Scrambled index AUPRC Curve for fold {} at threshold {}\".format(fold, thresh))\n",
    "    ax.legend(loc='lower right', borderpad=0., borderaxespad=0.25, \n",
    "              prop={'family': 'monospace', 'size': 11})\n",
    "    plt.tight_layout()\n",
    "    \n",
    "    if save_name:\n",
    "        plt.savefig(save_name)\n",
    "        plt.close()\n",
    "    else: \n",
    "        plt.show()\n",
    "    \n",
    "    return\n"
   ]
  },
  {
   "cell_type": "code",
   "execution_count": 4,
   "metadata": {
    "collapsed": true
   },
   "outputs": [],
   "source": [
    "save_base = get_env_var(\"HOME_SAVE_BASE\")\n",
    "train_base = \"{}/output/20180815_Paper_Retrains/trained_nets/lr_nesterov_1024_2048_3072/scrambled_idx\".format(save_base)\n",
    "train_dir_fmter = \"{}/fold_{}/pnr_1.0/\".format(train_base, \"{}\")"
   ]
  },
  {
   "cell_type": "code",
   "execution_count": 5,
   "metadata": {
    "collapsed": true
   },
   "outputs": [],
   "source": [
    "new_save_base = get_env_var(\"HOME\")\n",
    "\n",
    "img_base =\"{}/labgits/lab-notebook-caceres.wiki/images\".format(new_save_base)\n",
    "expt_base = \"{}/20180815_Paper_Retrains/lr_nesterov_1024_2048_3072/scrambled_idx\".format(img_base)\n",
    "auroc_fmter = \"{}/{}_at_fold_{}_thresh_{}_AUROC.png\".format(expt_base, \"{}\", \"{}\", \"{}\")\n",
    "auprc_fmter = \"{}/{}_at_fold_{}_thresh_{}_AUPRC.png\".format(expt_base, \"{}\", \"{}\", \"{}\")"
   ]
  },
  {
   "cell_type": "markdown",
   "metadata": {},
   "source": [
    "## AUROC All at Thresh: 6.0"
   ]
  },
  {
   "cell_type": "code",
   "execution_count": 6,
   "metadata": {
    "collapsed": true
   },
   "outputs": [],
   "source": [
    "thresh=6.0\n",
    "figsize=(4,4)\n",
    "dpi=300"
   ]
  },
  {
   "cell_type": "code",
   "execution_count": 7,
   "metadata": {},
   "outputs": [
    {
     "name": "stderr",
     "output_type": "stream",
     "text": [
      "/srv/home/ecaceres/anaconda2/envs/features/lib/python2.7/site-packages/matplotlib/__init__.py:1357: UserWarning:  This call to matplotlib.use() has no effect\n",
      "because the backend has already been chosen;\n",
      "matplotlib.use() must be called *before* pylab, matplotlib.pyplot,\n",
      "or matplotlib.backends is imported for the first time.\n",
      "\n",
      "  warnings.warn(_use_error_msg)\n",
      "/srv/home/ecaceres/labgits/neural-nets/common/prediction_analysis.py:27: FutureWarning: sortlevel is deprecated, use sort_index(level= ...)\n",
      "  tdf.sortlevel(['target', 'compound'], inplace=True)\n",
      "/srv/home/ecaceres/labgits/neural-nets/lasagne_nn/output_loader.py:81: FutureWarning: sortlevel is deprecated, use sort_index(level= ...)\n",
      "  df.sortlevel(['target', 'compound'], inplace=True)\n",
      "/srv/home/ecaceres/labgits/neural-nets/common/prediction_analysis.py:45: FutureWarning: \n",
      "Passing list-likes to .loc or [] with any missing label will raise\n",
      "KeyError in the future, you can use .reindex() as an alternative.\n",
      "\n",
      "See the documentation here:\n",
      "https://pandas.pydata.org/pandas-docs/stable/indexing.html#deprecate-loc-reindex-listlike\n",
      "  pdf = pdf.loc[tdf.index].dropna()\n",
      "/srv/home/ecaceres/anaconda2/envs/features/lib/python2.7/site-packages/matplotlib/__init__.py:1357: UserWarning:  This call to matplotlib.use() has no effect\n",
      "because the backend has already been chosen;\n",
      "matplotlib.use() must be called *before* pylab, matplotlib.pyplot,\n",
      "or matplotlib.backends is imported for the first time.\n",
      "\n",
      "  warnings.warn(_use_error_msg)\n",
      "/srv/home/ecaceres/anaconda2/envs/features/lib/python2.7/site-packages/matplotlib/__init__.py:1357: UserWarning:  This call to matplotlib.use() has no effect\n",
      "because the backend has already been chosen;\n",
      "matplotlib.use() must be called *before* pylab, matplotlib.pyplot,\n",
      "or matplotlib.backends is imported for the first time.\n",
      "\n",
      "  warnings.warn(_use_error_msg)\n",
      "/srv/home/ecaceres/anaconda2/envs/features/lib/python2.7/site-packages/matplotlib/__init__.py:1357: UserWarning:  This call to matplotlib.use() has no effect\n",
      "because the backend has already been chosen;\n",
      "matplotlib.use() must be called *before* pylab, matplotlib.pyplot,\n",
      "or matplotlib.backends is imported for the first time.\n",
      "\n",
      "  warnings.warn(_use_error_msg)\n",
      "/srv/home/ecaceres/anaconda2/envs/features/lib/python2.7/site-packages/matplotlib/__init__.py:1357: UserWarning:  This call to matplotlib.use() has no effect\n",
      "because the backend has already been chosen;\n",
      "matplotlib.use() must be called *before* pylab, matplotlib.pyplot,\n",
      "or matplotlib.backends is imported for the first time.\n",
      "\n",
      "  warnings.warn(_use_error_msg)\n"
     ]
    },
    {
     "data": {
      "text/plain": [
       "<matplotlib.figure.Figure at 0x7f6c344a2f10>"
      ]
     },
     "metadata": {},
     "output_type": "display_data"
    }
   ],
   "source": [
    "folds = [\"0\", \"1\", \"2\", \"3\", \"4\"]\n",
    "dset_name=\"all\"\n",
    "for f in folds:\n",
    "    plot_roc_curves(train_dir_fmter.format(f), f, save_name=auroc_fmter.format(dset_name, f, thresh), thresh=thresh)"
   ]
  },
  {
   "cell_type": "markdown",
   "metadata": {},
   "source": [
    "## AUPRC Train and Test: Thresh 6.0\n",
    "\n",
    "Good performance on AUPRC for Train set (expected) with higher than expected performance on test set. Is this due to the similarity between small molecules? Pretty close to baseline though..."
   ]
  },
  {
   "cell_type": "code",
   "execution_count": 8,
   "metadata": {
    "collapsed": true
   },
   "outputs": [],
   "source": [
    "thresh=6.0\n",
    "figsize=(4,4)\n",
    "dpi=300"
   ]
  },
  {
   "cell_type": "code",
   "execution_count": 9,
   "metadata": {},
   "outputs": [
    {
     "data": {
      "text/plain": [
       "<matplotlib.figure.Figure at 0x7f6bbd897890>"
      ]
     },
     "metadata": {},
     "output_type": "display_data"
    }
   ],
   "source": [
    "folds = [\"0\", \"1\", \"2\", \"3\", \"4\"]\n",
    "dset_name=\"traintest\"\n",
    "for f in folds:\n",
    "    plot_test_train_auprc(f, save_name=auprc_fmter.format(dset_name, f, thresh), thresh=thresh, figsize=figsize, dpi=dpi)"
   ]
  },
  {
   "cell_type": "code",
   "execution_count": 10,
   "metadata": {},
   "outputs": [
    {
     "data": {
      "text/plain": [
       "<matplotlib.figure.Figure at 0x7f6bbd0c1310>"
      ]
     },
     "metadata": {},
     "output_type": "display_data"
    }
   ],
   "source": [
    "thresh=6.0\n",
    "folds = [\"0\", \"1\", \"2\", \"3\", \"4\"]\n",
    "dset_name=\"drugmatrix\"\n",
    "for f in folds:\n",
    "    plot_dm_auprc(f, save_name=auprc_fmter.format(dset_name, f, thresh), thresh=thresh)"
   ]
  },
  {
   "cell_type": "code",
   "execution_count": 11,
   "metadata": {},
   "outputs": [
    {
     "data": {
      "text/plain": [
       "<matplotlib.figure.Figure at 0x7f6bbc542590>"
      ]
     },
     "metadata": {},
     "output_type": "display_data"
    }
   ],
   "source": [
    "thresh=6.0\n",
    "folds = [\"0\", \"1\", \"2\", \"3\", \"4\"]\n",
    "dset_name=\"timesplit\"\n",
    "for f in folds:\n",
    "    plot_ts_auprc(f, save_name=auprc_fmter.format(dset_name, f, thresh), thresh=thresh,figsize=figsize, dpi=dpi)"
   ]
  },
  {
   "cell_type": "markdown",
   "metadata": {
    "collapsed": true
   },
   "source": [
    "## AUPRC Train and Test: Thresh 5.0"
   ]
  },
  {
   "cell_type": "code",
   "execution_count": null,
   "metadata": {
    "collapsed": true
   },
   "outputs": [],
   "source": [
    "thresh=5.0\n",
    "figsize=(4,4)\n",
    "dpi=300"
   ]
  },
  {
   "cell_type": "code",
   "execution_count": null,
   "metadata": {
    "collapsed": true
   },
   "outputs": [],
   "source": [
    "folds = [\"0\", \"1\", \"2\", \"3\", \"4\"]\n",
    "for f in folds:\n",
    "    plot_test_train_auprc(f, thresh=thresh, figsize=figsize, dpi=dpi)"
   ]
  },
  {
   "cell_type": "code",
   "execution_count": null,
   "metadata": {
    "collapsed": true
   },
   "outputs": [],
   "source": [
    "thresh=6.0\n",
    "folds = [\"0\", \"1\", \"2\", \"3\", \"4\"]\n",
    "for f in folds:\n",
    "    plot_dm_auprc(f, thresh=thresh)"
   ]
  },
  {
   "cell_type": "code",
   "execution_count": null,
   "metadata": {
    "collapsed": true
   },
   "outputs": [],
   "source": [
    "thresh=6.0\n",
    "folds = [\"0\", \"1\", \"2\", \"3\", \"4\"]\n",
    "for f in folds:\n",
    "    plot_ts_auprc(f, thresh=thresh,figsize=figsize, dpi=dpi)"
   ]
  },
  {
   "cell_type": "markdown",
   "metadata": {},
   "source": [
    "## format for MD"
   ]
  },
  {
   "cell_type": "code",
   "execution_count": 16,
   "metadata": {
    "collapsed": true
   },
   "outputs": [],
   "source": [
    "from glob import glob\n",
    "\n",
    "def format_md_img(link_name, rel_plot_loc):\n",
    "    img_formatter=\"[[{}/{}]]\".format(link_name, rel_plot_loc)\n",
    "    return img_formatter\n",
    "\n",
    "def print_table(list_of_headers):\n",
    "    fmter =  \"| {} {}\".format(\"{}\", \" {} \")\n",
    "    for header in list_of_headers:\n",
    "        fmter = fmter.format(\"{} {}\".format(header, \"| {}\"), \"{}\")\n",
    "    fmter = fmter.format(\" \", \" \")\n",
    "    return fmter"
   ]
  },
  {
   "cell_type": "code",
   "execution_count": 17,
   "metadata": {},
   "outputs": [
    {
     "name": "stdout",
     "output_type": "stream",
     "text": [
      "| PNR_1.0 | traintest | timesplit | drugmatrix |      \n",
      "| :--- | :--- | :--- | :--- |      \n",
      "| fold_0 | [[https://github.com/keiserlab/lab-notebook-caceres/wiki/images/20180815_Paper_Retrains/lr_nesterov_1024_2048_3072/scrambled_idx/traintest_at_fold_0_thresh_6.0_AUPRC.png]] | [[https://github.com/keiserlab/lab-notebook-caceres/wiki/images/20180815_Paper_Retrains/lr_nesterov_1024_2048_3072/scrambled_idx/timesplit_at_fold_0_thresh_6.0_AUPRC.png]] | [[https://github.com/keiserlab/lab-notebook-caceres/wiki/images/20180815_Paper_Retrains/lr_nesterov_1024_2048_3072/scrambled_idx/drugmatrix_at_fold_0_thresh_6.0_AUPRC.png]] |      \n",
      "| fold_1 | [[https://github.com/keiserlab/lab-notebook-caceres/wiki/images/20180815_Paper_Retrains/lr_nesterov_1024_2048_3072/scrambled_idx/traintest_at_fold_1_thresh_6.0_AUPRC.png]] | [[https://github.com/keiserlab/lab-notebook-caceres/wiki/images/20180815_Paper_Retrains/lr_nesterov_1024_2048_3072/scrambled_idx/timesplit_at_fold_1_thresh_6.0_AUPRC.png]] | [[https://github.com/keiserlab/lab-notebook-caceres/wiki/images/20180815_Paper_Retrains/lr_nesterov_1024_2048_3072/scrambled_idx/drugmatrix_at_fold_1_thresh_6.0_AUPRC.png]] |      \n",
      "| fold_2 | [[https://github.com/keiserlab/lab-notebook-caceres/wiki/images/20180815_Paper_Retrains/lr_nesterov_1024_2048_3072/scrambled_idx/traintest_at_fold_2_thresh_6.0_AUPRC.png]] | [[https://github.com/keiserlab/lab-notebook-caceres/wiki/images/20180815_Paper_Retrains/lr_nesterov_1024_2048_3072/scrambled_idx/timesplit_at_fold_2_thresh_6.0_AUPRC.png]] | [[https://github.com/keiserlab/lab-notebook-caceres/wiki/images/20180815_Paper_Retrains/lr_nesterov_1024_2048_3072/scrambled_idx/drugmatrix_at_fold_2_thresh_6.0_AUPRC.png]] |      \n",
      "| fold_3 | [[https://github.com/keiserlab/lab-notebook-caceres/wiki/images/20180815_Paper_Retrains/lr_nesterov_1024_2048_3072/scrambled_idx/traintest_at_fold_3_thresh_6.0_AUPRC.png]] | [[https://github.com/keiserlab/lab-notebook-caceres/wiki/images/20180815_Paper_Retrains/lr_nesterov_1024_2048_3072/scrambled_idx/timesplit_at_fold_3_thresh_6.0_AUPRC.png]] | [[https://github.com/keiserlab/lab-notebook-caceres/wiki/images/20180815_Paper_Retrains/lr_nesterov_1024_2048_3072/scrambled_idx/drugmatrix_at_fold_3_thresh_6.0_AUPRC.png]] |      \n",
      "| fold_4 | [[https://github.com/keiserlab/lab-notebook-caceres/wiki/images/20180815_Paper_Retrains/lr_nesterov_1024_2048_3072/scrambled_idx/traintest_at_fold_4_thresh_6.0_AUPRC.png]] | [[https://github.com/keiserlab/lab-notebook-caceres/wiki/images/20180815_Paper_Retrains/lr_nesterov_1024_2048_3072/scrambled_idx/timesplit_at_fold_4_thresh_6.0_AUPRC.png]] | [[https://github.com/keiserlab/lab-notebook-caceres/wiki/images/20180815_Paper_Retrains/lr_nesterov_1024_2048_3072/scrambled_idx/drugmatrix_at_fold_4_thresh_6.0_AUPRC.png]] |      \n",
      "\n",
      "\n",
      "\n"
     ]
    }
   ],
   "source": [
    "github_wiki_link=\"https://github.com/keiserlab/lab-notebook-caceres/wiki/images\"\n",
    "github_expt_base = \"{}/20180815_Paper_Retrains/lr_nesterov_1024_2048_3072/scrambled_idx\".format(github_wiki_link)\n",
    "\n",
    "img_order = ['traintest', 'timesplit', 'drugmatrix']\n",
    "ratio = 1.0\n",
    "headers = [\"PNR_{}\".format(ratio)]\n",
    "headers.extend(img_order)\n",
    "print(print_table(headers))\n",
    "print(print_table([\":---\"]*len(headers)))\n",
    "\n",
    "png_files = glob(auprc_fmter.format(\"*\", \"*\", \"*\"))\n",
    "for f in np.arange(0, 5, 1):\n",
    "    name_fmter = \"fold_{}\".format(str(f))\n",
    "    fold_pngs = [i for i in png_files if name_fmter in i]\n",
    "    fold_pngs = sorted(fold_pngs, key=lambda x: img_order.index(x.split(\"/\")[-1].split(\".\")[0].split(\"_\")[0]))\n",
    "    md_print_fmt = [name_fmter] + [format_md_img(github_expt_base, i.split(\"/\")[-1]) for i in fold_pngs]\n",
    "    print(print_table(md_print_fmt))\n",
    "print(\"\\n\\n\")"
   ]
  },
  {
   "cell_type": "code",
   "execution_count": 18,
   "metadata": {},
   "outputs": [
    {
     "name": "stdout",
     "output_type": "stream",
     "text": [
      "| PNR_1.0 | all |      \n",
      "| :--- | :--- |      \n",
      "| fold_0 | [[https://github.com/keiserlab/lab-notebook-caceres/wiki/images/20180815_Paper_Retrains/lr_nesterov_1024_2048_3072/scrambled_idx/all_at_fold_0_thresh_6.0_AUROC.png]] |      \n",
      "| fold_1 | [[https://github.com/keiserlab/lab-notebook-caceres/wiki/images/20180815_Paper_Retrains/lr_nesterov_1024_2048_3072/scrambled_idx/all_at_fold_1_thresh_6.0_AUROC.png]] |      \n",
      "| fold_2 | [[https://github.com/keiserlab/lab-notebook-caceres/wiki/images/20180815_Paper_Retrains/lr_nesterov_1024_2048_3072/scrambled_idx/all_at_fold_2_thresh_6.0_AUROC.png]] |      \n",
      "| fold_3 | [[https://github.com/keiserlab/lab-notebook-caceres/wiki/images/20180815_Paper_Retrains/lr_nesterov_1024_2048_3072/scrambled_idx/all_at_fold_3_thresh_6.0_AUROC.png]] |      \n",
      "| fold_4 | [[https://github.com/keiserlab/lab-notebook-caceres/wiki/images/20180815_Paper_Retrains/lr_nesterov_1024_2048_3072/scrambled_idx/all_at_fold_4_thresh_6.0_AUROC.png]] |      \n",
      "\n",
      "\n",
      "\n"
     ]
    }
   ],
   "source": [
    "img_order = ['all']\n",
    "ratio = 1.0\n",
    "headers = [\"PNR_{}\".format(ratio)]\n",
    "headers.extend(img_order)\n",
    "print(print_table(headers))\n",
    "print(print_table([\":---\"]*len(headers)))\n",
    "\n",
    "png_files = glob(auroc_fmter.format(\"*\", \"*\", \"*\"))\n",
    "for f in np.arange(0, 5, 1):\n",
    "    name_fmter = \"fold_{}\".format(str(f))\n",
    "    fold_pngs = [i for i in png_files if name_fmter in i]\n",
    "    fold_pngs = sorted(fold_pngs, key=lambda x: img_order.index(x.split(\"/\")[-1].split(\".\")[0].split(\"_\")[0]))\n",
    "    md_print_fmt = [name_fmter] + [format_md_img(github_expt_base, i.split(\"/\")[-1]) for i in fold_pngs]\n",
    "    print(print_table(md_print_fmt))\n",
    "print(\"\\n\\n\")"
   ]
  },
  {
   "cell_type": "code",
   "execution_count": null,
   "metadata": {
    "collapsed": true
   },
   "outputs": [],
   "source": []
  }
 ],
 "metadata": {
  "kernelspec": {
   "display_name": "Python 2",
   "language": "python",
   "name": "python2"
  },
  "language_info": {
   "codemirror_mode": {
    "name": "ipython",
    "version": 2
   },
   "file_extension": ".py",
   "mimetype": "text/x-python",
   "name": "python",
   "nbconvert_exporter": "python",
   "pygments_lexer": "ipython2",
   "version": "2.7.12"
  }
 },
 "nbformat": 4,
 "nbformat_minor": 2
}
