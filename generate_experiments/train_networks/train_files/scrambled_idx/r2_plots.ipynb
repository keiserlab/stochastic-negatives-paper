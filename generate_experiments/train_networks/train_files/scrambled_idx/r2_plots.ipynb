{
 "cells": [
  {
   "cell_type": "code",
   "execution_count": 4,
   "metadata": {},
   "outputs": [],
   "source": [
    "import os\n",
    "import numpy as np\n",
    "import pandas as pd\n",
    "import matplotlib\n",
    "%matplotlib inline\n",
    "import matplotlib.pyplot as plt\n",
    "import matplotlib.patheffects as path_effects\n",
    "import seaborn as sns\n",
    "from sklearn.metrics import accuracy_score,f1_score, confusion_matrix, r2_score, precision_recall_fscore_support\n",
    "import common.metrics as met\n",
    "import common.plots as plo\n",
    "\n",
    "from common.h5py_loading import load_target_map, load_dataset\n",
    "from common.h5py_data_loader import H5pyDataLoader\n",
    "from common.prediction_analysis import df_from_chembl_export, intersect_truth_prediction\n",
    "from lasagne_nn.run_nn import get_predictions_of_knowns, get_network_from_weights\n",
    "from lasagne_nn.output_loader import df_from_prediction_path"
   ]
  },
  {
   "cell_type": "code",
   "execution_count": 5,
   "metadata": {},
   "outputs": [
    {
     "name": "stderr",
     "output_type": "stream",
     "text": [
      "/srv/home/ecaceres/anaconda2/envs/features/lib/python2.7/site-packages/matplotlib/__init__.py:1357: UserWarning:  This call to matplotlib.use() has no effect\n",
      "because the backend has already been chosen;\n",
      "matplotlib.use() must be called *before* pylab, matplotlib.pyplot,\n",
      "or matplotlib.backends is imported for the first time.\n",
      "\n",
      "  warnings.warn(_use_error_msg)\n"
     ]
    }
   ],
   "source": [
    "reload(plo)\n",
    "figsize = (3.5, 3.5)\n",
    "sns.set_style(\"whitegrid\")\n",
    "sns.set_context(\"paper\")\n",
    "\n",
    "def set_nice_spines(ax=None):\n",
    "    if not ax:\n",
    "        ax = plt.gca()\n",
    "    ax.spines[\"left\"].set_visible(True)\n",
    "    ax.spines[\"left\"].set_color(\"black\")\n",
    "    ax.spines[\"left\"].set_linewidth(1.5)\n",
    "\n",
    "    ax.spines[\"bottom\"].set_visible(True)\n",
    "    ax.spines[\"bottom\"].set_color(\"black\")\n",
    "    ax.spines[\"bottom\"].set_linewidth(1.5)\n"
   ]
  },
  {
   "cell_type": "code",
   "execution_count": 24,
   "metadata": {
    "collapsed": true
   },
   "outputs": [],
   "source": [
    "def get_preds(dset, fold):\n",
    "    indir=\"/srv/home/ecaceres/data_save_folders/output/20180815_Paper_Retrains/predictions/scrambled_idx\"\n",
    "    knowns_file = \"{}/scrambled_idx_1.0_{}_fold_{}_regression_knowns.npz\".format(indir, dset, fold)\n",
    "    preds_file = \"{}/scrambled_idx_1.0_{}_fold_{}_regression_preds.npz\".format(indir, dset, fold)\n",
    "\n",
    "    pred_npz = np.load(preds_file)\n",
    "    known_npz = np.load(knowns_file)\n",
    "    \n",
    "    prediction = pred_npz[\"arr_0\"]\n",
    "    truth = known_npz[\"arr_0\"]\n",
    "    \n",
    "    return prediction, truth\n",
    "\n",
    "\n",
    "def get_env_var(handle):\n",
    "    ''' Get an environment variable given the handle for the bash variable'''\n",
    "    tmp = os.getenv(handle)\n",
    "    if not tmp:\n",
    "        raise LookupError(\"Environment variable: {} not set.\".format(handle))\n",
    "    return tmp.strip(\"'\")\n"
   ]
  },
  {
   "cell_type": "code",
   "execution_count": 29,
   "metadata": {},
   "outputs": [],
   "source": [
    "def plot_analysis(d_set, fold, save_name=None):\n",
    "    p, t = get_preds(d_set, fold)\n",
    "    fig, ax = plt.subplots(figsize=(10,10))\n",
    "    sns.set(font_scale=2)\n",
    "    plt.clf()\n",
    "    plt.figure(figsize=figsize)\n",
    "    ax = plo.plot_rsquared(p, t, img_filename=None)\n",
    "\n",
    "    set_nice_spines(ax.ax_joint)\n",
    "    \n",
    "    plt.suptitle('{} at fold {}'.format(d_set, fold), size=18)\n",
    "    plt.xlim([0.0, 13.95])\n",
    "    plt.ylim([0.0, 13.95])\n",
    "    plt.tight_layout()\n",
    "    \n",
    "    if save_name:\n",
    "        plt.savefig(save_name)\n",
    "        plt.close()\n",
    "    else: \n",
    "        plt.show()\n",
    "    \n",
    "    del p\n",
    "    del t"
   ]
  },
  {
   "cell_type": "code",
   "execution_count": 30,
   "metadata": {
    "collapsed": true
   },
   "outputs": [],
   "source": [
    "save_base = get_env_var(\"HOME\")\n",
    "\n",
    "img_base =\"{}/labgits/lab-notebook-caceres.wiki/images\".format(save_base)\n",
    "expt_base = \"{}/20180815_Paper_Retrains/lr_nesterov_1024_2048_3072/scrambled_idx\".format(img_base)\n",
    "img_fmter = \"{}/{}_at_fold_{}_r2.png\".format(expt_base, \"{}\", \"{}\")"
   ]
  },
  {
   "cell_type": "code",
   "execution_count": 31,
   "metadata": {
    "collapsed": true
   },
   "outputs": [],
   "source": [
    "!mkdir -p $expt_base"
   ]
  },
  {
   "cell_type": "code",
   "execution_count": 32,
   "metadata": {},
   "outputs": [
    {
     "data": {
      "text/plain": [
       "<matplotlib.figure.Figure at 0x7ff90e21bd10>"
      ]
     },
     "metadata": {},
     "output_type": "display_data"
    },
    {
     "data": {
      "text/plain": [
       "<matplotlib.figure.Figure at 0x7ff81d8f2d50>"
      ]
     },
     "metadata": {},
     "output_type": "display_data"
    },
    {
     "data": {
      "text/plain": [
       "<matplotlib.figure.Figure at 0x7ff90af976d0>"
      ]
     },
     "metadata": {},
     "output_type": "display_data"
    },
    {
     "data": {
      "text/plain": [
       "<matplotlib.figure.Figure at 0x7ff8254762d0>"
      ]
     },
     "metadata": {},
     "output_type": "display_data"
    },
    {
     "data": {
      "text/plain": [
       "<matplotlib.figure.Figure at 0x7ff8a15cf390>"
      ]
     },
     "metadata": {},
     "output_type": "display_data"
    },
    {
     "data": {
      "text/plain": [
       "<matplotlib.figure.Figure at 0x7ff825469d50>"
      ]
     },
     "metadata": {},
     "output_type": "display_data"
    },
    {
     "data": {
      "text/plain": [
       "<matplotlib.figure.Figure at 0x7ff85c57a990>"
      ]
     },
     "metadata": {},
     "output_type": "display_data"
    },
    {
     "data": {
      "text/plain": [
       "<matplotlib.figure.Figure at 0x7ff85c57a710>"
      ]
     },
     "metadata": {},
     "output_type": "display_data"
    },
    {
     "data": {
      "text/plain": [
       "<matplotlib.figure.Figure at 0x7ff85c524f50>"
      ]
     },
     "metadata": {},
     "output_type": "display_data"
    },
    {
     "data": {
      "text/plain": [
       "<matplotlib.figure.Figure at 0x7ff89b83e650>"
      ]
     },
     "metadata": {},
     "output_type": "display_data"
    }
   ],
   "source": [
    "d_set = \"timesplit\"\n",
    "folds = [\"0\", \"1\", \"2\", \"3\", \"4\"]\n",
    "for f in folds: \n",
    "    plot_analysis(d_set, f, save_name=img_fmter.format(d_set, f))"
   ]
  },
  {
   "cell_type": "code",
   "execution_count": 33,
   "metadata": {},
   "outputs": [
    {
     "data": {
      "text/plain": [
       "<matplotlib.figure.Figure at 0x7ff90b0f85d0>"
      ]
     },
     "metadata": {},
     "output_type": "display_data"
    },
    {
     "data": {
      "text/plain": [
       "<matplotlib.figure.Figure at 0x7ff8a1645a90>"
      ]
     },
     "metadata": {},
     "output_type": "display_data"
    },
    {
     "data": {
      "text/plain": [
       "<matplotlib.figure.Figure at 0x7ff89b5fd1d0>"
      ]
     },
     "metadata": {},
     "output_type": "display_data"
    },
    {
     "data": {
      "text/plain": [
       "<matplotlib.figure.Figure at 0x7ff89b674bd0>"
      ]
     },
     "metadata": {},
     "output_type": "display_data"
    },
    {
     "data": {
      "text/plain": [
       "<matplotlib.figure.Figure at 0x7ff81d8f8f10>"
      ]
     },
     "metadata": {},
     "output_type": "display_data"
    },
    {
     "data": {
      "text/plain": [
       "<matplotlib.figure.Figure at 0x7ff90af97a50>"
      ]
     },
     "metadata": {},
     "output_type": "display_data"
    },
    {
     "data": {
      "text/plain": [
       "<matplotlib.figure.Figure at 0x7ff90af39110>"
      ]
     },
     "metadata": {},
     "output_type": "display_data"
    },
    {
     "data": {
      "text/plain": [
       "<matplotlib.figure.Figure at 0x7ff81d99d8d0>"
      ]
     },
     "metadata": {},
     "output_type": "display_data"
    },
    {
     "data": {
      "text/plain": [
       "<matplotlib.figure.Figure at 0x7ff81d9bbbd0>"
      ]
     },
     "metadata": {},
     "output_type": "display_data"
    },
    {
     "data": {
      "text/plain": [
       "<matplotlib.figure.Figure at 0x7ff89b6f0a90>"
      ]
     },
     "metadata": {},
     "output_type": "display_data"
    }
   ],
   "source": [
    "d_set = \"drugmatrix\"\n",
    "folds = [\"0\", \"1\", \"2\", \"3\", \"4\"]\n",
    "for f in folds: \n",
    "    plot_analysis(d_set, f, save_name=img_fmter.format(d_set, f))"
   ]
  },
  {
   "cell_type": "code",
   "execution_count": 34,
   "metadata": {},
   "outputs": [
    {
     "data": {
      "text/plain": [
       "<matplotlib.figure.Figure at 0x7ff81d8ead90>"
      ]
     },
     "metadata": {},
     "output_type": "display_data"
    },
    {
     "data": {
      "text/plain": [
       "<matplotlib.figure.Figure at 0x7ff8a3a45bd0>"
      ]
     },
     "metadata": {},
     "output_type": "display_data"
    },
    {
     "data": {
      "text/plain": [
       "<matplotlib.figure.Figure at 0x7ff825658410>"
      ]
     },
     "metadata": {},
     "output_type": "display_data"
    },
    {
     "data": {
      "text/plain": [
       "<matplotlib.figure.Figure at 0x7ff8a14dc910>"
      ]
     },
     "metadata": {},
     "output_type": "display_data"
    },
    {
     "data": {
      "text/plain": [
       "<matplotlib.figure.Figure at 0x7ff90e25e5d0>"
      ]
     },
     "metadata": {},
     "output_type": "display_data"
    },
    {
     "data": {
      "text/plain": [
       "<matplotlib.figure.Figure at 0x7ff90e29f3d0>"
      ]
     },
     "metadata": {},
     "output_type": "display_data"
    },
    {
     "data": {
      "text/plain": [
       "<matplotlib.figure.Figure at 0x7ff89b6a6e10>"
      ]
     },
     "metadata": {},
     "output_type": "display_data"
    },
    {
     "data": {
      "text/plain": [
       "<matplotlib.figure.Figure at 0x7ff89b6a6a10>"
      ]
     },
     "metadata": {},
     "output_type": "display_data"
    },
    {
     "data": {
      "text/plain": [
       "<matplotlib.figure.Figure at 0x7ff8abd5a9d0>"
      ]
     },
     "metadata": {},
     "output_type": "display_data"
    },
    {
     "data": {
      "text/plain": [
       "<matplotlib.figure.Figure at 0x7ff89b639790>"
      ]
     },
     "metadata": {},
     "output_type": "display_data"
    }
   ],
   "source": [
    "d_set = \"test\"\n",
    "folds = [\"0\", \"1\", \"2\", \"3\", \"4\"]\n",
    "for f in folds: \n",
    "    plot_analysis(d_set, f, save_name=img_fmter.format(d_set, f))"
   ]
  },
  {
   "cell_type": "code",
   "execution_count": 35,
   "metadata": {},
   "outputs": [
    {
     "data": {
      "text/plain": [
       "<matplotlib.figure.Figure at 0x7ff81d938910>"
      ]
     },
     "metadata": {},
     "output_type": "display_data"
    },
    {
     "data": {
      "text/plain": [
       "<matplotlib.figure.Figure at 0x7ff90ade7350>"
      ]
     },
     "metadata": {},
     "output_type": "display_data"
    },
    {
     "data": {
      "text/plain": [
       "<matplotlib.figure.Figure at 0x7ff90ae908d0>"
      ]
     },
     "metadata": {},
     "output_type": "display_data"
    },
    {
     "data": {
      "text/plain": [
       "<matplotlib.figure.Figure at 0x7ff89b865f50>"
      ]
     },
     "metadata": {},
     "output_type": "display_data"
    },
    {
     "data": {
      "text/plain": [
       "<matplotlib.figure.Figure at 0x7ff89b860390>"
      ]
     },
     "metadata": {},
     "output_type": "display_data"
    },
    {
     "data": {
      "text/plain": [
       "<matplotlib.figure.Figure at 0x7ff82536b110>"
      ]
     },
     "metadata": {},
     "output_type": "display_data"
    },
    {
     "data": {
      "text/plain": [
       "<matplotlib.figure.Figure at 0x7ff90b0ec990>"
      ]
     },
     "metadata": {},
     "output_type": "display_data"
    },
    {
     "data": {
      "text/plain": [
       "<matplotlib.figure.Figure at 0x7ff8a173d250>"
      ]
     },
     "metadata": {},
     "output_type": "display_data"
    },
    {
     "data": {
      "text/plain": [
       "<matplotlib.figure.Figure at 0x7ff90b150ad0>"
      ]
     },
     "metadata": {},
     "output_type": "display_data"
    },
    {
     "data": {
      "text/plain": [
       "<matplotlib.figure.Figure at 0x7ff89b73cf90>"
      ]
     },
     "metadata": {},
     "output_type": "display_data"
    }
   ],
   "source": [
    "d_set = \"train\"\n",
    "folds = [\"0\", \"1\", \"2\", \"3\", \"4\"]\n",
    "for f in folds: \n",
    "    plot_analysis(d_set, f, save_name=img_fmter.format(d_set, f))"
   ]
  },
  {
   "cell_type": "code",
   "execution_count": 60,
   "metadata": {
    "collapsed": true
   },
   "outputs": [],
   "source": []
  },
  {
   "cell_type": "code",
   "execution_count": 38,
   "metadata": {
    "collapsed": true
   },
   "outputs": [],
   "source": [
    "from glob import glob"
   ]
  },
  {
   "cell_type": "code",
   "execution_count": 63,
   "metadata": {},
   "outputs": [
    {
     "name": "stdout",
     "output_type": "stream",
     "text": [
      "| PNR_1.0 | train | test | timesplit | drugmatrix |      \n",
      "| :--- | :--- | :--- | :--- | :--- |      \n",
      "| fold_0 | [[https://github.com/keiserlab/lab-notebook-caceres/wiki/images/20180815_Paper_Retrains/lr_nesterov_1024_2048_3072/scrambled_idx/train_at_fold_0_r2.png]] | [[https://github.com/keiserlab/lab-notebook-caceres/wiki/images/20180815_Paper_Retrains/lr_nesterov_1024_2048_3072/scrambled_idx/test_at_fold_0_r2.png]] | [[https://github.com/keiserlab/lab-notebook-caceres/wiki/images/20180815_Paper_Retrains/lr_nesterov_1024_2048_3072/scrambled_idx/timesplit_at_fold_0_r2.png]] | [[https://github.com/keiserlab/lab-notebook-caceres/wiki/images/20180815_Paper_Retrains/lr_nesterov_1024_2048_3072/scrambled_idx/drugmatrix_at_fold_0_r2.png]] |      \n",
      "| fold_1 | [[https://github.com/keiserlab/lab-notebook-caceres/wiki/images/20180815_Paper_Retrains/lr_nesterov_1024_2048_3072/scrambled_idx/train_at_fold_1_r2.png]] | [[https://github.com/keiserlab/lab-notebook-caceres/wiki/images/20180815_Paper_Retrains/lr_nesterov_1024_2048_3072/scrambled_idx/test_at_fold_1_r2.png]] | [[https://github.com/keiserlab/lab-notebook-caceres/wiki/images/20180815_Paper_Retrains/lr_nesterov_1024_2048_3072/scrambled_idx/timesplit_at_fold_1_r2.png]] | [[https://github.com/keiserlab/lab-notebook-caceres/wiki/images/20180815_Paper_Retrains/lr_nesterov_1024_2048_3072/scrambled_idx/drugmatrix_at_fold_1_r2.png]] |      \n",
      "| fold_2 | [[https://github.com/keiserlab/lab-notebook-caceres/wiki/images/20180815_Paper_Retrains/lr_nesterov_1024_2048_3072/scrambled_idx/train_at_fold_2_r2.png]] | [[https://github.com/keiserlab/lab-notebook-caceres/wiki/images/20180815_Paper_Retrains/lr_nesterov_1024_2048_3072/scrambled_idx/test_at_fold_2_r2.png]] | [[https://github.com/keiserlab/lab-notebook-caceres/wiki/images/20180815_Paper_Retrains/lr_nesterov_1024_2048_3072/scrambled_idx/timesplit_at_fold_2_r2.png]] | [[https://github.com/keiserlab/lab-notebook-caceres/wiki/images/20180815_Paper_Retrains/lr_nesterov_1024_2048_3072/scrambled_idx/drugmatrix_at_fold_2_r2.png]] |      \n",
      "| fold_3 | [[https://github.com/keiserlab/lab-notebook-caceres/wiki/images/20180815_Paper_Retrains/lr_nesterov_1024_2048_3072/scrambled_idx/train_at_fold_3_r2.png]] | [[https://github.com/keiserlab/lab-notebook-caceres/wiki/images/20180815_Paper_Retrains/lr_nesterov_1024_2048_3072/scrambled_idx/test_at_fold_3_r2.png]] | [[https://github.com/keiserlab/lab-notebook-caceres/wiki/images/20180815_Paper_Retrains/lr_nesterov_1024_2048_3072/scrambled_idx/timesplit_at_fold_3_r2.png]] | [[https://github.com/keiserlab/lab-notebook-caceres/wiki/images/20180815_Paper_Retrains/lr_nesterov_1024_2048_3072/scrambled_idx/drugmatrix_at_fold_3_r2.png]] |      \n",
      "| fold_4 | [[https://github.com/keiserlab/lab-notebook-caceres/wiki/images/20180815_Paper_Retrains/lr_nesterov_1024_2048_3072/scrambled_idx/train_at_fold_4_r2.png]] | [[https://github.com/keiserlab/lab-notebook-caceres/wiki/images/20180815_Paper_Retrains/lr_nesterov_1024_2048_3072/scrambled_idx/test_at_fold_4_r2.png]] | [[https://github.com/keiserlab/lab-notebook-caceres/wiki/images/20180815_Paper_Retrains/lr_nesterov_1024_2048_3072/scrambled_idx/timesplit_at_fold_4_r2.png]] | [[https://github.com/keiserlab/lab-notebook-caceres/wiki/images/20180815_Paper_Retrains/lr_nesterov_1024_2048_3072/scrambled_idx/drugmatrix_at_fold_4_r2.png]] |      \n",
      "\n",
      "\n",
      "\n"
     ]
    }
   ],
   "source": [
    "github_wiki_link=\"https://github.com/keiserlab/lab-notebook-caceres/wiki/images\"\n",
    "github_expt_base = \"{}/20180815_Paper_Retrains/lr_nesterov_1024_2048_3072/scrambled_idx\".format(github_wiki_link)\n",
    "\n",
    "img_order = ['train','test', 'timesplit', 'drugmatrix']\n",
    "ratio = 1.0\n",
    "headers = [\"PNR_{}\".format(ratio)]\n",
    "headers.extend(img_order)\n",
    "print(print_table(headers))\n",
    "print(print_table([\":---\"]*len(headers)))\n",
    "\n",
    "png_files = glob(img_fmter.format(\"*\", \"*\"))\n",
    "for f in np.arange(0, 5, 1):\n",
    "    name_fmter = \"fold_{}\".format(str(f))\n",
    "    fold_pngs = [i for i in png_files if name_fmter in i]\n",
    "    fold_pngs = sorted(fold_pngs, key=lambda x: img_order.index(x.split(\"/\")[-1].split(\".\")[0].split(\"_\")[0]))\n",
    "    md_print_fmt = [name_fmter] + [format_md_img(github_expt_base, i.split(\"/\")[-1]) for i in fold_pngs]\n",
    "    print(print_table(md_print_fmt))\n",
    "print(\"\\n\\n\")"
   ]
  },
  {
   "cell_type": "code",
   "execution_count": null,
   "metadata": {
    "collapsed": true
   },
   "outputs": [],
   "source": []
  }
 ],
 "metadata": {
  "kernelspec": {
   "display_name": "Python 2",
   "language": "python",
   "name": "python2"
  },
  "language_info": {
   "codemirror_mode": {
    "name": "ipython",
    "version": 2
   },
   "file_extension": ".py",
   "mimetype": "text/x-python",
   "name": "python",
   "nbconvert_exporter": "python",
   "pygments_lexer": "ipython2",
   "version": "2.7.12"
  }
 },
 "nbformat": 4,
 "nbformat_minor": 2
}
