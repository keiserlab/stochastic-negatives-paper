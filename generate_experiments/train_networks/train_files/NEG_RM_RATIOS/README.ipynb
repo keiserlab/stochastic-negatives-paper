{
 "cells": [
  {
   "cell_type": "code",
   "execution_count": null,
   "metadata": {
    "collapsed": true
   },
   "outputs": [],
   "source": [
    "import sys\n",
    "sys.path.insert(0,'/srv/home/nmew/myprojects/clean-neural-nets/')"
   ]
  },
  {
   "cell_type": "code",
   "execution_count": null,
   "metadata": {
    "collapsed": true
   },
   "outputs": [],
   "source": []
  },
  {
   "cell_type": "markdown",
   "metadata": {},
   "source": [
    "## Re-run SNEG ratio experiment\n",
    "Using the new dataset... \n",
    "### copy over args for sneg nets.\n",
    "\n",
    "```\n",
    "cp ../20180613_ChEMBL_only_runs/sneg_args.txt ./\n",
    "```\n",
    "\n",
    "### run sneg experiment with kfold cross validation\n",
    "\n",
    "run on mk-gpu-1 with pre-defined k-folds from 20180613_ChEMBL_only_runs\n",
    "\n",
    "```\n",
    "chmod SN_retrains.sh\n",
    "./SN_retrains.sh\n",
    "```\n",
    "\n",
    "### get best epochs for each\n",
    "\n",
    "```\n",
    "./get_metrics.sh\n",
    "./get_best_epochs.sh\n",
    "\n",
    "```\n",
    "\n",
    "### copy png files over to github\n",
    "```\n",
    "rsync -vRr $HOME_SAVE_BASE/output/20180815_Paper_Retrains/trained_nets/./all_negs_stochastic/NEG_RM_RATIOS/*/*/*.png $HOME/labgits/lab-notebook-caceres.wiki/images/20180815_Paper_Retrains\n",
    "```\n",
    "\n",
    "## edit epoch files for convergence.\n",
    "Epochs that failed to provide a good convergence were set to 200. \n",
    "\n",
    "```\n",
    "cp $HOME_SAVE_DIR/output/20180815_Paper_Retrains/predictions/experiments.json $HOME_SAVE_DIR/output/20180815_Paper_Retrains/predictions/experiments_edited.json\n",
    "\n",
    "```"
   ]
  },
  {
   "cell_type": "code",
   "execution_count": 3,
   "metadata": {
    "collapsed": true
   },
   "outputs": [],
   "source": [
    "!cp $HOME_SAVE_BASE/output/20180815_Paper_Retrains/predictions/experiments.json $HOME_SAVE_BASE/output/20180815_Paper_Retrains/predictions/experiments_edited.json\n"
   ]
  },
  {
   "cell_type": "code",
   "execution_count": null,
   "metadata": {
    "collapsed": true
   },
   "outputs": [],
   "source": []
  }
 ],
 "metadata": {
  "kernelspec": {
   "display_name": "Python 2",
   "language": "python",
   "name": "python2"
  },
  "language_info": {
   "codemirror_mode": {
    "name": "ipython",
    "version": 2
   },
   "file_extension": ".py",
   "mimetype": "text/x-python",
   "name": "python",
   "nbconvert_exporter": "python",
   "pygments_lexer": "ipython2",
   "version": "2.7.15"
  }
 },
 "nbformat": 4,
 "nbformat_minor": 2
}
