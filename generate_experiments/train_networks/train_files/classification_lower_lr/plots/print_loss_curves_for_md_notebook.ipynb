{
 "cells": [
  {
   "cell_type": "code",
   "execution_count": 7,
   "metadata": {
    "collapsed": true
   },
   "outputs": [],
   "source": [
    "import pandas as pd\n",
    "import os\n",
    "from glob import glob\n",
    "import numpy as np\n",
    "import json\n",
    "from itertools import izip"
   ]
  },
  {
   "cell_type": "code",
   "execution_count": 8,
   "metadata": {
    "collapsed": true
   },
   "outputs": [],
   "source": [
    "def get_env_var(handle):\n",
    "    ''' Get an environment variable given the handle for the bash variable'''\n",
    "    tmp = os.getenv(handle)\n",
    "    if not tmp:\n",
    "        raise LookupError(\"Environment variable: {} not set.\".format(handle))\n",
    "    return tmp.strip(\"'\")\n",
    "\n",
    "def format_md_img(link_name, rel_plot_loc):\n",
    "    img_formatter=\"[[{}/{}]]\".format(link_name, rel_plot_loc)\n",
    "    return img_formatter\n",
    "\n",
    "def print_table(list_of_headers):\n",
    "    fmter =  \"| {} {}\".format(\"{}\", \" {} \")\n",
    "    for header in list_of_headers:\n",
    "        fmter = fmter.format(\"{} {}\".format(header, \"| {}\"), \"{}\")\n",
    "    fmter = fmter.format(\" \", \" \")\n",
    "    return fmter"
   ]
  },
  {
   "cell_type": "code",
   "execution_count": 9,
   "metadata": {
    "collapsed": true
   },
   "outputs": [],
   "source": [
    "class  Experiment(dict):\n",
    "    def __init__(self, name):\n",
    "        self.name = name\n",
    "        self.folds = []\n",
    "        self.converged_epochs = []\n",
    "        self.trained_paths = []\n",
    "      \n",
    "    def __repr__(self):\n",
    "        return str(vars(self))\n",
    "    \n",
    "    def __str__(self):\n",
    "        return json.dumps(vars(self), indent=2)\n",
    "        \n",
    "    def set_convereged_epoch(self, epoch, train_path, fold=None):        \n",
    "        self.folds.append(fold)\n",
    "        self.converged_epochs.append(epoch)\n",
    "        self.trained_paths.append(train_path)\n",
    "        "
   ]
  },
  {
   "cell_type": "code",
   "execution_count": 10,
   "metadata": {
    "collapsed": true
   },
   "outputs": [],
   "source": [
    "home=get_env_var(\"HOME\")\n",
    "base=\"{}/labgits/lab-notebook-caceres.wiki/images/20180815_Paper_Retrains_classification_lr01\".format(home)\n",
    "\n",
    "if not os.path.exists(base):\n",
    "    os.mkdir(base)"
   ]
  },
  {
   "cell_type": "markdown",
   "metadata": {},
   "source": [
    "`rsync -Rnv $HOME_SAVE_BASE/output/20180815_Paper_Retrains/trained_nets/./*/*_LR01/*/*/*.png $HOME/labgits/lab-notebook-caceres.wiki/images/20180815_Paper_Retrains_classification_lr01/`"
   ]
  },
  {
   "cell_type": "code",
   "execution_count": 11,
   "metadata": {
    "collapsed": true
   },
   "outputs": [],
   "source": [
    "home_save_dir = get_env_var(\"HOME_SAVE_BASE\")\n",
    "srv_save_dir = get_env_var(\"DATA_SAVE_BASE\")\n",
    "\n",
    "fold_tmplt = \"fold_[0-9]*/pnr_*/*.png\"\n",
    "\n",
    "# github formatting info:\n",
    "github_wiki_link=\"https://github.com/keiserlab/lab-notebook-caceres/wiki/images\"\n",
    "expt_name = \"20180815_Paper_Retrains_classification_lr01\"\n",
    "github_wiki_expt = \"{}/{}\".format(github_wiki_link, expt_name)\n",
    "train_dir = \"{}//lr_nesterov_binary_classifier_1024_2048_3072/\".format(base)"
   ]
  },
  {
   "cell_type": "code",
   "execution_count": 12,
   "metadata": {},
   "outputs": [
    {
     "name": "stdout",
     "output_type": "stream",
     "text": [
      "# CLASSIFIER_SMA_RATIOS_LR01\n"
     ]
    },
    {
     "ename": "OSError",
     "evalue": "[Errno 2] No such file or directory: '/srv/home/ecaceres/labgits/lab-notebook-caceres.wiki/images/20180815_Paper_Retrains_classification_lr01//lr_nesterov_binary_classifier_1024_2048_3072/CLASSIFIER_SMA_RATIOS_LR01'",
     "output_type": "error",
     "traceback": [
      "\u001b[0;31m---------------------------------------------------------------------------\u001b[0m",
      "\u001b[0;31mOSError\u001b[0m                                   Traceback (most recent call last)",
      "\u001b[0;32m<ipython-input-12-0013615b7110>\u001b[0m in \u001b[0;36m<module>\u001b[0;34m()\u001b[0m\n\u001b[1;32m      7\u001b[0m     \u001b[0mparent_dir\u001b[0m \u001b[0;34m=\u001b[0m \u001b[0mos\u001b[0m\u001b[0;34m.\u001b[0m\u001b[0mpath\u001b[0m\u001b[0;34m.\u001b[0m\u001b[0mjoin\u001b[0m\u001b[0;34m(\u001b[0m\u001b[0mtrain_dir\u001b[0m\u001b[0;34m,\u001b[0m \u001b[0mk\u001b[0m\u001b[0;34m)\u001b[0m\u001b[0;34m\u001b[0m\u001b[0m\n\u001b[1;32m      8\u001b[0m     \u001b[0;32mif\u001b[0m \u001b[0;32mnot\u001b[0m \u001b[0mos\u001b[0m\u001b[0;34m.\u001b[0m\u001b[0mpath\u001b[0m\u001b[0;34m.\u001b[0m\u001b[0mexists\u001b[0m\u001b[0;34m(\u001b[0m\u001b[0mparent_dir\u001b[0m\u001b[0;34m)\u001b[0m\u001b[0;34m:\u001b[0m\u001b[0;34m\u001b[0m\u001b[0m\n\u001b[0;32m----> 9\u001b[0;31m         \u001b[0mos\u001b[0m\u001b[0;34m.\u001b[0m\u001b[0mmkdir\u001b[0m\u001b[0;34m(\u001b[0m\u001b[0mparent_dir\u001b[0m\u001b[0;34m)\u001b[0m\u001b[0;34m\u001b[0m\u001b[0m\n\u001b[0m\u001b[1;32m     10\u001b[0m     \u001b[0mpng_files\u001b[0m \u001b[0;34m=\u001b[0m \u001b[0mglob\u001b[0m\u001b[0;34m(\u001b[0m\u001b[0mos\u001b[0m\u001b[0;34m.\u001b[0m\u001b[0mpath\u001b[0m\u001b[0;34m.\u001b[0m\u001b[0mjoin\u001b[0m\u001b[0;34m(\u001b[0m\u001b[0mparent_dir\u001b[0m\u001b[0;34m,\u001b[0m \u001b[0mfold_tmplt\u001b[0m\u001b[0;34m)\u001b[0m\u001b[0;34m)\u001b[0m\u001b[0;34m\u001b[0m\u001b[0m\n\u001b[1;32m     11\u001b[0m \u001b[0;34m\u001b[0m\u001b[0m\n",
      "\u001b[0;31mOSError\u001b[0m: [Errno 2] No such file or directory: '/srv/home/ecaceres/labgits/lab-notebook-caceres.wiki/images/20180815_Paper_Retrains_classification_lr01//lr_nesterov_binary_classifier_1024_2048_3072/CLASSIFIER_SMA_RATIOS_LR01'"
     ]
    }
   ],
   "source": [
    "expt_names = [\"CLASSIFIER_SMA_RATIOS_LR01\" , \"CLASSIFIER_NEG_RM_SMA_RATIOS_LR01\"]\n",
    "sneg_pnrs=[1.0, 1.2222, 0.8182, 1.5, 19.0, 9.0, 4.0, 2.3333, 0.6666, 0.4286, 0.25, 0.1111, 0.0753]\n",
    "sneg_pnrs = sorted(sneg_pnrs)\n",
    "\n",
    "for k in expt_names:\n",
    "    print(\"# {}\".format(k))\n",
    "    parent_dir = os.path.join(train_dir, k)\n",
    "    if not os.path.exists(parent_dir):\n",
    "        os.mkdir(parent_dir)\n",
    "    png_files = glob(os.path.join(parent_dir, fold_tmplt))\n",
    "\n",
    "    experiments = []\n",
    "    converged_epochs = (\"{}/output/20180815_Paper_Retrains/predictions/{}/experiments.json\".format(home_save_dir, k))\n",
    "    with open(converged_epochs, \"r\") as fp:\n",
    "        expts = json.load(fp)\n",
    "\n",
    "    expt_list = []\n",
    "    for e in expts:\n",
    "        tmp = Experiment(e[\"name\"])\n",
    "        for epoch, path, fold in izip(e[\"converged_epochs\"], e[\"trained_paths\"], e[\"folds\"]):\n",
    "            tmp.set_convereged_epoch(epoch, path, fold)\n",
    "        experiments.append(tmp)\n",
    "        del(tmp)    \n",
    "\n",
    "    expt_dict = {float(i.name.split(\"_\")[-1]): dict(zip([int(j.split(\"_\")[1]) for j in i.folds], i.converged_epochs))\n",
    "                 for i in experiments}\n",
    "    img_order = ['train_loss','test_loss', 'test_no_gt_loss', 'test_sneg_loss']\n",
    "    for ratio in sneg_pnrs:\n",
    "        png_subset = [f for f in png_files if str(ratio) in f]\n",
    "        headers = [\"PNR_{}\".format(ratio)]\n",
    "        headers.extend(img_order)\n",
    "        print(print_table(headers))\n",
    "        print(print_table([\":---\"]*len(headers)))\n",
    "        for f in np.arange(0, 5, 1):\n",
    "            name_fmter = \"fold_{} best epoch: {}\".format(str(f), expt_dict[ratio][f])\n",
    "            fold_fmter = \"fold_{}\".format(str(f))\n",
    "            fold_pngs = [i for i in png_subset if fold_fmter in i]\n",
    "            fold_pngs = sorted(fold_pngs, key=lambda x: img_order.index(x.split(\"/\")[-1].split(\".\")[0]))\n",
    "            md_print_fmt = [name_fmter] + [format_md_img(github_wiki_expt, i.split(\"{}/\".format(expt_name))[-1]) for i in fold_pngs]\n",
    "            print(print_table(md_print_fmt))\n",
    "        print(\"\\n\\n\")"
   ]
  },
  {
   "cell_type": "code",
   "execution_count": 32,
   "metadata": {},
   "outputs": [
    {
     "name": "stdout",
     "output_type": "stream",
     "text": [
      "# CLASSIFIER_SEA_SMA\n",
      "| PNR_1.0 | train_loss | test_loss | test_no_gt_loss | test_sneg_loss |      \n",
      "| :--- | :--- | :--- | :--- | :--- |      \n",
      "| fold_0 best epoch: 0 | [[https://github.com/keiserlab/lab-notebook-caceres/wiki/images/20180815_Paper_Retrains_classification/lr_nesterov_binary_classifier_1024_2048_3072/CLASSIFIER_SEA_SMA/fold_0/pnr_1.0/train_loss.png]] | [[https://github.com/keiserlab/lab-notebook-caceres/wiki/images/20180815_Paper_Retrains_classification/lr_nesterov_binary_classifier_1024_2048_3072/CLASSIFIER_SEA_SMA/fold_0/pnr_1.0/test_loss.png]] | [[https://github.com/keiserlab/lab-notebook-caceres/wiki/images/20180815_Paper_Retrains_classification/lr_nesterov_binary_classifier_1024_2048_3072/CLASSIFIER_SEA_SMA/fold_0/pnr_1.0/test_no_gt_loss.png]] | [[https://github.com/keiserlab/lab-notebook-caceres/wiki/images/20180815_Paper_Retrains_classification/lr_nesterov_binary_classifier_1024_2048_3072/CLASSIFIER_SEA_SMA/fold_0/pnr_1.0/test_sneg_loss.png]] |      \n",
      "| fold_1 best epoch: 0 | [[https://github.com/keiserlab/lab-notebook-caceres/wiki/images/20180815_Paper_Retrains_classification/lr_nesterov_binary_classifier_1024_2048_3072/CLASSIFIER_SEA_SMA/fold_1/pnr_1.0/train_loss.png]] | [[https://github.com/keiserlab/lab-notebook-caceres/wiki/images/20180815_Paper_Retrains_classification/lr_nesterov_binary_classifier_1024_2048_3072/CLASSIFIER_SEA_SMA/fold_1/pnr_1.0/test_loss.png]] | [[https://github.com/keiserlab/lab-notebook-caceres/wiki/images/20180815_Paper_Retrains_classification/lr_nesterov_binary_classifier_1024_2048_3072/CLASSIFIER_SEA_SMA/fold_1/pnr_1.0/test_no_gt_loss.png]] | [[https://github.com/keiserlab/lab-notebook-caceres/wiki/images/20180815_Paper_Retrains_classification/lr_nesterov_binary_classifier_1024_2048_3072/CLASSIFIER_SEA_SMA/fold_1/pnr_1.0/test_sneg_loss.png]] |      \n",
      "| fold_2 best epoch: 0 | [[https://github.com/keiserlab/lab-notebook-caceres/wiki/images/20180815_Paper_Retrains_classification/lr_nesterov_binary_classifier_1024_2048_3072/CLASSIFIER_SEA_SMA/fold_2/pnr_1.0/train_loss.png]] | [[https://github.com/keiserlab/lab-notebook-caceres/wiki/images/20180815_Paper_Retrains_classification/lr_nesterov_binary_classifier_1024_2048_3072/CLASSIFIER_SEA_SMA/fold_2/pnr_1.0/test_loss.png]] | [[https://github.com/keiserlab/lab-notebook-caceres/wiki/images/20180815_Paper_Retrains_classification/lr_nesterov_binary_classifier_1024_2048_3072/CLASSIFIER_SEA_SMA/fold_2/pnr_1.0/test_no_gt_loss.png]] | [[https://github.com/keiserlab/lab-notebook-caceres/wiki/images/20180815_Paper_Retrains_classification/lr_nesterov_binary_classifier_1024_2048_3072/CLASSIFIER_SEA_SMA/fold_2/pnr_1.0/test_sneg_loss.png]] |      \n",
      "| fold_3 best epoch: 0 | [[https://github.com/keiserlab/lab-notebook-caceres/wiki/images/20180815_Paper_Retrains_classification/lr_nesterov_binary_classifier_1024_2048_3072/CLASSIFIER_SEA_SMA/fold_3/pnr_1.0/train_loss.png]] | [[https://github.com/keiserlab/lab-notebook-caceres/wiki/images/20180815_Paper_Retrains_classification/lr_nesterov_binary_classifier_1024_2048_3072/CLASSIFIER_SEA_SMA/fold_3/pnr_1.0/test_loss.png]] | [[https://github.com/keiserlab/lab-notebook-caceres/wiki/images/20180815_Paper_Retrains_classification/lr_nesterov_binary_classifier_1024_2048_3072/CLASSIFIER_SEA_SMA/fold_3/pnr_1.0/test_no_gt_loss.png]] | [[https://github.com/keiserlab/lab-notebook-caceres/wiki/images/20180815_Paper_Retrains_classification/lr_nesterov_binary_classifier_1024_2048_3072/CLASSIFIER_SEA_SMA/fold_3/pnr_1.0/test_sneg_loss.png]] |      \n",
      "| fold_4 best epoch: 0 | [[https://github.com/keiserlab/lab-notebook-caceres/wiki/images/20180815_Paper_Retrains_classification/lr_nesterov_binary_classifier_1024_2048_3072/CLASSIFIER_SEA_SMA/fold_4/pnr_1.0/train_loss.png]] | [[https://github.com/keiserlab/lab-notebook-caceres/wiki/images/20180815_Paper_Retrains_classification/lr_nesterov_binary_classifier_1024_2048_3072/CLASSIFIER_SEA_SMA/fold_4/pnr_1.0/test_loss.png]] | [[https://github.com/keiserlab/lab-notebook-caceres/wiki/images/20180815_Paper_Retrains_classification/lr_nesterov_binary_classifier_1024_2048_3072/CLASSIFIER_SEA_SMA/fold_4/pnr_1.0/test_no_gt_loss.png]] | [[https://github.com/keiserlab/lab-notebook-caceres/wiki/images/20180815_Paper_Retrains_classification/lr_nesterov_binary_classifier_1024_2048_3072/CLASSIFIER_SEA_SMA/fold_4/pnr_1.0/test_sneg_loss.png]] |      \n",
      "\n",
      "\n",
      "\n",
      "# CLASSIFIER_scrambled_idx\n",
      "| PNR_1.0 | train_loss | test_loss | test_no_gt_loss | test_sneg_loss |      \n",
      "| :--- | :--- | :--- | :--- | :--- |      \n",
      "| fold_0 best epoch: 69 | [[https://github.com/keiserlab/lab-notebook-caceres/wiki/images/20180815_Paper_Retrains_classification/lr_nesterov_binary_classifier_1024_2048_3072/CLASSIFIER_scrambled_idx/fold_0/pnr_1.0/train_loss.png]] | [[https://github.com/keiserlab/lab-notebook-caceres/wiki/images/20180815_Paper_Retrains_classification/lr_nesterov_binary_classifier_1024_2048_3072/CLASSIFIER_scrambled_idx/fold_0/pnr_1.0/test_loss.png]] | [[https://github.com/keiserlab/lab-notebook-caceres/wiki/images/20180815_Paper_Retrains_classification/lr_nesterov_binary_classifier_1024_2048_3072/CLASSIFIER_scrambled_idx/fold_0/pnr_1.0/test_no_gt_loss.png]] | [[https://github.com/keiserlab/lab-notebook-caceres/wiki/images/20180815_Paper_Retrains_classification/lr_nesterov_binary_classifier_1024_2048_3072/CLASSIFIER_scrambled_idx/fold_0/pnr_1.0/test_sneg_loss.png]] |      \n",
      "| fold_1 best epoch: 25 | [[https://github.com/keiserlab/lab-notebook-caceres/wiki/images/20180815_Paper_Retrains_classification/lr_nesterov_binary_classifier_1024_2048_3072/CLASSIFIER_scrambled_idx/fold_1/pnr_1.0/train_loss.png]] | [[https://github.com/keiserlab/lab-notebook-caceres/wiki/images/20180815_Paper_Retrains_classification/lr_nesterov_binary_classifier_1024_2048_3072/CLASSIFIER_scrambled_idx/fold_1/pnr_1.0/test_loss.png]] | [[https://github.com/keiserlab/lab-notebook-caceres/wiki/images/20180815_Paper_Retrains_classification/lr_nesterov_binary_classifier_1024_2048_3072/CLASSIFIER_scrambled_idx/fold_1/pnr_1.0/test_no_gt_loss.png]] | [[https://github.com/keiserlab/lab-notebook-caceres/wiki/images/20180815_Paper_Retrains_classification/lr_nesterov_binary_classifier_1024_2048_3072/CLASSIFIER_scrambled_idx/fold_1/pnr_1.0/test_sneg_loss.png]] |      \n",
      "| fold_2 best epoch: 25 | [[https://github.com/keiserlab/lab-notebook-caceres/wiki/images/20180815_Paper_Retrains_classification/lr_nesterov_binary_classifier_1024_2048_3072/CLASSIFIER_scrambled_idx/fold_2/pnr_1.0/train_loss.png]] | [[https://github.com/keiserlab/lab-notebook-caceres/wiki/images/20180815_Paper_Retrains_classification/lr_nesterov_binary_classifier_1024_2048_3072/CLASSIFIER_scrambled_idx/fold_2/pnr_1.0/test_loss.png]] | [[https://github.com/keiserlab/lab-notebook-caceres/wiki/images/20180815_Paper_Retrains_classification/lr_nesterov_binary_classifier_1024_2048_3072/CLASSIFIER_scrambled_idx/fold_2/pnr_1.0/test_no_gt_loss.png]] | [[https://github.com/keiserlab/lab-notebook-caceres/wiki/images/20180815_Paper_Retrains_classification/lr_nesterov_binary_classifier_1024_2048_3072/CLASSIFIER_scrambled_idx/fold_2/pnr_1.0/test_sneg_loss.png]] |      \n",
      "| fold_3 best epoch: 97 | [[https://github.com/keiserlab/lab-notebook-caceres/wiki/images/20180815_Paper_Retrains_classification/lr_nesterov_binary_classifier_1024_2048_3072/CLASSIFIER_scrambled_idx/fold_3/pnr_1.0/train_loss.png]] | [[https://github.com/keiserlab/lab-notebook-caceres/wiki/images/20180815_Paper_Retrains_classification/lr_nesterov_binary_classifier_1024_2048_3072/CLASSIFIER_scrambled_idx/fold_3/pnr_1.0/test_loss.png]] | [[https://github.com/keiserlab/lab-notebook-caceres/wiki/images/20180815_Paper_Retrains_classification/lr_nesterov_binary_classifier_1024_2048_3072/CLASSIFIER_scrambled_idx/fold_3/pnr_1.0/test_no_gt_loss.png]] | [[https://github.com/keiserlab/lab-notebook-caceres/wiki/images/20180815_Paper_Retrains_classification/lr_nesterov_binary_classifier_1024_2048_3072/CLASSIFIER_scrambled_idx/fold_3/pnr_1.0/test_sneg_loss.png]] |      \n",
      "| fold_4 best epoch: 17 | [[https://github.com/keiserlab/lab-notebook-caceres/wiki/images/20180815_Paper_Retrains_classification/lr_nesterov_binary_classifier_1024_2048_3072/CLASSIFIER_scrambled_idx/fold_4/pnr_1.0/train_loss.png]] | [[https://github.com/keiserlab/lab-notebook-caceres/wiki/images/20180815_Paper_Retrains_classification/lr_nesterov_binary_classifier_1024_2048_3072/CLASSIFIER_scrambled_idx/fold_4/pnr_1.0/test_loss.png]] | [[https://github.com/keiserlab/lab-notebook-caceres/wiki/images/20180815_Paper_Retrains_classification/lr_nesterov_binary_classifier_1024_2048_3072/CLASSIFIER_scrambled_idx/fold_4/pnr_1.0/test_no_gt_loss.png]] | [[https://github.com/keiserlab/lab-notebook-caceres/wiki/images/20180815_Paper_Retrains_classification/lr_nesterov_binary_classifier_1024_2048_3072/CLASSIFIER_scrambled_idx/fold_4/pnr_1.0/test_sneg_loss.png]] |      \n",
      "\n",
      "\n",
      "\n",
      "# CLASSIFIER_scrambled_idx_No_SMA\n",
      "| PNR_1.0 | train_loss | test_loss | test_no_gt_loss | test_sneg_loss |      \n",
      "| :--- | :--- | :--- | :--- | :--- |      \n",
      "| fold_0 best epoch: 0 | [[https://github.com/keiserlab/lab-notebook-caceres/wiki/images/20180815_Paper_Retrains_classification/lr_nesterov_binary_classifier_1024_2048_3072/CLASSIFIER_scrambled_idx_No_SMA/fold_0/pnr_1.0/train_loss.png]] | [[https://github.com/keiserlab/lab-notebook-caceres/wiki/images/20180815_Paper_Retrains_classification/lr_nesterov_binary_classifier_1024_2048_3072/CLASSIFIER_scrambled_idx_No_SMA/fold_0/pnr_1.0/test_loss.png]] | [[https://github.com/keiserlab/lab-notebook-caceres/wiki/images/20180815_Paper_Retrains_classification/lr_nesterov_binary_classifier_1024_2048_3072/CLASSIFIER_scrambled_idx_No_SMA/fold_0/pnr_1.0/test_no_gt_loss.png]] |      \n",
      "| fold_1 best epoch: 0 | [[https://github.com/keiserlab/lab-notebook-caceres/wiki/images/20180815_Paper_Retrains_classification/lr_nesterov_binary_classifier_1024_2048_3072/CLASSIFIER_scrambled_idx_No_SMA/fold_1/pnr_1.0/train_loss.png]] | [[https://github.com/keiserlab/lab-notebook-caceres/wiki/images/20180815_Paper_Retrains_classification/lr_nesterov_binary_classifier_1024_2048_3072/CLASSIFIER_scrambled_idx_No_SMA/fold_1/pnr_1.0/test_loss.png]] | [[https://github.com/keiserlab/lab-notebook-caceres/wiki/images/20180815_Paper_Retrains_classification/lr_nesterov_binary_classifier_1024_2048_3072/CLASSIFIER_scrambled_idx_No_SMA/fold_1/pnr_1.0/test_no_gt_loss.png]] |      \n",
      "| fold_2 best epoch: 0 | [[https://github.com/keiserlab/lab-notebook-caceres/wiki/images/20180815_Paper_Retrains_classification/lr_nesterov_binary_classifier_1024_2048_3072/CLASSIFIER_scrambled_idx_No_SMA/fold_2/pnr_1.0/train_loss.png]] | [[https://github.com/keiserlab/lab-notebook-caceres/wiki/images/20180815_Paper_Retrains_classification/lr_nesterov_binary_classifier_1024_2048_3072/CLASSIFIER_scrambled_idx_No_SMA/fold_2/pnr_1.0/test_loss.png]] | [[https://github.com/keiserlab/lab-notebook-caceres/wiki/images/20180815_Paper_Retrains_classification/lr_nesterov_binary_classifier_1024_2048_3072/CLASSIFIER_scrambled_idx_No_SMA/fold_2/pnr_1.0/test_no_gt_loss.png]] |      \n",
      "| fold_3 best epoch: 2 | [[https://github.com/keiserlab/lab-notebook-caceres/wiki/images/20180815_Paper_Retrains_classification/lr_nesterov_binary_classifier_1024_2048_3072/CLASSIFIER_scrambled_idx_No_SMA/fold_3/pnr_1.0/train_loss.png]] | [[https://github.com/keiserlab/lab-notebook-caceres/wiki/images/20180815_Paper_Retrains_classification/lr_nesterov_binary_classifier_1024_2048_3072/CLASSIFIER_scrambled_idx_No_SMA/fold_3/pnr_1.0/test_loss.png]] | [[https://github.com/keiserlab/lab-notebook-caceres/wiki/images/20180815_Paper_Retrains_classification/lr_nesterov_binary_classifier_1024_2048_3072/CLASSIFIER_scrambled_idx_No_SMA/fold_3/pnr_1.0/test_no_gt_loss.png]] |      \n",
      "| fold_4 best epoch: 0 | [[https://github.com/keiserlab/lab-notebook-caceres/wiki/images/20180815_Paper_Retrains_classification/lr_nesterov_binary_classifier_1024_2048_3072/CLASSIFIER_scrambled_idx_No_SMA/fold_4/pnr_1.0/train_loss.png]] | [[https://github.com/keiserlab/lab-notebook-caceres/wiki/images/20180815_Paper_Retrains_classification/lr_nesterov_binary_classifier_1024_2048_3072/CLASSIFIER_scrambled_idx_No_SMA/fold_4/pnr_1.0/test_loss.png]] | [[https://github.com/keiserlab/lab-notebook-caceres/wiki/images/20180815_Paper_Retrains_classification/lr_nesterov_binary_classifier_1024_2048_3072/CLASSIFIER_scrambled_idx_No_SMA/fold_4/pnr_1.0/test_no_gt_loss.png]] |      \n",
      "\n",
      "\n",
      "\n"
     ]
    }
   ],
   "source": [
    "expt_names = [\"CLASSIFIER_STD_LR01\", \"CLASSIFIER_SEA_SMA_LR01\", \"CLASSIFIER_scrambled_idx_LR01\", \"CLASSIFIER_scrambled_idx_No_SMA_LR01\", ]\n",
    "sneg_pnrs=[1.0]\n",
    "sneg_pnrs = sorted(sneg_pnrs)\n",
    "train_dir = \"{}/lr_nesterov_binary_classifier_1024_2048_3072/\".format(base)\n",
    "\n",
    "for k in expt_names:\n",
    "    print(\"# {}\".format(k))\n",
    "    parent_dir = os.path.join(train_dir, k)\n",
    "    if not os.path.exists(parent_dir):\n",
    "        os.mkdir(parent_dir)\n",
    "    png_files = glob(os.path.join(parent_dir, fold_tmplt))\n",
    "\n",
    "    experiments = []\n",
    "    converged_epochs = (\"{}/output/20180815_Paper_Retrains/predictions/{}/experiments.json\".format(home_save_dir, k))\n",
    "    with open(converged_epochs, \"r\") as fp:\n",
    "        expts = json.load(fp)\n",
    "\n",
    "    expt_list = []\n",
    "    for e in expts:\n",
    "        tmp = Experiment(e[\"name\"])\n",
    "        for epoch, path, fold in izip(e[\"converged_epochs\"], e[\"trained_paths\"], e[\"folds\"]):\n",
    "            tmp.set_convereged_epoch(epoch, path, fold)\n",
    "        experiments.append(tmp)\n",
    "        del(tmp)    \n",
    "\n",
    "    expt_dict = {float(i.name.split(\"_\")[-1]): dict(zip([int(j.split(\"_\")[1]) for j in i.folds], i.converged_epochs))\n",
    "                 for i in experiments}\n",
    "    img_order = ['train_loss','test_loss', 'test_no_gt_loss', 'test_sneg_loss']\n",
    "    for ratio in sneg_pnrs:\n",
    "        png_subset = [f for f in png_files if str(ratio) in f]\n",
    "        headers = [\"PNR_{}\".format(ratio)]\n",
    "        headers.extend(img_order)\n",
    "        print(print_table(headers))\n",
    "        print(print_table([\":---\"]*len(headers)))\n",
    "        \n",
    "        for f in np.arange(0, 5, 1):\n",
    "            name_fmter = \"fold_{} best epoch: {}\".format(str(f), expt_dict[ratio][f])\n",
    "            fold_fmter = \"fold_{}\".format(str(f))\n",
    "            fold_pngs = [i for i in png_subset if fold_fmter in i]\n",
    "            fold_pngs = sorted(fold_pngs, key=lambda x: img_order.index(x.split(\"/\")[-1].split(\".\")[0]))\n",
    "            md_print_fmt = [name_fmter] + [format_md_img(github_wiki_expt, i.split(\"{}/\".format(expt_name))[-1]) for i in fold_pngs]\n",
    "            print(print_table(md_print_fmt))\n",
    "        print(\"\\n\\n\")"
   ]
  },
  {
   "cell_type": "code",
   "execution_count": null,
   "metadata": {
    "collapsed": true
   },
   "outputs": [],
   "source": []
  }
 ],
 "metadata": {
  "kernelspec": {
   "display_name": "Python 2",
   "language": "python",
   "name": "python2"
  },
  "language_info": {
   "codemirror_mode": {
    "name": "ipython",
    "version": 2
   },
   "file_extension": ".py",
   "mimetype": "text/x-python",
   "name": "python",
   "nbconvert_exporter": "python",
   "pygments_lexer": "ipython2",
   "version": "2.7.12"
  }
 },
 "nbformat": 4,
 "nbformat_minor": 2
}
