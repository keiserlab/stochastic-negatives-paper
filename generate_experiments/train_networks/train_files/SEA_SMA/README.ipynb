{
 "cells": [
  {
   "cell_type": "markdown",
   "metadata": {},
   "source": [
    "For more info see https://github.com/keiserlab/lab-notebook-caceres/wiki/20180815_Paper_Retrains_SEA_SMA"
   ]
  },
  {
   "cell_type": "markdown",
   "metadata": {},
   "source": [
    "In lab-notebook-caceres/Projects/nnets/20180815_Paper_Retrains/SEA_GEN, we generated SEA predictions for our train dataset. In this folder, we will be training an SMA model with 5-fold cross validation for comparison to NEG-RM, NEG-UW, SMA, and STD models. "
   ]
  },
  {
   "cell_type": "markdown",
   "metadata": {},
   "source": [
    "### Train SEA-SMA model\n",
    "\n",
    "```\n",
    "./SEA_SMA_retrain.sh\n",
    "```"
   ]
  },
  {
   "cell_type": "markdown",
   "metadata": {},
   "source": [
    "### Make predictions on the models\n",
    "\n",
    "```\n",
    "./get_metrics.sh\n",
    "./get_best_epochs.sh\n",
    "```\n"
   ]
  },
  {
   "cell_type": "markdown",
   "metadata": {
    "collapsed": true
   },
   "source": [
    "### I need to edit SMA to have 7 fields instead of 8\n"
   ]
  },
  {
   "cell_type": "code",
   "execution_count": 4,
   "metadata": {
    "collapsed": true
   },
   "outputs": [],
   "source": [
    "SMA_file = \"/srv/home/ecaceres/data_save_folders/output/20180815_Paper_Retrains/SEA_GEN/binding/preds/train_ts2012_chembl20_MWmax800_scrubDM_minpos10_cutoff5_SEA_predictions.csv\""
   ]
  },
  {
   "cell_type": "code",
   "execution_count": 5,
   "metadata": {},
   "outputs": [
    {
     "name": "stdout",
     "output_type": "stream",
     "text": [
      "296175,CHEMBL4302,1000,3.29e-10,0.4930,MDR1_HUMAN,P-glycoprotein 1\r",
      "\r\n",
      "296187,CHEMBL4302,1000,1.788e-10,0.4658,MDR1_HUMAN,P-glycoprotein 1\r",
      "\r\n",
      "296188,CHEMBL4302,1000,1.047e-11,0.4865,MDR1_HUMAN,P-glycoprotein 1\r",
      "\r\n",
      "296000,CHEMBL5684,1000,3.56e-07,0.3218,MUSK_HUMAN,\"Muscle, skeletal receptor tyrosine protein kinase\"\r",
      "\r\n",
      "296046,CHEMBL5684,1000,3.948e-07,0.3196,MUSK_HUMAN,\"Muscle, skeletal receptor tyrosine protein kinase\"\r",
      "\r\n",
      "296038,CHEMBL249,100,2.581e-06,0.3333,NK1R_HUMAN,Neurokinin 1 receptor\r",
      "\r\n",
      "296069,CHEMBL249,100,1.331e-81,1.0000,NK1R_HUMAN,Neurokinin 1 receptor\r",
      "\r\n",
      "296120,CHEMBL249,100,9.742e-69,1.0000,NK1R_HUMAN,Neurokinin 1 receptor\r",
      "\r\n",
      "296146,CHEMBL249,100,8.758e-06,0.4384,NK1R_HUMAN,Neurokinin 1 receptor\r",
      "\r\n",
      "296156,CHEMBL249,100,3.902e-07,0.4444,NK1R_HUMAN,Neurokinin 1 receptor\r",
      "\r\n"
     ]
    }
   ],
   "source": [
    "!tail $SMA_file"
   ]
  },
  {
   "cell_type": "code",
   "execution_count": 6,
   "metadata": {
    "collapsed": true
   },
   "outputs": [],
   "source": [
    "import csv\n",
    "import pandas as pd"
   ]
  },
  {
   "cell_type": "code",
   "execution_count": 7,
   "metadata": {
    "collapsed": true
   },
   "outputs": [],
   "source": [
    "a = pd.read_csv(SMA_file, sep=\",\", quotechar=\"\\\"\")"
   ]
  },
  {
   "cell_type": "code",
   "execution_count": 8,
   "metadata": {
    "collapsed": true
   },
   "outputs": [],
   "source": [
    "a.Description = a.Description.str.replace(',','-')"
   ]
  },
  {
   "cell_type": "code",
   "execution_count": 9,
   "metadata": {
    "collapsed": true
   },
   "outputs": [],
   "source": [
    "a.to_csv(SMA_file, header=True, index=False)"
   ]
  },
  {
   "cell_type": "code",
   "execution_count": 10,
   "metadata": {},
   "outputs": [
    {
     "name": "stdout",
     "output_type": "stream",
     "text": [
      "296175,CHEMBL4302,1000,3.29e-10,0.493,MDR1_HUMAN,P-glycoprotein 1\r\n",
      "296187,CHEMBL4302,1000,1.788e-10,0.4658,MDR1_HUMAN,P-glycoprotein 1\r\n",
      "296188,CHEMBL4302,1000,1.047e-11,0.4865,MDR1_HUMAN,P-glycoprotein 1\r\n",
      "296000,CHEMBL5684,1000,3.56e-07,0.3218,MUSK_HUMAN,Muscle- skeletal receptor tyrosine protein kinase\r\n",
      "296046,CHEMBL5684,1000,3.948e-07,0.3196,MUSK_HUMAN,Muscle- skeletal receptor tyrosine protein kinase\r\n",
      "296038,CHEMBL249,100,2.581e-06,0.3333,NK1R_HUMAN,Neurokinin 1 receptor\r\n",
      "296069,CHEMBL249,100,1.331e-81,1.0,NK1R_HUMAN,Neurokinin 1 receptor\r\n",
      "296120,CHEMBL249,100,9.742e-69,1.0,NK1R_HUMAN,Neurokinin 1 receptor\r\n",
      "296146,CHEMBL249,100,8.758e-06,0.4384,NK1R_HUMAN,Neurokinin 1 receptor\r\n",
      "296156,CHEMBL249,100,3.902e-07,0.4444,NK1R_HUMAN,Neurokinin 1 receptor\r\n"
     ]
    }
   ],
   "source": [
    "# despite removing commas here, it wasn't necessary. This was a preprocessing step. \n",
    "!tail $SMA_file"
   ]
  },
  {
   "cell_type": "code",
   "execution_count": 2,
   "metadata": {},
   "outputs": [
    {
     "name": "stdout",
     "output_type": "stream",
     "text": [
      "579534,1872\r\n",
      "579568,1872\r\n",
      "579569,1872\r\n",
      "579616,1872\r\n",
      "579628,1872\r\n",
      "579647,1872\r\n",
      "579656,1872\r\n",
      "579685,1872\r\n",
      "579788,1872\r\n",
      "579822,1872\r\n"
     ]
    }
   ],
   "source": [
    "# Actual SMA SEA blacklist file just plots molecule, targetID\n",
    "!zcat /srv/home/nmew/data/hdf5/chembl20/ecfp/with_PCBA/time_split/MI_PCBA_subset_chembl20_800maxmw_10moleculesmin_medianval_mid_4096bvECFP_TS2012train_sea_pcutoffe-5_blacklist/MI_PCBA_subset_chembl20_800maxmw_10moleculesmin_medianval_mid_4096bvECFP_TS2012train_sea_pcutoffe-5_blacklist.csv.gz | tail"
   ]
  },
  {
   "cell_type": "markdown",
   "metadata": {
    "collapsed": true
   },
   "source": [
    "## Run analyses"
   ]
  },
  {
   "cell_type": "code",
   "execution_count": 3,
   "metadata": {},
   "outputs": [
    {
     "name": "stdout",
     "output_type": "stream",
     "text": [
      "gen_dm_analysis.sh    get_metrics.sh  run_expt.sh\t\t SN_retrains.sh\r\n",
      "gen_ts_validation.sh  __init__.py     run_with_custom_epochs.py  Untitled.ipynb\r\n",
      "get_best_epochs.py    plot_fcns.py    run_with_custom_epochs.sh\r\n",
      "get_best_epochs.sh    plot_fcns.pyc   sneg_args.txt\r\n"
     ]
    }
   ],
   "source": [
    "!ls ../STD_SMA_RATIOS/"
   ]
  },
  {
   "cell_type": "code",
   "execution_count": 2,
   "metadata": {},
   "outputs": [],
   "source": [
    "!cp ../STD_SMA_RATIOS/get_metrics.sh ./"
   ]
  },
  {
   "cell_type": "code",
   "execution_count": 3,
   "metadata": {
    "collapsed": true
   },
   "outputs": [],
   "source": [
    "!cp ../STD_SMA_RATIOS/get_best_epochs.py ./"
   ]
  },
  {
   "cell_type": "code",
   "execution_count": 4,
   "metadata": {
    "collapsed": true
   },
   "outputs": [],
   "source": [
    "!cp ../STD_SMA_RATIOS/get_best_epochs.sh ./"
   ]
  },
  {
   "cell_type": "code",
   "execution_count": 5,
   "metadata": {
    "collapsed": true
   },
   "outputs": [],
   "source": [
    "!cp ../STD_SMA_RATIOS/gen_dm_analysis.sh ./"
   ]
  },
  {
   "cell_type": "code",
   "execution_count": 7,
   "metadata": {},
   "outputs": [],
   "source": [
    "!cp ../STD_SMA_RATIOS/gen_ts_validation.sh ./"
   ]
  },
  {
   "cell_type": "code",
   "execution_count": 8,
   "metadata": {},
   "outputs": [
    {
     "name": "stdout",
     "output_type": "stream",
     "text": [
      "gen_dm_analysis.sh    get_best_epochs.py  get_metrics.sh  SEA_SMA_retrain.sh\r\n",
      "gen_ts_validation.sh  get_best_epochs.sh  README.ipynb\t  sneg_args.txt\r\n"
     ]
    }
   ],
   "source": [
    "!ls"
   ]
  },
  {
   "cell_type": "code",
   "execution_count": null,
   "metadata": {
    "collapsed": true
   },
   "outputs": [],
   "source": []
  }
 ],
 "metadata": {
  "kernelspec": {
   "display_name": "Python 2",
   "language": "python",
   "name": "python2"
  },
  "language_info": {
   "codemirror_mode": {
    "name": "ipython",
    "version": 2
   },
   "file_extension": ".py",
   "mimetype": "text/x-python",
   "name": "python",
   "nbconvert_exporter": "python",
   "pygments_lexer": "ipython2",
   "version": "2.7.12"
  }
 },
 "nbformat": 4,
 "nbformat_minor": 2
}
