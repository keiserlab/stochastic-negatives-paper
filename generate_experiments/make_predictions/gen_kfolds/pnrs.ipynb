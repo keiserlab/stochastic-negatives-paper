{
 "cells": [
  {
   "cell_type": "code",
   "execution_count": 1,
   "metadata": {
    "collapsed": true
   },
   "outputs": [],
   "source": [
    "%matplotlib inline\n",
    "import os\n",
    "import cPickle as pkl\n",
    "from common.h5py_data_loader import H5pyDataLoader\n",
    "import matplotlib.pyplot as plt\n",
    "import seaborn as sns\n",
    "import numpy as np\n",
    "import pandas as pd\n",
    "from itertools import combinations\n",
    "from common.chembl_export_data_loader import DrugMatrixDataLoader"
   ]
  },
  {
   "cell_type": "code",
   "execution_count": 2,
   "metadata": {
    "collapsed": true
   },
   "outputs": [],
   "source": [
    "##### Filesystem handler functions #####\n",
    "\n",
    "def get_env_var(handle):\n",
    "    \"\"\"Get an environment variable given the handle for the bash variable\n",
    "    \n",
    "    Params\n",
    "    ========\n",
    "    handle : str\n",
    "        handle for a bash variable\n",
    "        \n",
    "    Returns\n",
    "    ========\n",
    "    tmp : str\n",
    "        environment variable as a string\n",
    "    \"\"\" \n",
    "    tmp = os.getenv(handle)\n",
    "    if not tmp:\n",
    "        raise LookupError(\"Environment variable: {} not set.\".format(handle))\n",
    "    return tmp.strip(\"'\")\n",
    "\n",
    "\n",
    "def get_kfold_dataloader(dset, kfold_file):\n",
    "    return H5pyDataLoader(hdf5_file=dataset, target_map_file=None, train_percentage=None, test_indices_file=kfold_file)\n",
    "\n",
    "def get_counts(activity_df):\n",
    "    notna = ~np.isnan(activity_df)\n",
    "    gfive = activity_df>5.0\n",
    "    leqfive = activity_df<=5.0\n",
    "    npos = np.sum(notna & gfive)\n",
    "    nneg = np.sum(notna & leqfive)\n",
    "    ntot = np.sum(notna)\n",
    "    return npos, nneg, ntot\n"
   ]
  },
  {
   "cell_type": "code",
   "execution_count": 3,
   "metadata": {
    "collapsed": true
   },
   "outputs": [],
   "source": [
    "expt_base=\"{}/20180525_DM_scrubbing/train_data\".format(get_env_var(\"DATA_SAVE_BASE\"))\n",
    "dataset = \"{}/train_ts2012_chembl20_MWmax800_scrubDM_minpos10_cutoff5.hdf5\".format(expt_base)\n",
    "ts_dataset =  \"{}/val_ts2012_chembl20_MWmax800_scrubDM_minpos10_cutoff5.hdf5\".format(expt_base)\n",
    "target_map = \"{}/ts2012_chembl20_MWmax800_scrubDM_minpos10_cutoff5_target_index.pkl\".format(expt_base)"
   ]
  },
  {
   "cell_type": "code",
   "execution_count": 4,
   "metadata": {
    "collapsed": true
   },
   "outputs": [],
   "source": [
    "dl = H5pyDataLoader(hdf5_file=dataset, target_map_file=target_map, train_percentage=None)\n",
    "ts_dl = H5pyDataLoader(hdf5_file=ts_dataset, target_map_file=target_map, train_percentage=None)"
   ]
  },
  {
   "cell_type": "code",
   "execution_count": 5,
   "metadata": {
    "collapsed": true
   },
   "outputs": [],
   "source": [
    "kfold_dir = \"{}/20190410_SMA_Investigation/kfold_indices\".format(get_env_var(\"DATA_SAVE_BASE\"))"
   ]
  },
  {
   "cell_type": "code",
   "execution_count": 6,
   "metadata": {},
   "outputs": [
    {
     "name": "stderr",
     "output_type": "stream",
     "text": [
      "/srv/home/ecaceres/anaconda2/envs/features/lib/python2.7/site-packages/ipykernel_launcher.py:27: RuntimeWarning: invalid value encountered in greater\n",
      "/srv/home/ecaceres/anaconda2/envs/features/lib/python2.7/site-packages/ipykernel_launcher.py:28: RuntimeWarning: invalid value encountered in less_equal\n"
     ]
    }
   ],
   "source": [
    "n_folds=5\n",
    "fold_list = np.arange(0,n_folds,1)\n",
    "kfold_file = \"{}/pickleKF_{}_indices\".format(kfold_dir, {})\n",
    "df = pd.DataFrame(columns=[\"dset\", \"npos\", \"nneg\", \"ntot\"])\n",
    "a = dl.load_activity()\n",
    "npos, nneg, ntot = get_counts(a)\n",
    "df = df.append({\"dset\":\"train_all\", \"npos\": npos, \"nneg\": nneg, \"ntot\":ntot}, ignore_index=True)\n",
    "\n",
    "for i in fold_list:\n",
    "    dl_i = get_kfold_dataloader(dataset, kfold_file.format(i))\n",
    "    a_i = dl_i.load_activity()\n",
    "    train_idx, test_idx = dl_i.get_train_test_indices()\n",
    "    a_test = a_i[test_idx]\n",
    "    npos, nneg, ntot = get_counts(a_test)\n",
    "    df = df.append({\"dset\":\"test_fold_{}\".format(i), \"npos\": npos, \"nneg\": nneg, \"ntot\":ntot}, ignore_index=True)\n",
    "    \n",
    "    a_train = a_i[train_idx]\n",
    "    npos, nneg, ntot = get_counts(a_train)\n",
    "    df = df.append({\"dset\":\"train_fold_{}\".format(i), \"npos\": npos, \"nneg\": nneg, \"ntot\":ntot}, ignore_index=True)"
   ]
  },
  {
   "cell_type": "code",
   "execution_count": 7,
   "metadata": {},
   "outputs": [
    {
     "name": "stderr",
     "output_type": "stream",
     "text": [
      "/srv/home/ecaceres/anaconda2/envs/features/lib/python2.7/site-packages/ipykernel_launcher.py:27: RuntimeWarning: invalid value encountered in greater\n",
      "/srv/home/ecaceres/anaconda2/envs/features/lib/python2.7/site-packages/ipykernel_launcher.py:28: RuntimeWarning: invalid value encountered in less_equal\n"
     ]
    }
   ],
   "source": [
    "a_i = ts_dl.load_activity()\n",
    "npos, nneg, ntot = get_counts(a_i)\n",
    "df = df.append({\"dset\":\"timesplit\", \"npos\": npos, \"nneg\": nneg, \"ntot\":ntot}, ignore_index=True)"
   ]
  },
  {
   "cell_type": "code",
   "execution_count": 8,
   "metadata": {
    "collapsed": true
   },
   "outputs": [],
   "source": [
    "with open(target_map, \"rb\") as f:\n",
    "    d = pkl.load(f)"
   ]
  },
  {
   "cell_type": "code",
   "execution_count": 9,
   "metadata": {},
   "outputs": [
    {
     "name": "stderr",
     "output_type": "stream",
     "text": [
      "/srv/home/ecaceres/labgits/neural-nets/common/chembl_export_data_loader.py:101: FutureWarning: sortlevel is deprecated, use sort_index(level= ...)\n",
      "  tdf.sortlevel(['target', 'compound'], inplace=True)\n",
      "/srv/home/ecaceres/anaconda2/envs/features/lib/python2.7/site-packages/ipykernel_launcher.py:6: RuntimeWarning: invalid value encountered in greater\n",
      "  \n",
      "/srv/home/ecaceres/anaconda2/envs/features/lib/python2.7/site-packages/ipykernel_launcher.py:7: RuntimeWarning: invalid value encountered in less_equal\n",
      "  import sys\n"
     ]
    }
   ],
   "source": [
    "dm_dl = DrugMatrixDataLoader()\n",
    "a = dm_dl.chembl_export_df\n",
    "dm_targets = [i for i in a.columns if i in d.keys()]\n",
    "dm_stuff = a[dm_targets]\n",
    "notna = ~np.isnan(dm_stuff.values)\n",
    "gfive = dm_stuff.values>5.0\n",
    "leqfive = dm_stuff.values<=5.0\n",
    "npos = np.sum(notna & gfive)\n",
    "nneg = np.sum(notna & leqfive)\n",
    "ntot = npos+nneg\n",
    "df = df.append({\"dset\":\"drugmatrix_known_vals\", \"npos\": npos, \"nneg\": nneg, \"ntot\":ntot}, ignore_index=True)"
   ]
  },
  {
   "cell_type": "code",
   "execution_count": 10,
   "metadata": {
    "collapsed": true
   },
   "outputs": [],
   "source": [
    "dm_dl = DrugMatrixDataLoader()\n",
    "a = dm_dl.chembl_export_df\n",
    "dm_targets = [i for i in a.columns if i in d.keys()]\n",
    "dm_stuff = a[dm_targets]\n",
    "notna = ~np.isnan(dm_stuff)\n",
    "isna = np.isnan(dm_stuff)\n",
    "gfive = dm_stuff>5.0\n",
    "leqfive = dm_stuff<=5.0\n",
    "npos = np.sum(notna.values & gfive.values)\n",
    "nneg = np.sum(isna.values | leqfive.values)\n",
    "ntot = npos+nneg\n",
    "df = df.append({\"dset\":\"drugmatrix_all_vals\", \"npos\": npos, \"nneg\": nneg, \"ntot\":ntot}, ignore_index=True)"
   ]
  },
  {
   "cell_type": "code",
   "execution_count": 11,
   "metadata": {
    "collapsed": true
   },
   "outputs": [],
   "source": [
    "df[\"ppos\"] = (df[\"npos\"]/df[\"ntot\"])*100\n",
    "df[\"pneg\"] = (df[\"nneg\"]/df[\"ntot\"])*100"
   ]
  },
  {
   "cell_type": "code",
   "execution_count": 12,
   "metadata": {},
   "outputs": [],
   "source": [
    "df.to_csv(\"split_ratios.csv\", sep=\"\\t\")"
   ]
  },
  {
   "cell_type": "code",
   "execution_count": 15,
   "metadata": {
    "collapsed": true
   },
   "outputs": [],
   "source": [
    "a = dl.load_activity()"
   ]
  },
  {
   "cell_type": "code",
   "execution_count": 16,
   "metadata": {
    "collapsed": true
   },
   "outputs": [],
   "source": [
    "m = ~np.isnan(a)"
   ]
  },
  {
   "cell_type": "code",
   "execution_count": 17,
   "metadata": {
    "collapsed": true
   },
   "outputs": [],
   "source": [
    "n_interactions = m.sum()"
   ]
  },
  {
   "cell_type": "code",
   "execution_count": 18,
   "metadata": {
    "collapsed": true
   },
   "outputs": [],
   "source": [
    "ten_micromolar = 0.00001\n",
    "one_micromolar = 0.000001\n",
    "onehundred_nanomolar = 0.0000001"
   ]
  },
  {
   "cell_type": "code",
   "execution_count": 19,
   "metadata": {
    "collapsed": true
   },
   "outputs": [],
   "source": [
    "geq_5 = a[m] >= -np.log10(ten_micromolar)\n",
    "geq_6 = a[m] >= -np.log10(one_micromolar)\n",
    "geq_7 = a[m] >= -np.log10(onehundred_nanomolar)"
   ]
  },
  {
   "cell_type": "code",
   "execution_count": 20,
   "metadata": {},
   "outputs": [
    {
     "data": {
      "text/plain": [
       "72.80876333443801"
      ]
     },
     "execution_count": 20,
     "metadata": {},
     "output_type": "execute_result"
    }
   ],
   "source": [
    "100*(float(geq_5.sum())/n_interactions)"
   ]
  },
  {
   "cell_type": "code",
   "execution_count": 21,
   "metadata": {},
   "outputs": [
    {
     "data": {
      "text/plain": [
       "55.47806927190162"
      ]
     },
     "execution_count": 21,
     "metadata": {},
     "output_type": "execute_result"
    }
   ],
   "source": [
    "100*(float(geq_6.sum())/n_interactions)"
   ]
  },
  {
   "cell_type": "code",
   "execution_count": 22,
   "metadata": {},
   "outputs": [
    {
     "data": {
      "text/plain": [
       "34.309385832131625"
      ]
     },
     "execution_count": 22,
     "metadata": {},
     "output_type": "execute_result"
    }
   ],
   "source": [
    "100*(float(geq_7.sum())/n_interactions)"
   ]
  },
  {
   "cell_type": "code",
   "execution_count": 23,
   "metadata": {
    "collapsed": true
   },
   "outputs": [],
   "source": [
    "t = dl.load_pos()"
   ]
  },
  {
   "cell_type": "code",
   "execution_count": 24,
   "metadata": {
    "collapsed": true
   },
   "outputs": [],
   "source": [
    "targs = t[m]"
   ]
  },
  {
   "cell_type": "code",
   "execution_count": 32,
   "metadata": {
    "collapsed": true
   },
   "outputs": [],
   "source": [
    "target_lookup_dict = {v:k for k,v in d.items()}"
   ]
  },
  {
   "cell_type": "code",
   "execution_count": null,
   "metadata": {
    "collapsed": true
   },
   "outputs": [],
   "source": [
    "no_negatives = 0\n",
    "no_positives = 0\n",
    "dat = pd.DataFrame(columns=[\"target\", \"n_pos\", \"n_neg\"])\n",
    "for i in np.arange(0, max(targs)+1, 1):\n",
    "    targ_mask = targs == i\n",
    "    mols = a[m][targ_mask] \n",
    "    pos_mask = mols >= 5.0\n",
    "    neg_mask = mols < 5.0\n",
    "    if pos_mask.sum() == 0:\n",
    "        no_positives += 1\n",
    "    if neg_mask.sum() == 0:\n",
    "        no_negatives += 1\n",
    "    if (pos_mask.sum()==0) and (neg_mask.sum() == 0):\n",
    "        print(\"ERROR\")\n",
    "    dat.loc[i] = {\"target\": target_lookup_dict[i], \"n_pos\": pos_mask.sum(), \"n_neg\": neg_mask.sum()}"
   ]
  },
  {
   "cell_type": "code",
   "execution_count": null,
   "metadata": {
    "collapsed": true
   },
   "outputs": [],
   "source": [
    "dat"
   ]
  },
  {
   "cell_type": "code",
   "execution_count": 51,
   "metadata": {
    "collapsed": true
   },
   "outputs": [],
   "source": [
    "dat.to_csv(\"targets_and_counts.csv\", sep=\"\\t\")"
   ]
  },
  {
   "cell_type": "code",
   "execution_count": 21,
   "metadata": {},
   "outputs": [
    {
     "data": {
      "text/plain": [
       "139"
      ]
     },
     "execution_count": 21,
     "metadata": {},
     "output_type": "execute_result"
    }
   ],
   "source": [
    "no_negatives"
   ]
  },
  {
   "cell_type": "code",
   "execution_count": 22,
   "metadata": {},
   "outputs": [
    {
     "data": {
      "text/plain": [
       "0"
      ]
     },
     "execution_count": 22,
     "metadata": {},
     "output_type": "execute_result"
    }
   ],
   "source": [
    "no_positives"
   ]
  },
  {
   "cell_type": "code",
   "execution_count": 24,
   "metadata": {},
   "outputs": [
    {
     "data": {
      "text/plain": [
       "6.823760432007854"
      ]
     },
     "execution_count": 24,
     "metadata": {},
     "output_type": "execute_result"
    }
   ],
   "source": [
    "(float(139)/2037)*100"
   ]
  },
  {
   "cell_type": "code",
   "execution_count": 41,
   "metadata": {
    "collapsed": true
   },
   "outputs": [],
   "source": [
    "d = pd.DataFrame(columns=[\"cutoff\", \"n_pos\", \"n_neg\"])"
   ]
  },
  {
   "cell_type": "code",
   "execution_count": 42,
   "metadata": {
    "collapsed": true
   },
   "outputs": [],
   "source": [
    "for i in np.arange(0,16, 1):\n",
    "    cutoff = i\n",
    "    n_pos = (a[m] >= i).sum()\n",
    "    n_neg = (a[m] < i).sum()\n",
    "    d.loc[i] = {\"cutoff\": cutoff, \"n_pos\": n_pos, \"n_neg\": n_neg}"
   ]
  },
  {
   "cell_type": "code",
   "execution_count": 47,
   "metadata": {
    "collapsed": true
   },
   "outputs": [],
   "source": [
    "d[\"percent_pos\"] = 100*((d[\"n_pos\"])/(d[\"n_pos\"]+d[\"n_neg\"]))\n",
    "d[\"percent_neg\"] = 100*((d[\"n_neg\"])/(d[\"n_pos\"]+d[\"n_neg\"]))"
   ]
  },
  {
   "cell_type": "code",
   "execution_count": 52,
   "metadata": {
    "collapsed": true
   },
   "outputs": [],
   "source": [
    "d.to_csv(\"cutoffs_and_counts.csv\", sep=\"\\t\")"
   ]
  },
  {
   "cell_type": "code",
   "execution_count": 53,
   "metadata": {},
   "outputs": [
    {
     "data": {
      "text/html": [
       "<div>\n",
       "<style scoped>\n",
       "    .dataframe tbody tr th:only-of-type {\n",
       "        vertical-align: middle;\n",
       "    }\n",
       "\n",
       "    .dataframe tbody tr th {\n",
       "        vertical-align: top;\n",
       "    }\n",
       "\n",
       "    .dataframe thead th {\n",
       "        text-align: right;\n",
       "    }\n",
       "</style>\n",
       "<table border=\"1\" class=\"dataframe\">\n",
       "  <thead>\n",
       "    <tr style=\"text-align: right;\">\n",
       "      <th></th>\n",
       "      <th>cutoff</th>\n",
       "      <th>n_pos</th>\n",
       "      <th>n_neg</th>\n",
       "      <th>percent_pos</th>\n",
       "      <th>percent_neg</th>\n",
       "    </tr>\n",
       "  </thead>\n",
       "  <tbody>\n",
       "    <tr>\n",
       "      <th>0</th>\n",
       "      <td>0</td>\n",
       "      <td>558235</td>\n",
       "      <td>0</td>\n",
       "      <td>100</td>\n",
       "      <td>0</td>\n",
       "    </tr>\n",
       "    <tr>\n",
       "      <th>1</th>\n",
       "      <td>1</td>\n",
       "      <td>553759</td>\n",
       "      <td>4476</td>\n",
       "      <td>99.1982</td>\n",
       "      <td>0.801813</td>\n",
       "    </tr>\n",
       "    <tr>\n",
       "      <th>2</th>\n",
       "      <td>2</td>\n",
       "      <td>531531</td>\n",
       "      <td>26704</td>\n",
       "      <td>95.2164</td>\n",
       "      <td>4.78365</td>\n",
       "    </tr>\n",
       "    <tr>\n",
       "      <th>3</th>\n",
       "      <td>3</td>\n",
       "      <td>475564</td>\n",
       "      <td>82671</td>\n",
       "      <td>85.1906</td>\n",
       "      <td>14.8094</td>\n",
       "    </tr>\n",
       "    <tr>\n",
       "      <th>4</th>\n",
       "      <td>4</td>\n",
       "      <td>451808</td>\n",
       "      <td>106427</td>\n",
       "      <td>80.9351</td>\n",
       "      <td>19.0649</td>\n",
       "    </tr>\n",
       "    <tr>\n",
       "      <th>5</th>\n",
       "      <td>5</td>\n",
       "      <td>406444</td>\n",
       "      <td>151791</td>\n",
       "      <td>72.8088</td>\n",
       "      <td>27.1912</td>\n",
       "    </tr>\n",
       "    <tr>\n",
       "      <th>6</th>\n",
       "      <td>6</td>\n",
       "      <td>309698</td>\n",
       "      <td>248537</td>\n",
       "      <td>55.4781</td>\n",
       "      <td>44.5219</td>\n",
       "    </tr>\n",
       "    <tr>\n",
       "      <th>7</th>\n",
       "      <td>7</td>\n",
       "      <td>191527</td>\n",
       "      <td>366708</td>\n",
       "      <td>34.3094</td>\n",
       "      <td>65.6906</td>\n",
       "    </tr>\n",
       "    <tr>\n",
       "      <th>8</th>\n",
       "      <td>8</td>\n",
       "      <td>86705</td>\n",
       "      <td>471530</td>\n",
       "      <td>15.532</td>\n",
       "      <td>84.468</td>\n",
       "    </tr>\n",
       "    <tr>\n",
       "      <th>9</th>\n",
       "      <td>9</td>\n",
       "      <td>23784</td>\n",
       "      <td>534451</td>\n",
       "      <td>4.26057</td>\n",
       "      <td>95.7394</td>\n",
       "    </tr>\n",
       "    <tr>\n",
       "      <th>10</th>\n",
       "      <td>10</td>\n",
       "      <td>3276</td>\n",
       "      <td>554959</td>\n",
       "      <td>0.58685</td>\n",
       "      <td>99.4132</td>\n",
       "    </tr>\n",
       "    <tr>\n",
       "      <th>11</th>\n",
       "      <td>11</td>\n",
       "      <td>482</td>\n",
       "      <td>557753</td>\n",
       "      <td>0.0863436</td>\n",
       "      <td>99.9137</td>\n",
       "    </tr>\n",
       "    <tr>\n",
       "      <th>12</th>\n",
       "      <td>12</td>\n",
       "      <td>89</td>\n",
       "      <td>558146</td>\n",
       "      <td>0.0159431</td>\n",
       "      <td>99.9841</td>\n",
       "    </tr>\n",
       "    <tr>\n",
       "      <th>13</th>\n",
       "      <td>13</td>\n",
       "      <td>25</td>\n",
       "      <td>558210</td>\n",
       "      <td>0.0044784</td>\n",
       "      <td>99.9955</td>\n",
       "    </tr>\n",
       "    <tr>\n",
       "      <th>14</th>\n",
       "      <td>14</td>\n",
       "      <td>1</td>\n",
       "      <td>558234</td>\n",
       "      <td>0.000179136</td>\n",
       "      <td>99.9998</td>\n",
       "    </tr>\n",
       "    <tr>\n",
       "      <th>15</th>\n",
       "      <td>15</td>\n",
       "      <td>0</td>\n",
       "      <td>558235</td>\n",
       "      <td>0</td>\n",
       "      <td>100</td>\n",
       "    </tr>\n",
       "  </tbody>\n",
       "</table>\n",
       "</div>"
      ],
      "text/plain": [
       "   cutoff   n_pos   n_neg  percent_pos percent_neg\n",
       "0       0  558235       0          100           0\n",
       "1       1  553759    4476      99.1982    0.801813\n",
       "2       2  531531   26704      95.2164     4.78365\n",
       "3       3  475564   82671      85.1906     14.8094\n",
       "4       4  451808  106427      80.9351     19.0649\n",
       "5       5  406444  151791      72.8088     27.1912\n",
       "6       6  309698  248537      55.4781     44.5219\n",
       "7       7  191527  366708      34.3094     65.6906\n",
       "8       8   86705  471530       15.532      84.468\n",
       "9       9   23784  534451      4.26057     95.7394\n",
       "10     10    3276  554959      0.58685     99.4132\n",
       "11     11     482  557753    0.0863436     99.9137\n",
       "12     12      89  558146    0.0159431     99.9841\n",
       "13     13      25  558210    0.0044784     99.9955\n",
       "14     14       1  558234  0.000179136     99.9998\n",
       "15     15       0  558235            0         100"
      ]
     },
     "execution_count": 53,
     "metadata": {},
     "output_type": "execute_result"
    }
   ],
   "source": [
    "d"
   ]
  },
  {
   "cell_type": "code",
   "execution_count": 54,
   "metadata": {},
   "outputs": [
    {
     "data": {
      "text/html": [
       "<div>\n",
       "<style scoped>\n",
       "    .dataframe tbody tr th:only-of-type {\n",
       "        vertical-align: middle;\n",
       "    }\n",
       "\n",
       "    .dataframe tbody tr th {\n",
       "        vertical-align: top;\n",
       "    }\n",
       "\n",
       "    .dataframe thead th {\n",
       "        text-align: right;\n",
       "    }\n",
       "</style>\n",
       "<table border=\"1\" class=\"dataframe\">\n",
       "  <thead>\n",
       "    <tr style=\"text-align: right;\">\n",
       "      <th></th>\n",
       "      <th>target</th>\n",
       "      <th>n_pos</th>\n",
       "      <th>n_neg</th>\n",
       "    </tr>\n",
       "  </thead>\n",
       "  <tbody>\n",
       "    <tr>\n",
       "      <th>0</th>\n",
       "      <td>0</td>\n",
       "      <td>16</td>\n",
       "      <td>34</td>\n",
       "    </tr>\n",
       "    <tr>\n",
       "      <th>1</th>\n",
       "      <td>1</td>\n",
       "      <td>83</td>\n",
       "      <td>61</td>\n",
       "    </tr>\n",
       "    <tr>\n",
       "      <th>2</th>\n",
       "      <td>2</td>\n",
       "      <td>26</td>\n",
       "      <td>1</td>\n",
       "    </tr>\n",
       "    <tr>\n",
       "      <th>3</th>\n",
       "      <td>3</td>\n",
       "      <td>15</td>\n",
       "      <td>5</td>\n",
       "    </tr>\n",
       "    <tr>\n",
       "      <th>4</th>\n",
       "      <td>4</td>\n",
       "      <td>928</td>\n",
       "      <td>373</td>\n",
       "    </tr>\n",
       "    <tr>\n",
       "      <th>5</th>\n",
       "      <td>5</td>\n",
       "      <td>30</td>\n",
       "      <td>25</td>\n",
       "    </tr>\n",
       "    <tr>\n",
       "      <th>6</th>\n",
       "      <td>6</td>\n",
       "      <td>45</td>\n",
       "      <td>7</td>\n",
       "    </tr>\n",
       "    <tr>\n",
       "      <th>7</th>\n",
       "      <td>7</td>\n",
       "      <td>207</td>\n",
       "      <td>13</td>\n",
       "    </tr>\n",
       "    <tr>\n",
       "      <th>8</th>\n",
       "      <td>8</td>\n",
       "      <td>14</td>\n",
       "      <td>8</td>\n",
       "    </tr>\n",
       "    <tr>\n",
       "      <th>9</th>\n",
       "      <td>9</td>\n",
       "      <td>47</td>\n",
       "      <td>17</td>\n",
       "    </tr>\n",
       "    <tr>\n",
       "      <th>10</th>\n",
       "      <td>10</td>\n",
       "      <td>19</td>\n",
       "      <td>8</td>\n",
       "    </tr>\n",
       "    <tr>\n",
       "      <th>11</th>\n",
       "      <td>11</td>\n",
       "      <td>41</td>\n",
       "      <td>9</td>\n",
       "    </tr>\n",
       "    <tr>\n",
       "      <th>12</th>\n",
       "      <td>12</td>\n",
       "      <td>233</td>\n",
       "      <td>97</td>\n",
       "    </tr>\n",
       "    <tr>\n",
       "      <th>13</th>\n",
       "      <td>13</td>\n",
       "      <td>32</td>\n",
       "      <td>1</td>\n",
       "    </tr>\n",
       "    <tr>\n",
       "      <th>14</th>\n",
       "      <td>14</td>\n",
       "      <td>15</td>\n",
       "      <td>49</td>\n",
       "    </tr>\n",
       "    <tr>\n",
       "      <th>15</th>\n",
       "      <td>15</td>\n",
       "      <td>87</td>\n",
       "      <td>72</td>\n",
       "    </tr>\n",
       "    <tr>\n",
       "      <th>16</th>\n",
       "      <td>16</td>\n",
       "      <td>140</td>\n",
       "      <td>35</td>\n",
       "    </tr>\n",
       "    <tr>\n",
       "      <th>17</th>\n",
       "      <td>17</td>\n",
       "      <td>21</td>\n",
       "      <td>61</td>\n",
       "    </tr>\n",
       "    <tr>\n",
       "      <th>18</th>\n",
       "      <td>18</td>\n",
       "      <td>286</td>\n",
       "      <td>25</td>\n",
       "    </tr>\n",
       "    <tr>\n",
       "      <th>19</th>\n",
       "      <td>19</td>\n",
       "      <td>25</td>\n",
       "      <td>3</td>\n",
       "    </tr>\n",
       "    <tr>\n",
       "      <th>20</th>\n",
       "      <td>20</td>\n",
       "      <td>255</td>\n",
       "      <td>174</td>\n",
       "    </tr>\n",
       "    <tr>\n",
       "      <th>21</th>\n",
       "      <td>21</td>\n",
       "      <td>237</td>\n",
       "      <td>82</td>\n",
       "    </tr>\n",
       "    <tr>\n",
       "      <th>22</th>\n",
       "      <td>22</td>\n",
       "      <td>976</td>\n",
       "      <td>135</td>\n",
       "    </tr>\n",
       "    <tr>\n",
       "      <th>23</th>\n",
       "      <td>23</td>\n",
       "      <td>420</td>\n",
       "      <td>55</td>\n",
       "    </tr>\n",
       "    <tr>\n",
       "      <th>24</th>\n",
       "      <td>24</td>\n",
       "      <td>17</td>\n",
       "      <td>55</td>\n",
       "    </tr>\n",
       "    <tr>\n",
       "      <th>25</th>\n",
       "      <td>25</td>\n",
       "      <td>12</td>\n",
       "      <td>61</td>\n",
       "    </tr>\n",
       "    <tr>\n",
       "      <th>26</th>\n",
       "      <td>26</td>\n",
       "      <td>19</td>\n",
       "      <td>3</td>\n",
       "    </tr>\n",
       "    <tr>\n",
       "      <th>27</th>\n",
       "      <td>27</td>\n",
       "      <td>36</td>\n",
       "      <td>1</td>\n",
       "    </tr>\n",
       "    <tr>\n",
       "      <th>28</th>\n",
       "      <td>28</td>\n",
       "      <td>16</td>\n",
       "      <td>57</td>\n",
       "    </tr>\n",
       "    <tr>\n",
       "      <th>29</th>\n",
       "      <td>29</td>\n",
       "      <td>11</td>\n",
       "      <td>0</td>\n",
       "    </tr>\n",
       "    <tr>\n",
       "      <th>...</th>\n",
       "      <td>...</td>\n",
       "      <td>...</td>\n",
       "      <td>...</td>\n",
       "    </tr>\n",
       "    <tr>\n",
       "      <th>2008</th>\n",
       "      <td>2008</td>\n",
       "      <td>39</td>\n",
       "      <td>33</td>\n",
       "    </tr>\n",
       "    <tr>\n",
       "      <th>2009</th>\n",
       "      <td>2009</td>\n",
       "      <td>193</td>\n",
       "      <td>171</td>\n",
       "    </tr>\n",
       "    <tr>\n",
       "      <th>2010</th>\n",
       "      <td>2010</td>\n",
       "      <td>10</td>\n",
       "      <td>1</td>\n",
       "    </tr>\n",
       "    <tr>\n",
       "      <th>2011</th>\n",
       "      <td>2011</td>\n",
       "      <td>1989</td>\n",
       "      <td>139</td>\n",
       "    </tr>\n",
       "    <tr>\n",
       "      <th>2012</th>\n",
       "      <td>2012</td>\n",
       "      <td>20</td>\n",
       "      <td>1</td>\n",
       "    </tr>\n",
       "    <tr>\n",
       "      <th>2013</th>\n",
       "      <td>2013</td>\n",
       "      <td>12</td>\n",
       "      <td>6</td>\n",
       "    </tr>\n",
       "    <tr>\n",
       "      <th>2014</th>\n",
       "      <td>2014</td>\n",
       "      <td>21</td>\n",
       "      <td>0</td>\n",
       "    </tr>\n",
       "    <tr>\n",
       "      <th>2015</th>\n",
       "      <td>2015</td>\n",
       "      <td>1331</td>\n",
       "      <td>279</td>\n",
       "    </tr>\n",
       "    <tr>\n",
       "      <th>2016</th>\n",
       "      <td>2016</td>\n",
       "      <td>170</td>\n",
       "      <td>63</td>\n",
       "    </tr>\n",
       "    <tr>\n",
       "      <th>2017</th>\n",
       "      <td>2017</td>\n",
       "      <td>10</td>\n",
       "      <td>3</td>\n",
       "    </tr>\n",
       "    <tr>\n",
       "      <th>2018</th>\n",
       "      <td>2018</td>\n",
       "      <td>37</td>\n",
       "      <td>36</td>\n",
       "    </tr>\n",
       "    <tr>\n",
       "      <th>2019</th>\n",
       "      <td>2019</td>\n",
       "      <td>48</td>\n",
       "      <td>1</td>\n",
       "    </tr>\n",
       "    <tr>\n",
       "      <th>2020</th>\n",
       "      <td>2020</td>\n",
       "      <td>348</td>\n",
       "      <td>287</td>\n",
       "    </tr>\n",
       "    <tr>\n",
       "      <th>2021</th>\n",
       "      <td>2021</td>\n",
       "      <td>101</td>\n",
       "      <td>50</td>\n",
       "    </tr>\n",
       "    <tr>\n",
       "      <th>2022</th>\n",
       "      <td>2022</td>\n",
       "      <td>34</td>\n",
       "      <td>2</td>\n",
       "    </tr>\n",
       "    <tr>\n",
       "      <th>2023</th>\n",
       "      <td>2023</td>\n",
       "      <td>21</td>\n",
       "      <td>3</td>\n",
       "    </tr>\n",
       "    <tr>\n",
       "      <th>2024</th>\n",
       "      <td>2024</td>\n",
       "      <td>39</td>\n",
       "      <td>5</td>\n",
       "    </tr>\n",
       "    <tr>\n",
       "      <th>2025</th>\n",
       "      <td>2025</td>\n",
       "      <td>70</td>\n",
       "      <td>5</td>\n",
       "    </tr>\n",
       "    <tr>\n",
       "      <th>2026</th>\n",
       "      <td>2026</td>\n",
       "      <td>10</td>\n",
       "      <td>21</td>\n",
       "    </tr>\n",
       "    <tr>\n",
       "      <th>2027</th>\n",
       "      <td>2027</td>\n",
       "      <td>28</td>\n",
       "      <td>2</td>\n",
       "    </tr>\n",
       "    <tr>\n",
       "      <th>2028</th>\n",
       "      <td>2028</td>\n",
       "      <td>10</td>\n",
       "      <td>21</td>\n",
       "    </tr>\n",
       "    <tr>\n",
       "      <th>2029</th>\n",
       "      <td>2029</td>\n",
       "      <td>10</td>\n",
       "      <td>0</td>\n",
       "    </tr>\n",
       "    <tr>\n",
       "      <th>2030</th>\n",
       "      <td>2030</td>\n",
       "      <td>11</td>\n",
       "      <td>0</td>\n",
       "    </tr>\n",
       "    <tr>\n",
       "      <th>2031</th>\n",
       "      <td>2031</td>\n",
       "      <td>13</td>\n",
       "      <td>0</td>\n",
       "    </tr>\n",
       "    <tr>\n",
       "      <th>2032</th>\n",
       "      <td>2032</td>\n",
       "      <td>17</td>\n",
       "      <td>64</td>\n",
       "    </tr>\n",
       "    <tr>\n",
       "      <th>2033</th>\n",
       "      <td>2033</td>\n",
       "      <td>36</td>\n",
       "      <td>17</td>\n",
       "    </tr>\n",
       "    <tr>\n",
       "      <th>2034</th>\n",
       "      <td>2034</td>\n",
       "      <td>111</td>\n",
       "      <td>95</td>\n",
       "    </tr>\n",
       "    <tr>\n",
       "      <th>2035</th>\n",
       "      <td>2035</td>\n",
       "      <td>52</td>\n",
       "      <td>0</td>\n",
       "    </tr>\n",
       "    <tr>\n",
       "      <th>2036</th>\n",
       "      <td>2036</td>\n",
       "      <td>24</td>\n",
       "      <td>3</td>\n",
       "    </tr>\n",
       "    <tr>\n",
       "      <th>2037</th>\n",
       "      <td>2037</td>\n",
       "      <td>33</td>\n",
       "      <td>77</td>\n",
       "    </tr>\n",
       "  </tbody>\n",
       "</table>\n",
       "<p>2038 rows × 3 columns</p>\n",
       "</div>"
      ],
      "text/plain": [
       "     target n_pos n_neg\n",
       "0         0    16    34\n",
       "1         1    83    61\n",
       "2         2    26     1\n",
       "3         3    15     5\n",
       "4         4   928   373\n",
       "5         5    30    25\n",
       "6         6    45     7\n",
       "7         7   207    13\n",
       "8         8    14     8\n",
       "9         9    47    17\n",
       "10       10    19     8\n",
       "11       11    41     9\n",
       "12       12   233    97\n",
       "13       13    32     1\n",
       "14       14    15    49\n",
       "15       15    87    72\n",
       "16       16   140    35\n",
       "17       17    21    61\n",
       "18       18   286    25\n",
       "19       19    25     3\n",
       "20       20   255   174\n",
       "21       21   237    82\n",
       "22       22   976   135\n",
       "23       23   420    55\n",
       "24       24    17    55\n",
       "25       25    12    61\n",
       "26       26    19     3\n",
       "27       27    36     1\n",
       "28       28    16    57\n",
       "29       29    11     0\n",
       "...     ...   ...   ...\n",
       "2008   2008    39    33\n",
       "2009   2009   193   171\n",
       "2010   2010    10     1\n",
       "2011   2011  1989   139\n",
       "2012   2012    20     1\n",
       "2013   2013    12     6\n",
       "2014   2014    21     0\n",
       "2015   2015  1331   279\n",
       "2016   2016   170    63\n",
       "2017   2017    10     3\n",
       "2018   2018    37    36\n",
       "2019   2019    48     1\n",
       "2020   2020   348   287\n",
       "2021   2021   101    50\n",
       "2022   2022    34     2\n",
       "2023   2023    21     3\n",
       "2024   2024    39     5\n",
       "2025   2025    70     5\n",
       "2026   2026    10    21\n",
       "2027   2027    28     2\n",
       "2028   2028    10    21\n",
       "2029   2029    10     0\n",
       "2030   2030    11     0\n",
       "2031   2031    13     0\n",
       "2032   2032    17    64\n",
       "2033   2033    36    17\n",
       "2034   2034   111    95\n",
       "2035   2035    52     0\n",
       "2036   2036    24     3\n",
       "2037   2037    33    77\n",
       "\n",
       "[2038 rows x 3 columns]"
      ]
     },
     "execution_count": 54,
     "metadata": {},
     "output_type": "execute_result"
    }
   ],
   "source": [
    "dat"
   ]
  },
  {
   "cell_type": "code",
   "execution_count": null,
   "metadata": {
    "collapsed": true
   },
   "outputs": [],
   "source": []
  }
 ],
 "metadata": {
  "kernelspec": {
   "display_name": "Python 2",
   "language": "python",
   "name": "python2"
  },
  "language_info": {
   "codemirror_mode": {
    "name": "ipython",
    "version": 2
   },
   "file_extension": ".py",
   "mimetype": "text/x-python",
   "name": "python",
   "nbconvert_exporter": "python",
   "pygments_lexer": "ipython2",
   "version": "2.7.15"
  }
 },
 "nbformat": 4,
 "nbformat_minor": 2
}
