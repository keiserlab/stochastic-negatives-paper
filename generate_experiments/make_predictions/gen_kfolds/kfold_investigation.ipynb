{
 "cells": [
  {
   "cell_type": "code",
   "execution_count": null,
   "metadata": {
    "collapsed": true
   },
   "outputs": [],
   "source": [
    "%matplotlib inline\n",
    "import os\n",
    "import cPickle as pkl\n",
    "from common.h5py_data_loader import H5pyDataLoader\n",
    "import matplotlib.pyplot as plt\n",
    "import seaborn as sns\n",
    "import numpy as np\n",
    "import pandas as pd\n",
    "from itertools import combinations"
   ]
  },
  {
   "cell_type": "code",
   "execution_count": null,
   "metadata": {
    "collapsed": true
   },
   "outputs": [],
   "source": [
    "##### Filesystem handler functions #####\n",
    "\n",
    "def get_env_var(handle):\n",
    "    \"\"\"Get an environment variable given the handle for the bash variable\n",
    "    \n",
    "    Params\n",
    "    ========\n",
    "    handle : str\n",
    "        handle for a bash variable\n",
    "        \n",
    "    Returns\n",
    "    ========\n",
    "    tmp : str\n",
    "        environment variable as a string\n",
    "    \"\"\" \n",
    "    tmp = os.getenv(handle)\n",
    "    if not tmp:\n",
    "        raise LookupError(\"Environment variable: {} not set.\".format(handle))\n",
    "    return tmp.strip(\"'\")"
   ]
  },
  {
   "cell_type": "code",
   "execution_count": null,
   "metadata": {
    "collapsed": true
   },
   "outputs": [],
   "source": [
    "def get_kfold_dataloader(dset, kfold_file):\n",
    "    return H5pyDataLoader(hdf5_file=dataset, target_map_file=None, train_percentage=None, test_indices_file=kfold_file)"
   ]
  },
  {
   "cell_type": "code",
   "execution_count": null,
   "metadata": {
    "collapsed": true
   },
   "outputs": [],
   "source": [
    "expt_base=\"{}/20180525_DM_scrubbing/train_data\".format(get_env_var(\"DATA_SAVE_BASE\"))\n",
    "dataset = \"{}/train_ts2012_chembl20_MWmax800_scrubDM_minpos10_cutoff5.hdf5\".format(expt_base)"
   ]
  },
  {
   "cell_type": "code",
   "execution_count": null,
   "metadata": {
    "collapsed": true
   },
   "outputs": [],
   "source": [
    "dl = H5pyDataLoader(hdf5_file=dataset, target_map_file=None, train_percentage=None)"
   ]
  },
  {
   "cell_type": "code",
   "execution_count": null,
   "metadata": {
    "collapsed": true
   },
   "outputs": [],
   "source": [
    "dl.load_training_data()"
   ]
  },
  {
   "cell_type": "code",
   "execution_count": null,
   "metadata": {
    "collapsed": true
   },
   "outputs": [],
   "source": [
    "a = dl.all_act"
   ]
  },
  {
   "cell_type": "code",
   "execution_count": null,
   "metadata": {
    "collapsed": true
   },
   "outputs": [],
   "source": [
    "np.sum(~np.isnan(a))"
   ]
  },
  {
   "cell_type": "code",
   "execution_count": null,
   "metadata": {
    "collapsed": true
   },
   "outputs": [],
   "source": [
    "kfold_dir = \"{}/20190410_SMA_Investigation/kfold_indices\".format(get_env_var(\"DATA_SAVE_BASE\"))"
   ]
  },
  {
   "cell_type": "code",
   "execution_count": null,
   "metadata": {
    "collapsed": true
   },
   "outputs": [],
   "source": [
    "n_folds=5\n",
    "fold_list = np.arange(0,n_folds,1)\n",
    "kfold_file = \"{}/pickleKF_{}_indices\".format(kfold_dir, {})\n",
    "\n",
    "for i in fold_list:\n",
    "    dl_i = get_kfold_dataloader(dataset, kfold_file.format(i))\n",
    "    # assert each fold has no overlap\n",
    "    assert(np.size(np.intersect1d(dl_i.train_indices, dl_i.test_indices)) == 0)\n",
    "    # assert sum matches full dset size\n",
    "    dl_i_test_len = len(dl_i.test_indices)\n",
    "    dl_i_train_len = len(dl_i.train_indices)\n",
    "    dl_full_len = len(dl.train_indices)\n",
    "    # full size of dataset contained in train and test indices\n",
    "    assert(dl_full_len == (dl_i_test_len + dl_i_train_len))\n",
    "    test_ratio = dl_i_test_len/np.float((dl_i_test_len + dl_i_train_len))\n",
    "    # test set size is 5-fold size\n",
    "    assert(test_ratio == 1/float(n_folds))\n",
    "    \n",
    "for fold_i, fold_j in combinations(fold_list, 2):\n",
    "    dl_i = get_kfold_dataloader(dataset, kfold_file.format(fold_i))\n",
    "    dl_j = get_kfold_dataloader(dataset, kfold_file.format(fold_j))\n",
    "    # assert no overlap\n",
    "    assert(np.size(np.intersect1d(dl_i.test_indices, dl_j.test_indices)) == 0)"
   ]
  },
  {
   "cell_type": "code",
   "execution_count": null,
   "metadata": {
    "collapsed": true
   },
   "outputs": [],
   "source": [
    "test_activities = dl_i.load_activity()[dl_i.test_indices]\n",
    "train_activities = dl_i.load_activity()[dl_i.train_indices]"
   ]
  },
  {
   "cell_type": "markdown",
   "metadata": {},
   "source": [
    "# Distribution differences between train and test for molecules in each fold"
   ]
  },
  {
   "cell_type": "code",
   "execution_count": null,
   "metadata": {
    "collapsed": true
   },
   "outputs": [],
   "source": [
    "for i in fold_list:\n",
    "    dl_i = get_kfold_dataloader(dataset, kfold_file.format(i))\n",
    "    test_activities = dl_i.load_activity()[dl_i.test_indices]\n",
    "    train_activities = dl_i.load_activity()[dl_i.train_indices]\n",
    "    g = sns.distplot(test_activities[~np.isnan(test_activities)], label=\"test\", kde=True, hist=False, color=\"red\")\n",
    "    g = sns.distplot(train_activities[~np.isnan(train_activities)], label=\"train\", kde=True, hist=False, color=\"blue\")\n",
    "    g.set_title(\"Plot for fold {}\".format(i))\n",
    "    plt.show()"
   ]
  },
  {
   "cell_type": "markdown",
   "metadata": {},
   "source": [
    "## Check that the general trends over targets are upheld (qualitative)"
   ]
  },
  {
   "cell_type": "code",
   "execution_count": null,
   "metadata": {
    "collapsed": true,
    "scrolled": false
   },
   "outputs": [],
   "source": [
    "for i in fold_list:\n",
    "    dl_i = get_kfold_dataloader(dataset, kfold_file.format(i))\n",
    "    test_pos = dl_i.load_pos()[dl_i.test_indices]\n",
    "    train_pos = dl_i.load_pos()[dl_i.train_indices]\n",
    "    test_activities = dl_i.load_activity()[dl_i.test_indices]\n",
    "    train_activities = dl_i.load_activity()[dl_i.train_indices]\n",
    "    plt.subplots(figsize=(15,10))\n",
    "    g = sns.distplot(test_pos[~np.isnan(test_activities)], label=\"test\",\n",
    "                     kde=False, hist=True, color=\"red\",)\n",
    "    g = sns.distplot(train_pos[~np.isnan(train_activities)], label=\"train\", \n",
    "                     kde=False, hist=True, color=\"blue\",)\n",
    "    g.set_title(\"Plot for fold {}\".format(i))\n",
    "    g.set_xlim((0, dl_i.num_targets))\n",
    "    plt.show()"
   ]
  },
  {
   "cell_type": "markdown",
   "metadata": {},
   "source": [
    "## Re-plot of distribution of molecules but with histograms"
   ]
  },
  {
   "cell_type": "code",
   "execution_count": null,
   "metadata": {
    "collapsed": true
   },
   "outputs": [],
   "source": [
    "for i in fold_list:\n",
    "    dl_i = get_kfold_dataloader(dataset, kfold_file.format(i))\n",
    "    test_activities = dl_i.load_activity()[dl_i.test_indices]\n",
    "    train_activities = dl_i.load_activity()[dl_i.train_indices]\n",
    "    g = sns.distplot(test_activities[~np.isnan(test_activities)], label=\"test\", kde=False, hist=True, color=\"red\")\n",
    "    g = sns.distplot(train_activities[~np.isnan(train_activities)], label=\"train\", kde=False, hist=True, color=\"blue\")\n",
    "    g.set_title(\"Plot for fold {}\".format(i))\n",
    "    plt.show()"
   ]
  },
  {
   "cell_type": "markdown",
   "metadata": {},
   "source": [
    "## make data to compare molecule counts between test and train sets"
   ]
  },
  {
   "cell_type": "code",
   "execution_count": null,
   "metadata": {
    "collapsed": true
   },
   "outputs": [],
   "source": [
    "df1 = pd.DataFrame({\"fold\": [], \"test_pos\":[], \"targ\":[]})\n",
    "df2 = pd.DataFrame({\"fold\":[], \"train_pos\":[], \"targ\":[]})\n",
    "for i in fold_list:\n",
    "    dl_i = get_kfold_dataloader(dataset, kfold_file.format(i))\n",
    "    \n",
    "    test_activities = dl_i.load_activity()[dl_i.test_indices]\n",
    "    train_activities = dl_i.load_activity()[dl_i.train_indices]\n",
    "    \n",
    "    test_pos = dl_i.load_pos()[dl_i.test_indices]\n",
    "    train_pos = dl_i.load_pos()[dl_i.train_indices]\n",
    "    \n",
    "    m_test = ~np.isnan(test_activities)\n",
    "    m_train = ~np.isnan(train_activities)\n",
    "    \n",
    "    test_targ_list = test_pos[m_test]\n",
    "    test_act_list = test_activities[m_test]\n",
    "    \n",
    "    train_targ_list = train_pos[m_train]\n",
    "    train_act_list = train_activities[m_train]\n",
    "    \n",
    "    assert(test_targ_list.shape == test_act_list.shape)\n",
    "    assert(train_targ_list.shape == train_act_list.shape)\n",
    "    \n",
    "    test_df =  pd.DataFrame({\"fold\": [i]*test_targ_list.shape[0], \n",
    "                             \"test_pos\": test_act_list>5.0, \n",
    "                             \"targ\": test_targ_list })\n",
    "    train_df =  pd.DataFrame({\"fold\": [i]*train_targ_list.shape[0], \n",
    "                             \"train_pos\": train_act_list>5.0, \n",
    "                             \"targ\": train_targ_list }) \n",
    "    \n",
    "    df1 = pd.concat([df1, test_df])\n",
    "    df2 = pd.concat([df2, train_df])\n",
    "    \n",
    "df1[\"test_mols\"] = 1\n",
    "df2[\"train_mols\"] = 1\n",
    "\n",
    "df1 = df1.groupby([\"fold\", \"targ\"]).sum()\n",
    "df2 = df2.groupby([\"fold\", \"targ\"]).sum()\n",
    "\n",
    "merged = df1.merge(df2, on=[\"fold\", \"targ\"])\n",
    "\n",
    "df1 = df1.reset_index()\n",
    "df2 = df2.reset_index()\n",
    "merged = merged.reset_index()"
   ]
  },
  {
   "cell_type": "markdown",
   "metadata": {},
   "source": [
    "## Which targets are missing molecules in test sets?"
   ]
  },
  {
   "cell_type": "code",
   "execution_count": null,
   "metadata": {
    "collapsed": true,
    "scrolled": true
   },
   "outputs": [],
   "source": [
    "for i in np.arange(0, n_folds, 1):\n",
    "    # Get unique targets per fold\n",
    "    targs1 = [int(j) for j in df1[df1.fold == i].targ.unique()]\n",
    "    targs2 = [int(j) for j in df2[df2.fold == i].targ.unique()]\n",
    "    \n",
    "    print(\"Targets missing test set molecules in fold {}\".format(i))\n",
    "    # print targets in the train set that aren't in the test set\n",
    "    missing = np.setdiff1d(targs2, targs1)\n",
    "    print(df2[(df2.targ.isin(missing)) & (df2.fold == i)])\n",
    "    print(df1[(df1.targ.isin(missing)) & (df1.fold == i)])"
   ]
  },
  {
   "cell_type": "code",
   "execution_count": null,
   "metadata": {
    "collapsed": true
   },
   "outputs": [],
   "source": [
    "missing = np.setdiff1d(targs2, targs1)"
   ]
  },
  {
   "cell_type": "code",
   "execution_count": null,
   "metadata": {
    "collapsed": true
   },
   "outputs": [],
   "source": [
    "df2[(df2.targ.isin(missing)) & (df2.fold == i)]"
   ]
  },
  {
   "cell_type": "markdown",
   "metadata": {},
   "source": [
    "## print distribution of positive:total molecules in test set sized by number of molecules in train set\n"
   ]
  },
  {
   "cell_type": "code",
   "execution_count": null,
   "metadata": {
    "collapsed": true,
    "scrolled": false
   },
   "outputs": [],
   "source": [
    "# print distribution of positive:total molecules in test set sized by number of molecules in train set\n",
    "colors = sns.color_palette(\"husl\", n_folds)\n",
    "for i in np.arange(0, n_folds, 1):\n",
    "    tmp_df = merged[merged[\"fold\"] == i]\n",
    "    sns.set_context(\"talk\")\n",
    "    fig, ax = plt.subplots(figsize=(15,12))\n",
    "    g = sns.scatterplot(x=\"test_mols\", y=\"test_pos\", \n",
    "                size=\"train_mols\", \n",
    "                color = colors[i],\n",
    "                alpha=.3, \n",
    "                data=tmp_df,\n",
    "                sizes=(50,900),\n",
    "                ax=ax)\n",
    "    ax.set_xscale('log', basex=10)\n",
    "    ax.set_ylim((0.5,1500))\n",
    "    ax.set_yscale('log', basey=10)\n",
    "    ax.legend(loc=2, title=\"Number of Molecules in the Train Set\")\n",
    "    ax.set_ylabel(\"Number of Positive Molecules in Test Set\")\n",
    "    ax.set_xlabel(\"Number of Total Molecules in Test Set\")\n",
    "    g.set_title(\"Fold {} \".format(i))\n",
    "    plt.show()"
   ]
  },
  {
   "cell_type": "markdown",
   "metadata": {},
   "source": [
    "## print distribution of positive:total molecules in test set sized by number of molecules in train set\n"
   ]
  },
  {
   "cell_type": "code",
   "execution_count": null,
   "metadata": {
    "collapsed": true,
    "scrolled": false
   },
   "outputs": [],
   "source": [
    "# print distribution of positive:total molecules in train set sized by number of molecules in test set\n",
    "\n",
    "colors = sns.color_palette(\"husl\", n_folds)\n",
    "for i in np.arange(0, n_folds, 1):\n",
    "    tmp_df = merged[merged[\"fold\"] == i]\n",
    "    sns.set_context(\"talk\")\n",
    "    fig, ax = plt.subplots(figsize=(15,12))\n",
    "    g = sns.scatterplot(x=\"train_mols\", y=\"train_pos\", \n",
    "                size=\"test_mols\", \n",
    "                color = colors[i],\n",
    "                alpha=.3, \n",
    "                data=tmp_df,\n",
    "                sizes=(50,900),\n",
    "                ax=ax)\n",
    "    ax.set_xscale('log', basex=10)\n",
    "#     ax.set_ylim((0.5,))\n",
    "    ax.set_yscale('log', basey=10)\n",
    "    ax.legend(loc=2, title=\"Number of Molecules in the Test Set\")\n",
    "    ax.set_ylabel(\"Number of Positive Molecules in Train Set\")\n",
    "    ax.set_xlabel(\"Number of Total Molecules in Train Set\")\n",
    "    g.set_title(\"Fold {} \".format(i))\n",
    "    plt.show()"
   ]
  },
  {
   "cell_type": "markdown",
   "metadata": {},
   "source": [
    "## print N for each set"
   ]
  },
  {
   "cell_type": "code",
   "execution_count": 15,
   "metadata": {
    "collapsed": true
   },
   "outputs": [],
   "source": [
    "counts_df = merged.groupby(\"fold\").sum().reset_index()\n",
    "counts_df = counts_df.drop(\"targ\", axis=1)"
   ]
  },
  {
   "cell_type": "code",
   "execution_count": 16,
   "metadata": {},
   "outputs": [
    {
     "data": {
      "text/plain": [
       "Index([u'fold', u'test_pos', u'test_mols', u'train_pos', u'train_mols'], dtype='object')"
      ]
     },
     "execution_count": 16,
     "metadata": {},
     "output_type": "execute_result"
    }
   ],
   "source": [
    "counts_df.columns"
   ]
  },
  {
   "cell_type": "code",
   "execution_count": 17,
   "metadata": {},
   "outputs": [
    {
     "name": "stderr",
     "output_type": "stream",
     "text": [
      "/srv/home/ecaceres/anaconda2/envs/features/lib/python2.7/site-packages/ipykernel_launcher.py:5: SettingWithCopyWarning: \n",
      "A value is trying to be set on a copy of a slice from a DataFrame.\n",
      "Try using .loc[row_indexer,col_indexer] = value instead\n",
      "\n",
      "See the caveats in the documentation: http://pandas.pydata.org/pandas-docs/stable/indexing.html#indexing-view-versus-copy\n",
      "  \"\"\"\n",
      "/srv/home/ecaceres/anaconda2/envs/features/lib/python2.7/site-packages/ipykernel_launcher.py:6: FutureWarning: Sorting because non-concatenation axis is not aligned. A future version\n",
      "of pandas will change to not sort by default.\n",
      "\n",
      "To accept the future behavior, pass 'sort=True'.\n",
      "\n",
      "To retain the current behavior and silence the warning, pass sort=False\n",
      "\n",
      "  \n"
     ]
    }
   ],
   "source": [
    "total_counts_df_formatted = pd.DataFrame({\"fold\":[], \"value\":[], \"label\": []})\n",
    "for label in ['test_mols', 'train_mols']:\n",
    "    tmp_df = counts_df[[\"fold\", label]]\n",
    "    tmp_df.columns = [\"fold\", \"value\"]\n",
    "    tmp_df[\"label\"] = label\n",
    "    total_counts_df_formatted = pd.concat([total_counts_df_formatted, tmp_df])"
   ]
  },
  {
   "cell_type": "code",
   "execution_count": 18,
   "metadata": {},
   "outputs": [
    {
     "name": "stderr",
     "output_type": "stream",
     "text": [
      "/srv/home/ecaceres/anaconda2/envs/features/lib/python2.7/site-packages/ipykernel_launcher.py:5: SettingWithCopyWarning: \n",
      "A value is trying to be set on a copy of a slice from a DataFrame.\n",
      "Try using .loc[row_indexer,col_indexer] = value instead\n",
      "\n",
      "See the caveats in the documentation: http://pandas.pydata.org/pandas-docs/stable/indexing.html#indexing-view-versus-copy\n",
      "  \"\"\"\n",
      "/srv/home/ecaceres/anaconda2/envs/features/lib/python2.7/site-packages/ipykernel_launcher.py:6: FutureWarning: Sorting because non-concatenation axis is not aligned. A future version\n",
      "of pandas will change to not sort by default.\n",
      "\n",
      "To accept the future behavior, pass 'sort=True'.\n",
      "\n",
      "To retain the current behavior and silence the warning, pass sort=False\n",
      "\n",
      "  \n"
     ]
    }
   ],
   "source": [
    "pos_counts_df_formatted = pd.DataFrame({\"fold\":[], \"value\":[], \"label\": []})\n",
    "for label in ['test_pos', 'train_pos']:\n",
    "    tmp_df = counts_df[[\"fold\", label]]\n",
    "    tmp_df.columns = [\"fold\", \"value\"]\n",
    "    tmp_df[\"label\"] = label\n",
    "    pos_counts_df_formatted = pd.concat([pos_counts_df_formatted, tmp_df])"
   ]
  },
  {
   "cell_type": "code",
   "execution_count": 19,
   "metadata": {},
   "outputs": [
    {
     "data": {
      "text/plain": [
       "<matplotlib.text.Text at 0x7fa1e890f810>"
      ]
     },
     "execution_count": 19,
     "metadata": {},
     "output_type": "execute_result"
    },
    {
     "data": {
      "image/png": "[encoded data removed]",
      "text/plain": [
       "<matplotlib.figure.Figure at 0x7fa1e87e5850>"
      ]
     },
     "metadata": {},
     "output_type": "display_data"
    }
   ],
   "source": [
    "sns.set(style=\"whitegrid\")\n",
    "\n",
    "# Initialize the matplotlib figure\n",
    "f, ax = plt.subplots(figsize=(10, 10))\n",
    "\n",
    "# Plot the total mols\n",
    "sns.set_color_codes(\"pastel\")\n",
    "sns.barplot(x=\"fold\", y=\"value\", data=total_counts_df_formatted, hue=\"label\",orient=\"v\",\n",
    "            color=\"r\")\n",
    "# Plot the crashes where alcohol was involved\n",
    "sns.set_color_codes(\"pastel\")\n",
    "sns.barplot(x=\"fold\", y=\"value\", data=pos_counts_df_formatted, hue=\"label\",orient=\"v\",\n",
    "            color=\"b\")\n",
    "\n",
    "# Add a legend and informative axis label\n",
    "ax.set(ylim=(0, 450000),ylabel=\"Molecule counts\", \n",
    "       xlim=(-0.5, 5), xlabel=\"Fold\")\n",
    "ax.legend(ncol=2, loc=\"lower right\", frameon=True)\n",
    "# ax.set(xlim=(0, 450000),xlabel=\"Molecule counts\", \n",
    "#        ylim=(0, 4), ylabel=\"Fold\")\n",
    "sns.despine(left=True, bottom=True)\n",
    "ax.set_title(\"Molecule counts by Fold\")"
   ]
  },
  {
   "cell_type": "markdown",
   "metadata": {},
   "source": [
    "## Percent dataset that's positive"
   ]
  },
  {
   "cell_type": "code",
   "execution_count": 20,
   "metadata": {
    "collapsed": true
   },
   "outputs": [],
   "source": [
    "counts_df[\"ppos_test\"] = (counts_df[\"test_pos\"]/counts_df[\"test_mols\"])*100\n",
    "counts_df[\"ppos_train\"] = (counts_df[\"train_pos\"]/counts_df[\"train_mols\"])*100"
   ]
  },
  {
   "cell_type": "code",
   "execution_count": 21,
   "metadata": {
    "collapsed": true
   },
   "outputs": [],
   "source": [
    "counts_df[\"total_ppos\"] = ((counts_df[\"test_pos\"]+ counts_df[\"train_pos\"])/(counts_df[\"test_mols\"] + counts_df[\"train_mols\"]))*100"
   ]
  },
  {
   "cell_type": "code",
   "execution_count": 22,
   "metadata": {
    "collapsed": true
   },
   "outputs": [],
   "source": [
    "counts_df[\"total_mols\"] = counts_df[\"test_mols\"] + counts_df[\"train_mols\"]"
   ]
  },
  {
   "cell_type": "code",
   "execution_count": 23,
   "metadata": {},
   "outputs": [
    {
     "data": {
      "text/html": [
       "<div>\n",
       "<style scoped>\n",
       "    .dataframe tbody tr th:only-of-type {\n",
       "        vertical-align: middle;\n",
       "    }\n",
       "\n",
       "    .dataframe tbody tr th {\n",
       "        vertical-align: top;\n",
       "    }\n",
       "\n",
       "    .dataframe thead th {\n",
       "        text-align: right;\n",
       "    }\n",
       "</style>\n",
       "<table border=\"1\" class=\"dataframe\">\n",
       "  <thead>\n",
       "    <tr style=\"text-align: right;\">\n",
       "      <th></th>\n",
       "      <th>fold</th>\n",
       "      <th>test_pos</th>\n",
       "      <th>test_mols</th>\n",
       "      <th>train_pos</th>\n",
       "      <th>train_mols</th>\n",
       "      <th>ppos_test</th>\n",
       "      <th>ppos_train</th>\n",
       "      <th>total_ppos</th>\n",
       "      <th>total_mols</th>\n",
       "    </tr>\n",
       "  </thead>\n",
       "  <tbody>\n",
       "    <tr>\n",
       "      <th>0</th>\n",
       "      <td>0.0</td>\n",
       "      <td>80861.0</td>\n",
       "      <td>112202</td>\n",
       "      <td>322355.0</td>\n",
       "      <td>445805</td>\n",
       "      <td>72.067343</td>\n",
       "      <td>72.308521</td>\n",
       "      <td>72.260025</td>\n",
       "      <td>558007</td>\n",
       "    </tr>\n",
       "    <tr>\n",
       "      <th>1</th>\n",
       "      <td>1.0</td>\n",
       "      <td>81373.0</td>\n",
       "      <td>114263</td>\n",
       "      <td>321897.0</td>\n",
       "      <td>443815</td>\n",
       "      <td>71.215529</td>\n",
       "      <td>72.529545</td>\n",
       "      <td>72.260508</td>\n",
       "      <td>558078</td>\n",
       "    </tr>\n",
       "    <tr>\n",
       "      <th>2</th>\n",
       "      <td>2.0</td>\n",
       "      <td>79566.0</td>\n",
       "      <td>109190</td>\n",
       "      <td>323802.0</td>\n",
       "      <td>448992</td>\n",
       "      <td>72.869310</td>\n",
       "      <td>72.117543</td>\n",
       "      <td>72.264602</td>\n",
       "      <td>558182</td>\n",
       "    </tr>\n",
       "    <tr>\n",
       "      <th>3</th>\n",
       "      <td>3.0</td>\n",
       "      <td>80312.0</td>\n",
       "      <td>110186</td>\n",
       "      <td>323029.0</td>\n",
       "      <td>447972</td>\n",
       "      <td>72.887663</td>\n",
       "      <td>72.109194</td>\n",
       "      <td>72.262872</td>\n",
       "      <td>558158</td>\n",
       "    </tr>\n",
       "    <tr>\n",
       "      <th>4</th>\n",
       "      <td>4.0</td>\n",
       "      <td>81297.0</td>\n",
       "      <td>112394</td>\n",
       "      <td>322017.0</td>\n",
       "      <td>445729</td>\n",
       "      <td>72.332153</td>\n",
       "      <td>72.245019</td>\n",
       "      <td>72.262566</td>\n",
       "      <td>558123</td>\n",
       "    </tr>\n",
       "  </tbody>\n",
       "</table>\n",
       "</div>"
      ],
      "text/plain": [
       "   fold  test_pos  test_mols  train_pos  train_mols  ppos_test  ppos_train  \\\n",
       "0   0.0   80861.0     112202   322355.0      445805  72.067343   72.308521   \n",
       "1   1.0   81373.0     114263   321897.0      443815  71.215529   72.529545   \n",
       "2   2.0   79566.0     109190   323802.0      448992  72.869310   72.117543   \n",
       "3   3.0   80312.0     110186   323029.0      447972  72.887663   72.109194   \n",
       "4   4.0   81297.0     112394   322017.0      445729  72.332153   72.245019   \n",
       "\n",
       "   total_ppos  total_mols  \n",
       "0   72.260025      558007  \n",
       "1   72.260508      558078  \n",
       "2   72.264602      558182  \n",
       "3   72.262872      558158  \n",
       "4   72.262566      558123  "
      ]
     },
     "execution_count": 23,
     "metadata": {},
     "output_type": "execute_result"
    }
   ],
   "source": [
    "counts_df"
   ]
  },
  {
   "cell_type": "code",
   "execution_count": 28,
   "metadata": {},
   "outputs": [
    {
     "name": "stdout",
     "output_type": "stream",
     "text": [
      "558235\n",
      "558235\n",
      "558235\n",
      "558235\n",
      "558235\n"
     ]
    }
   ],
   "source": [
    "# check n_examples is the same for test+train...\n",
    "for i in fold_list:\n",
    "    dl_i = get_kfold_dataloader(dataset, kfold_file.format(i))\n",
    "    \n",
    "    test_activities = dl_i.load_activity()[dl_i.test_indices]\n",
    "    train_activities = dl_i.load_activity()[dl_i.train_indices]\n",
    "    \n",
    "    test_pos = dl_i.load_pos()[dl_i.test_indices]\n",
    "    train_pos = dl_i.load_pos()[dl_i.train_indices]\n",
    "    \n",
    "    m_test = ~np.isnan(test_activities)\n",
    "    m_train = ~np.isnan(train_activities)\n",
    "    \n",
    "    print np.sum(m_test)+np.sum(m_train)\n",
    "    \n",
    "    test_targ_list = test_pos[m_test]\n",
    "    test_act_list = test_activities[m_test]\n",
    "    \n",
    "    train_targ_list = train_pos[m_train]\n",
    "    train_act_list = train_activities[m_train]\n",
    "    \n"
   ]
  },
  {
   "cell_type": "code",
   "execution_count": null,
   "metadata": {
    "collapsed": true
   },
   "outputs": [],
   "source": []
  }
 ],
 "metadata": {
  "kernelspec": {
   "display_name": "Python 2",
   "language": "python",
   "name": "python2"
  },
  "language_info": {
   "codemirror_mode": {
    "name": "ipython",
    "version": 2
   },
   "file_extension": ".py",
   "mimetype": "text/x-python",
   "name": "python",
   "nbconvert_exporter": "python",
   "pygments_lexer": "ipython2",
   "version": "2.7.15"
  }
 },
 "nbformat": 4,
 "nbformat_minor": 2
}
