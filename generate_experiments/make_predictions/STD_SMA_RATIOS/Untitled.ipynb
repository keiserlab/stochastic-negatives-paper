{
 "cells": [
  {
   "cell_type": "code",
   "execution_count": null,
   "metadata": {
    "collapsed": true
   },
   "outputs": [],
   "source": [
    "import pandas as pd\n",
    "import os\n",
    "from glob import glob\n",
    "import numpy as np\n",
    "import json\n",
    "from itertools import izip"
   ]
  },
  {
   "cell_type": "code",
   "execution_count": 2,
   "metadata": {
    "collapsed": true
   },
   "outputs": [],
   "source": [
    "def get_env_var(handle):\n",
    "    ''' Get an environment variable given the handle for the bash variable'''\n",
    "    tmp = os.getenv(handle)\n",
    "    if not tmp:\n",
    "        raise LookupError(\"Environment variable: {} not set.\".format(handle))\n",
    "    return tmp.strip(\"'\")\n",
    "\n",
    "def format_md_img(link_name, rel_plot_loc):\n",
    "    img_formatter=\"[[{}/{}]]\".format(link_name, rel_plot_loc)\n",
    "    return img_formatter\n",
    "\n",
    "def print_table(list_of_headers):\n",
    "    fmter =  \"| {} {}\".format(\"{}\", \" {} \")\n",
    "    for header in list_of_headers:\n",
    "        fmter = fmter.format(\"{} {}\".format(header, \"| {}\"), \"{}\")\n",
    "    fmter = fmter.format(\" \", \" \")\n",
    "    return fmter\n",
    "\n",
    "class  Experiment(dict):\n",
    "    def __init__(self, name):\n",
    "        self.name = name\n",
    "        self.folds = []\n",
    "        self.converged_epochs = []\n",
    "        self.trained_paths = []\n",
    "      \n",
    "    def __repr__(self):\n",
    "        return str(vars(self))\n",
    "    \n",
    "    def __str__(self):\n",
    "        return json.dumps(vars(self), indent=2)\n",
    "        \n",
    "    def set_convereged_epoch(self, epoch, train_path, fold=None):        \n",
    "        self.folds.append(fold)\n",
    "        self.converged_epochs.append(epoch)\n",
    "        self.trained_paths.append(train_path)\n",
    "        "
   ]
  },
  {
   "cell_type": "code",
   "execution_count": 43,
   "metadata": {
    "collapsed": true
   },
   "outputs": [],
   "source": [
    "home=get_env_var(\"HOME\")\n",
    "base=\"{}/labgits/lab-notebook-caceres.wiki/images/20180815_Paper_Retrains/\".format(home)"
   ]
  },
  {
   "cell_type": "code",
   "execution_count": 81,
   "metadata": {
    "collapsed": true
   },
   "outputs": [],
   "source": [
    "home_save_dir = get_env_var(\"HOME_SAVE_BASE\")\n",
    "srv_save_dir = get_env_var(\"DATA_SAVE_BASE\")\n",
    "proj_dir = get_env_var(\"NMEW_PROJ_BASE\")\n",
    "\n",
    "sneg_pnrs=[1.0, 1.2222, 0.8182, 1.5, 19.0, 9.0, 4.0, 2.3333, 0.6666, 0.4286, 0.25, 0.1111, 0.0753]\n",
    "sneg_pnrs = sorted(sneg_pnrs)\n",
    "fold_tmplt = \"fold_[0-9]*/pnr_*/*.png\"\n",
    "\n",
    "# github formatting info:\n",
    "github_wiki_link=\"https://github.com/keiserlab/lab-notebook-caceres/wiki/images\"\n",
    "expt_name = \"20180815_Paper_Retrains\"\n",
    "expt_sub_name=\"STD_SMA_RATIOS\"\n",
    "github_wiki_expt = \"{}/{}\".format(github_wiki_link, expt_name, expt_sub_name)\n",
    "\n",
    "neg_rm_dir = \"{}/lr_nesterov_1024_2048_3072/\".format(base)\n",
    "\n",
    "metrics_for_convergance = ['matthews-corrcoef_binary-5.0_test', 'matthews-corrcoef_binary-6.0_test', 'r2_test']\n",
    "experiments = []\n",
    "\n",
    "parent_dir = os.path.join(neg_rm_dir, expt_sub_name)"
   ]
  },
  {
   "cell_type": "markdown",
   "metadata": {},
   "source": [
    "### copied images of interest into parent dir\n",
    "\n",
    "```\n",
    "!rsync -azrRv $HOME_SAVE_BASE/output/20180815_Paper_Retrains/trained_nets/./lr_nesterov_1024_2048_3072/STD_SMA_RATIOS/fold_*/pnr_*/*.png $base\n",
    "```"
   ]
  },
  {
   "cell_type": "code",
   "execution_count": 82,
   "metadata": {
    "collapsed": true
   },
   "outputs": [],
   "source": [
    "png_files = glob(os.path.join(parent_dir, fold_tmplt))"
   ]
  },
  {
   "cell_type": "code",
   "execution_count": 83,
   "metadata": {
    "collapsed": true
   },
   "outputs": [],
   "source": [
    "experiments = []\n",
    "converged_epochs = (\"{}/output/20180815_Paper_Retrains/predictions/{}/experiments.json\".format(home_save_dir, expt_sub_name))\n",
    "with open(converged_epochs, \"r\") as fp:\n",
    "    expts = json.load(fp)\n",
    "\n",
    "expt_list = []\n",
    "for e in expts:\n",
    "    tmp = Experiment(e[\"name\"])\n",
    "    for epoch, path, fold in izip(e[\"converged_epochs\"], e[\"trained_paths\"], e[\"folds\"]):\n",
    "        tmp.set_convereged_epoch(epoch, path, fold)\n",
    "    experiments.append(tmp)\n",
    "    del(tmp)    \n",
    "    \n",
    "expt_dict = {float(i.name.split(\"_\")[-1]): dict(zip([int(j.split(\"_\")[1]) for j in i.folds], i.converged_epochs)) for i in experiments}"
   ]
  },
  {
   "cell_type": "code",
   "execution_count": 84,
   "metadata": {},
   "outputs": [
    {
     "data": {
      "text/plain": [
       "{0.0753: {0: 424, 1: 468, 2: 499, 3: 229, 4: 280},\n",
       " 0.1111: {0: 480, 1: 292, 2: 209, 3: 429, 4: 120},\n",
       " 0.25: {0: 358, 1: 262, 2: 381, 3: 161, 4: 321},\n",
       " 0.4286: {0: 228, 1: 245, 2: 354, 3: 458, 4: 212},\n",
       " 0.6666: {0: 213, 1: 261, 2: 108, 3: 96, 4: 98},\n",
       " 0.8182: {0: 400, 1: 224, 2: 299, 3: 260, 4: 139},\n",
       " 1.0: {0: 200, 1: 316, 2: 100, 3: 294, 4: 344},\n",
       " 1.2222: {0: 236, 1: 81, 2: 160, 3: 242, 4: 173},\n",
       " 1.5: {0: 97, 1: 206, 2: 172, 3: 373, 4: 72},\n",
       " 2.3333: {0: 132, 1: 0, 2: 0, 3: 199, 4: 0},\n",
       " 4.0: {0: 356, 1: 300, 2: 211, 3: 362, 4: 339},\n",
       " 9.0: {0: 263, 1: 81, 2: 354, 3: 0, 4: 296},\n",
       " 19.0: {0: 57, 1: 459, 2: 194, 3: 100, 4: 206}}"
      ]
     },
     "execution_count": 84,
     "metadata": {},
     "output_type": "execute_result"
    }
   ],
   "source": [
    "expt_dict"
   ]
  },
  {
   "cell_type": "code",
   "execution_count": 85,
   "metadata": {
    "scrolled": false
   },
   "outputs": [
    {
     "name": "stdout",
     "output_type": "stream",
     "text": [
      "| PNR_0.0753 | train_loss | test_loss | test_no_gt_loss | test_sneg_loss |      \n",
      "| :--- | :--- | :--- | :--- | :--- |      \n",
      "| fold_0 best epoch: 424 | [[https://github.com/keiserlab/lab-notebook-caceres/wiki/images/20180815_Paper_Retrains/lr_nesterov_1024_2048_3072/STD_SMA_RATIOS/fold_0/pnr_0.0753/train_loss.png]] | [[https://github.com/keiserlab/lab-notebook-caceres/wiki/images/20180815_Paper_Retrains/lr_nesterov_1024_2048_3072/STD_SMA_RATIOS/fold_0/pnr_0.0753/test_loss.png]] | [[https://github.com/keiserlab/lab-notebook-caceres/wiki/images/20180815_Paper_Retrains/lr_nesterov_1024_2048_3072/STD_SMA_RATIOS/fold_0/pnr_0.0753/test_no_gt_loss.png]] | [[https://github.com/keiserlab/lab-notebook-caceres/wiki/images/20180815_Paper_Retrains/lr_nesterov_1024_2048_3072/STD_SMA_RATIOS/fold_0/pnr_0.0753/test_sneg_loss.png]] |      \n",
      "| fold_1 best epoch: 468 | [[https://github.com/keiserlab/lab-notebook-caceres/wiki/images/20180815_Paper_Retrains/lr_nesterov_1024_2048_3072/STD_SMA_RATIOS/fold_1/pnr_0.0753/train_loss.png]] | [[https://github.com/keiserlab/lab-notebook-caceres/wiki/images/20180815_Paper_Retrains/lr_nesterov_1024_2048_3072/STD_SMA_RATIOS/fold_1/pnr_0.0753/test_loss.png]] | [[https://github.com/keiserlab/lab-notebook-caceres/wiki/images/20180815_Paper_Retrains/lr_nesterov_1024_2048_3072/STD_SMA_RATIOS/fold_1/pnr_0.0753/test_no_gt_loss.png]] | [[https://github.com/keiserlab/lab-notebook-caceres/wiki/images/20180815_Paper_Retrains/lr_nesterov_1024_2048_3072/STD_SMA_RATIOS/fold_1/pnr_0.0753/test_sneg_loss.png]] |      \n",
      "| fold_2 best epoch: 499 | [[https://github.com/keiserlab/lab-notebook-caceres/wiki/images/20180815_Paper_Retrains/lr_nesterov_1024_2048_3072/STD_SMA_RATIOS/fold_2/pnr_0.0753/train_loss.png]] | [[https://github.com/keiserlab/lab-notebook-caceres/wiki/images/20180815_Paper_Retrains/lr_nesterov_1024_2048_3072/STD_SMA_RATIOS/fold_2/pnr_0.0753/test_loss.png]] | [[https://github.com/keiserlab/lab-notebook-caceres/wiki/images/20180815_Paper_Retrains/lr_nesterov_1024_2048_3072/STD_SMA_RATIOS/fold_2/pnr_0.0753/test_no_gt_loss.png]] | [[https://github.com/keiserlab/lab-notebook-caceres/wiki/images/20180815_Paper_Retrains/lr_nesterov_1024_2048_3072/STD_SMA_RATIOS/fold_2/pnr_0.0753/test_sneg_loss.png]] |      \n",
      "| fold_3 best epoch: 229 | [[https://github.com/keiserlab/lab-notebook-caceres/wiki/images/20180815_Paper_Retrains/lr_nesterov_1024_2048_3072/STD_SMA_RATIOS/fold_3/pnr_0.0753/train_loss.png]] | [[https://github.com/keiserlab/lab-notebook-caceres/wiki/images/20180815_Paper_Retrains/lr_nesterov_1024_2048_3072/STD_SMA_RATIOS/fold_3/pnr_0.0753/test_loss.png]] | [[https://github.com/keiserlab/lab-notebook-caceres/wiki/images/20180815_Paper_Retrains/lr_nesterov_1024_2048_3072/STD_SMA_RATIOS/fold_3/pnr_0.0753/test_no_gt_loss.png]] | [[https://github.com/keiserlab/lab-notebook-caceres/wiki/images/20180815_Paper_Retrains/lr_nesterov_1024_2048_3072/STD_SMA_RATIOS/fold_3/pnr_0.0753/test_sneg_loss.png]] |      \n",
      "| fold_4 best epoch: 280 | [[https://github.com/keiserlab/lab-notebook-caceres/wiki/images/20180815_Paper_Retrains/lr_nesterov_1024_2048_3072/STD_SMA_RATIOS/fold_4/pnr_0.0753/train_loss.png]] | [[https://github.com/keiserlab/lab-notebook-caceres/wiki/images/20180815_Paper_Retrains/lr_nesterov_1024_2048_3072/STD_SMA_RATIOS/fold_4/pnr_0.0753/test_loss.png]] | [[https://github.com/keiserlab/lab-notebook-caceres/wiki/images/20180815_Paper_Retrains/lr_nesterov_1024_2048_3072/STD_SMA_RATIOS/fold_4/pnr_0.0753/test_no_gt_loss.png]] | [[https://github.com/keiserlab/lab-notebook-caceres/wiki/images/20180815_Paper_Retrains/lr_nesterov_1024_2048_3072/STD_SMA_RATIOS/fold_4/pnr_0.0753/test_sneg_loss.png]] |      \n",
      "\n",
      "\n",
      "\n",
      "| PNR_0.1111 | train_loss | test_loss | test_no_gt_loss | test_sneg_loss |      \n",
      "| :--- | :--- | :--- | :--- | :--- |      \n",
      "| fold_0 best epoch: 480 | [[https://github.com/keiserlab/lab-notebook-caceres/wiki/images/20180815_Paper_Retrains/lr_nesterov_1024_2048_3072/STD_SMA_RATIOS/fold_0/pnr_0.1111/train_loss.png]] | [[https://github.com/keiserlab/lab-notebook-caceres/wiki/images/20180815_Paper_Retrains/lr_nesterov_1024_2048_3072/STD_SMA_RATIOS/fold_0/pnr_0.1111/test_loss.png]] | [[https://github.com/keiserlab/lab-notebook-caceres/wiki/images/20180815_Paper_Retrains/lr_nesterov_1024_2048_3072/STD_SMA_RATIOS/fold_0/pnr_0.1111/test_no_gt_loss.png]] | [[https://github.com/keiserlab/lab-notebook-caceres/wiki/images/20180815_Paper_Retrains/lr_nesterov_1024_2048_3072/STD_SMA_RATIOS/fold_0/pnr_0.1111/test_sneg_loss.png]] |      \n",
      "| fold_1 best epoch: 292 | [[https://github.com/keiserlab/lab-notebook-caceres/wiki/images/20180815_Paper_Retrains/lr_nesterov_1024_2048_3072/STD_SMA_RATIOS/fold_1/pnr_0.1111/train_loss.png]] | [[https://github.com/keiserlab/lab-notebook-caceres/wiki/images/20180815_Paper_Retrains/lr_nesterov_1024_2048_3072/STD_SMA_RATIOS/fold_1/pnr_0.1111/test_loss.png]] | [[https://github.com/keiserlab/lab-notebook-caceres/wiki/images/20180815_Paper_Retrains/lr_nesterov_1024_2048_3072/STD_SMA_RATIOS/fold_1/pnr_0.1111/test_no_gt_loss.png]] | [[https://github.com/keiserlab/lab-notebook-caceres/wiki/images/20180815_Paper_Retrains/lr_nesterov_1024_2048_3072/STD_SMA_RATIOS/fold_1/pnr_0.1111/test_sneg_loss.png]] |      \n",
      "| fold_2 best epoch: 209 | [[https://github.com/keiserlab/lab-notebook-caceres/wiki/images/20180815_Paper_Retrains/lr_nesterov_1024_2048_3072/STD_SMA_RATIOS/fold_2/pnr_0.1111/train_loss.png]] | [[https://github.com/keiserlab/lab-notebook-caceres/wiki/images/20180815_Paper_Retrains/lr_nesterov_1024_2048_3072/STD_SMA_RATIOS/fold_2/pnr_0.1111/test_loss.png]] | [[https://github.com/keiserlab/lab-notebook-caceres/wiki/images/20180815_Paper_Retrains/lr_nesterov_1024_2048_3072/STD_SMA_RATIOS/fold_2/pnr_0.1111/test_no_gt_loss.png]] | [[https://github.com/keiserlab/lab-notebook-caceres/wiki/images/20180815_Paper_Retrains/lr_nesterov_1024_2048_3072/STD_SMA_RATIOS/fold_2/pnr_0.1111/test_sneg_loss.png]] |      \n",
      "| fold_3 best epoch: 429 | [[https://github.com/keiserlab/lab-notebook-caceres/wiki/images/20180815_Paper_Retrains/lr_nesterov_1024_2048_3072/STD_SMA_RATIOS/fold_3/pnr_0.1111/train_loss.png]] | [[https://github.com/keiserlab/lab-notebook-caceres/wiki/images/20180815_Paper_Retrains/lr_nesterov_1024_2048_3072/STD_SMA_RATIOS/fold_3/pnr_0.1111/test_loss.png]] | [[https://github.com/keiserlab/lab-notebook-caceres/wiki/images/20180815_Paper_Retrains/lr_nesterov_1024_2048_3072/STD_SMA_RATIOS/fold_3/pnr_0.1111/test_no_gt_loss.png]] | [[https://github.com/keiserlab/lab-notebook-caceres/wiki/images/20180815_Paper_Retrains/lr_nesterov_1024_2048_3072/STD_SMA_RATIOS/fold_3/pnr_0.1111/test_sneg_loss.png]] |      \n",
      "| fold_4 best epoch: 120 | [[https://github.com/keiserlab/lab-notebook-caceres/wiki/images/20180815_Paper_Retrains/lr_nesterov_1024_2048_3072/STD_SMA_RATIOS/fold_4/pnr_0.1111/train_loss.png]] | [[https://github.com/keiserlab/lab-notebook-caceres/wiki/images/20180815_Paper_Retrains/lr_nesterov_1024_2048_3072/STD_SMA_RATIOS/fold_4/pnr_0.1111/test_loss.png]] | [[https://github.com/keiserlab/lab-notebook-caceres/wiki/images/20180815_Paper_Retrains/lr_nesterov_1024_2048_3072/STD_SMA_RATIOS/fold_4/pnr_0.1111/test_no_gt_loss.png]] | [[https://github.com/keiserlab/lab-notebook-caceres/wiki/images/20180815_Paper_Retrains/lr_nesterov_1024_2048_3072/STD_SMA_RATIOS/fold_4/pnr_0.1111/test_sneg_loss.png]] |      \n",
      "\n",
      "\n",
      "\n",
      "| PNR_0.25 | train_loss | test_loss | test_no_gt_loss | test_sneg_loss |      \n",
      "| :--- | :--- | :--- | :--- | :--- |      \n",
      "| fold_0 best epoch: 358 | [[https://github.com/keiserlab/lab-notebook-caceres/wiki/images/20180815_Paper_Retrains/lr_nesterov_1024_2048_3072/STD_SMA_RATIOS/fold_0/pnr_0.25/train_loss.png]] | [[https://github.com/keiserlab/lab-notebook-caceres/wiki/images/20180815_Paper_Retrains/lr_nesterov_1024_2048_3072/STD_SMA_RATIOS/fold_0/pnr_0.25/test_loss.png]] | [[https://github.com/keiserlab/lab-notebook-caceres/wiki/images/20180815_Paper_Retrains/lr_nesterov_1024_2048_3072/STD_SMA_RATIOS/fold_0/pnr_0.25/test_no_gt_loss.png]] | [[https://github.com/keiserlab/lab-notebook-caceres/wiki/images/20180815_Paper_Retrains/lr_nesterov_1024_2048_3072/STD_SMA_RATIOS/fold_0/pnr_0.25/test_sneg_loss.png]] |      \n",
      "| fold_1 best epoch: 262 | [[https://github.com/keiserlab/lab-notebook-caceres/wiki/images/20180815_Paper_Retrains/lr_nesterov_1024_2048_3072/STD_SMA_RATIOS/fold_1/pnr_0.25/train_loss.png]] | [[https://github.com/keiserlab/lab-notebook-caceres/wiki/images/20180815_Paper_Retrains/lr_nesterov_1024_2048_3072/STD_SMA_RATIOS/fold_1/pnr_0.25/test_loss.png]] | [[https://github.com/keiserlab/lab-notebook-caceres/wiki/images/20180815_Paper_Retrains/lr_nesterov_1024_2048_3072/STD_SMA_RATIOS/fold_1/pnr_0.25/test_no_gt_loss.png]] | [[https://github.com/keiserlab/lab-notebook-caceres/wiki/images/20180815_Paper_Retrains/lr_nesterov_1024_2048_3072/STD_SMA_RATIOS/fold_1/pnr_0.25/test_sneg_loss.png]] |      \n",
      "| fold_2 best epoch: 381 | [[https://github.com/keiserlab/lab-notebook-caceres/wiki/images/20180815_Paper_Retrains/lr_nesterov_1024_2048_3072/STD_SMA_RATIOS/fold_2/pnr_0.25/train_loss.png]] | [[https://github.com/keiserlab/lab-notebook-caceres/wiki/images/20180815_Paper_Retrains/lr_nesterov_1024_2048_3072/STD_SMA_RATIOS/fold_2/pnr_0.25/test_loss.png]] | [[https://github.com/keiserlab/lab-notebook-caceres/wiki/images/20180815_Paper_Retrains/lr_nesterov_1024_2048_3072/STD_SMA_RATIOS/fold_2/pnr_0.25/test_no_gt_loss.png]] | [[https://github.com/keiserlab/lab-notebook-caceres/wiki/images/20180815_Paper_Retrains/lr_nesterov_1024_2048_3072/STD_SMA_RATIOS/fold_2/pnr_0.25/test_sneg_loss.png]] |      \n",
      "| fold_3 best epoch: 161 | [[https://github.com/keiserlab/lab-notebook-caceres/wiki/images/20180815_Paper_Retrains/lr_nesterov_1024_2048_3072/STD_SMA_RATIOS/fold_3/pnr_0.25/train_loss.png]] | [[https://github.com/keiserlab/lab-notebook-caceres/wiki/images/20180815_Paper_Retrains/lr_nesterov_1024_2048_3072/STD_SMA_RATIOS/fold_3/pnr_0.25/test_loss.png]] | [[https://github.com/keiserlab/lab-notebook-caceres/wiki/images/20180815_Paper_Retrains/lr_nesterov_1024_2048_3072/STD_SMA_RATIOS/fold_3/pnr_0.25/test_no_gt_loss.png]] | [[https://github.com/keiserlab/lab-notebook-caceres/wiki/images/20180815_Paper_Retrains/lr_nesterov_1024_2048_3072/STD_SMA_RATIOS/fold_3/pnr_0.25/test_sneg_loss.png]] |      \n",
      "| fold_4 best epoch: 321 | [[https://github.com/keiserlab/lab-notebook-caceres/wiki/images/20180815_Paper_Retrains/lr_nesterov_1024_2048_3072/STD_SMA_RATIOS/fold_4/pnr_0.25/train_loss.png]] | [[https://github.com/keiserlab/lab-notebook-caceres/wiki/images/20180815_Paper_Retrains/lr_nesterov_1024_2048_3072/STD_SMA_RATIOS/fold_4/pnr_0.25/test_loss.png]] | [[https://github.com/keiserlab/lab-notebook-caceres/wiki/images/20180815_Paper_Retrains/lr_nesterov_1024_2048_3072/STD_SMA_RATIOS/fold_4/pnr_0.25/test_no_gt_loss.png]] | [[https://github.com/keiserlab/lab-notebook-caceres/wiki/images/20180815_Paper_Retrains/lr_nesterov_1024_2048_3072/STD_SMA_RATIOS/fold_4/pnr_0.25/test_sneg_loss.png]] |      \n",
      "\n",
      "\n",
      "\n",
      "| PNR_0.4286 | train_loss | test_loss | test_no_gt_loss | test_sneg_loss |      \n",
      "| :--- | :--- | :--- | :--- | :--- |      \n",
      "| fold_0 best epoch: 228 | [[https://github.com/keiserlab/lab-notebook-caceres/wiki/images/20180815_Paper_Retrains/lr_nesterov_1024_2048_3072/STD_SMA_RATIOS/fold_0/pnr_0.4286/train_loss.png]] | [[https://github.com/keiserlab/lab-notebook-caceres/wiki/images/20180815_Paper_Retrains/lr_nesterov_1024_2048_3072/STD_SMA_RATIOS/fold_0/pnr_0.4286/test_loss.png]] | [[https://github.com/keiserlab/lab-notebook-caceres/wiki/images/20180815_Paper_Retrains/lr_nesterov_1024_2048_3072/STD_SMA_RATIOS/fold_0/pnr_0.4286/test_no_gt_loss.png]] | [[https://github.com/keiserlab/lab-notebook-caceres/wiki/images/20180815_Paper_Retrains/lr_nesterov_1024_2048_3072/STD_SMA_RATIOS/fold_0/pnr_0.4286/test_sneg_loss.png]] |      \n",
      "| fold_1 best epoch: 245 | [[https://github.com/keiserlab/lab-notebook-caceres/wiki/images/20180815_Paper_Retrains/lr_nesterov_1024_2048_3072/STD_SMA_RATIOS/fold_1/pnr_0.4286/train_loss.png]] | [[https://github.com/keiserlab/lab-notebook-caceres/wiki/images/20180815_Paper_Retrains/lr_nesterov_1024_2048_3072/STD_SMA_RATIOS/fold_1/pnr_0.4286/test_loss.png]] | [[https://github.com/keiserlab/lab-notebook-caceres/wiki/images/20180815_Paper_Retrains/lr_nesterov_1024_2048_3072/STD_SMA_RATIOS/fold_1/pnr_0.4286/test_no_gt_loss.png]] | [[https://github.com/keiserlab/lab-notebook-caceres/wiki/images/20180815_Paper_Retrains/lr_nesterov_1024_2048_3072/STD_SMA_RATIOS/fold_1/pnr_0.4286/test_sneg_loss.png]] |      \n",
      "| fold_2 best epoch: 354 | [[https://github.com/keiserlab/lab-notebook-caceres/wiki/images/20180815_Paper_Retrains/lr_nesterov_1024_2048_3072/STD_SMA_RATIOS/fold_2/pnr_0.4286/train_loss.png]] | [[https://github.com/keiserlab/lab-notebook-caceres/wiki/images/20180815_Paper_Retrains/lr_nesterov_1024_2048_3072/STD_SMA_RATIOS/fold_2/pnr_0.4286/test_loss.png]] | [[https://github.com/keiserlab/lab-notebook-caceres/wiki/images/20180815_Paper_Retrains/lr_nesterov_1024_2048_3072/STD_SMA_RATIOS/fold_2/pnr_0.4286/test_no_gt_loss.png]] | [[https://github.com/keiserlab/lab-notebook-caceres/wiki/images/20180815_Paper_Retrains/lr_nesterov_1024_2048_3072/STD_SMA_RATIOS/fold_2/pnr_0.4286/test_sneg_loss.png]] |      \n",
      "| fold_3 best epoch: 458 | [[https://github.com/keiserlab/lab-notebook-caceres/wiki/images/20180815_Paper_Retrains/lr_nesterov_1024_2048_3072/STD_SMA_RATIOS/fold_3/pnr_0.4286/train_loss.png]] | [[https://github.com/keiserlab/lab-notebook-caceres/wiki/images/20180815_Paper_Retrains/lr_nesterov_1024_2048_3072/STD_SMA_RATIOS/fold_3/pnr_0.4286/test_loss.png]] | [[https://github.com/keiserlab/lab-notebook-caceres/wiki/images/20180815_Paper_Retrains/lr_nesterov_1024_2048_3072/STD_SMA_RATIOS/fold_3/pnr_0.4286/test_no_gt_loss.png]] | [[https://github.com/keiserlab/lab-notebook-caceres/wiki/images/20180815_Paper_Retrains/lr_nesterov_1024_2048_3072/STD_SMA_RATIOS/fold_3/pnr_0.4286/test_sneg_loss.png]] |      \n",
      "| fold_4 best epoch: 212 | [[https://github.com/keiserlab/lab-notebook-caceres/wiki/images/20180815_Paper_Retrains/lr_nesterov_1024_2048_3072/STD_SMA_RATIOS/fold_4/pnr_0.4286/train_loss.png]] | [[https://github.com/keiserlab/lab-notebook-caceres/wiki/images/20180815_Paper_Retrains/lr_nesterov_1024_2048_3072/STD_SMA_RATIOS/fold_4/pnr_0.4286/test_loss.png]] | [[https://github.com/keiserlab/lab-notebook-caceres/wiki/images/20180815_Paper_Retrains/lr_nesterov_1024_2048_3072/STD_SMA_RATIOS/fold_4/pnr_0.4286/test_no_gt_loss.png]] | [[https://github.com/keiserlab/lab-notebook-caceres/wiki/images/20180815_Paper_Retrains/lr_nesterov_1024_2048_3072/STD_SMA_RATIOS/fold_4/pnr_0.4286/test_sneg_loss.png]] |      \n",
      "\n",
      "\n",
      "\n",
      "| PNR_0.6666 | train_loss | test_loss | test_no_gt_loss | test_sneg_loss |      \n",
      "| :--- | :--- | :--- | :--- | :--- |      \n",
      "| fold_0 best epoch: 213 | [[https://github.com/keiserlab/lab-notebook-caceres/wiki/images/20180815_Paper_Retrains/lr_nesterov_1024_2048_3072/STD_SMA_RATIOS/fold_0/pnr_0.6666/train_loss.png]] | [[https://github.com/keiserlab/lab-notebook-caceres/wiki/images/20180815_Paper_Retrains/lr_nesterov_1024_2048_3072/STD_SMA_RATIOS/fold_0/pnr_0.6666/test_loss.png]] | [[https://github.com/keiserlab/lab-notebook-caceres/wiki/images/20180815_Paper_Retrains/lr_nesterov_1024_2048_3072/STD_SMA_RATIOS/fold_0/pnr_0.6666/test_no_gt_loss.png]] | [[https://github.com/keiserlab/lab-notebook-caceres/wiki/images/20180815_Paper_Retrains/lr_nesterov_1024_2048_3072/STD_SMA_RATIOS/fold_0/pnr_0.6666/test_sneg_loss.png]] |      \n",
      "| fold_1 best epoch: 261 | [[https://github.com/keiserlab/lab-notebook-caceres/wiki/images/20180815_Paper_Retrains/lr_nesterov_1024_2048_3072/STD_SMA_RATIOS/fold_1/pnr_0.6666/train_loss.png]] | [[https://github.com/keiserlab/lab-notebook-caceres/wiki/images/20180815_Paper_Retrains/lr_nesterov_1024_2048_3072/STD_SMA_RATIOS/fold_1/pnr_0.6666/test_loss.png]] | [[https://github.com/keiserlab/lab-notebook-caceres/wiki/images/20180815_Paper_Retrains/lr_nesterov_1024_2048_3072/STD_SMA_RATIOS/fold_1/pnr_0.6666/test_no_gt_loss.png]] | [[https://github.com/keiserlab/lab-notebook-caceres/wiki/images/20180815_Paper_Retrains/lr_nesterov_1024_2048_3072/STD_SMA_RATIOS/fold_1/pnr_0.6666/test_sneg_loss.png]] |      \n",
      "| fold_2 best epoch: 108 | [[https://github.com/keiserlab/lab-notebook-caceres/wiki/images/20180815_Paper_Retrains/lr_nesterov_1024_2048_3072/STD_SMA_RATIOS/fold_2/pnr_0.6666/train_loss.png]] | [[https://github.com/keiserlab/lab-notebook-caceres/wiki/images/20180815_Paper_Retrains/lr_nesterov_1024_2048_3072/STD_SMA_RATIOS/fold_2/pnr_0.6666/test_loss.png]] | [[https://github.com/keiserlab/lab-notebook-caceres/wiki/images/20180815_Paper_Retrains/lr_nesterov_1024_2048_3072/STD_SMA_RATIOS/fold_2/pnr_0.6666/test_no_gt_loss.png]] | [[https://github.com/keiserlab/lab-notebook-caceres/wiki/images/20180815_Paper_Retrains/lr_nesterov_1024_2048_3072/STD_SMA_RATIOS/fold_2/pnr_0.6666/test_sneg_loss.png]] |      \n",
      "| fold_3 best epoch: 96 | [[https://github.com/keiserlab/lab-notebook-caceres/wiki/images/20180815_Paper_Retrains/lr_nesterov_1024_2048_3072/STD_SMA_RATIOS/fold_3/pnr_0.6666/train_loss.png]] | [[https://github.com/keiserlab/lab-notebook-caceres/wiki/images/20180815_Paper_Retrains/lr_nesterov_1024_2048_3072/STD_SMA_RATIOS/fold_3/pnr_0.6666/test_loss.png]] | [[https://github.com/keiserlab/lab-notebook-caceres/wiki/images/20180815_Paper_Retrains/lr_nesterov_1024_2048_3072/STD_SMA_RATIOS/fold_3/pnr_0.6666/test_no_gt_loss.png]] | [[https://github.com/keiserlab/lab-notebook-caceres/wiki/images/20180815_Paper_Retrains/lr_nesterov_1024_2048_3072/STD_SMA_RATIOS/fold_3/pnr_0.6666/test_sneg_loss.png]] |      \n",
      "| fold_4 best epoch: 98 | [[https://github.com/keiserlab/lab-notebook-caceres/wiki/images/20180815_Paper_Retrains/lr_nesterov_1024_2048_3072/STD_SMA_RATIOS/fold_4/pnr_0.6666/train_loss.png]] | [[https://github.com/keiserlab/lab-notebook-caceres/wiki/images/20180815_Paper_Retrains/lr_nesterov_1024_2048_3072/STD_SMA_RATIOS/fold_4/pnr_0.6666/test_loss.png]] | [[https://github.com/keiserlab/lab-notebook-caceres/wiki/images/20180815_Paper_Retrains/lr_nesterov_1024_2048_3072/STD_SMA_RATIOS/fold_4/pnr_0.6666/test_no_gt_loss.png]] | [[https://github.com/keiserlab/lab-notebook-caceres/wiki/images/20180815_Paper_Retrains/lr_nesterov_1024_2048_3072/STD_SMA_RATIOS/fold_4/pnr_0.6666/test_sneg_loss.png]] |      \n",
      "\n",
      "\n",
      "\n",
      "| PNR_0.8182 | train_loss | test_loss | test_no_gt_loss | test_sneg_loss |      \n",
      "| :--- | :--- | :--- | :--- | :--- |      \n",
      "| fold_0 best epoch: 400 | [[https://github.com/keiserlab/lab-notebook-caceres/wiki/images/20180815_Paper_Retrains/lr_nesterov_1024_2048_3072/STD_SMA_RATIOS/fold_0/pnr_0.8182/train_loss.png]] | [[https://github.com/keiserlab/lab-notebook-caceres/wiki/images/20180815_Paper_Retrains/lr_nesterov_1024_2048_3072/STD_SMA_RATIOS/fold_0/pnr_0.8182/test_loss.png]] | [[https://github.com/keiserlab/lab-notebook-caceres/wiki/images/20180815_Paper_Retrains/lr_nesterov_1024_2048_3072/STD_SMA_RATIOS/fold_0/pnr_0.8182/test_no_gt_loss.png]] | [[https://github.com/keiserlab/lab-notebook-caceres/wiki/images/20180815_Paper_Retrains/lr_nesterov_1024_2048_3072/STD_SMA_RATIOS/fold_0/pnr_0.8182/test_sneg_loss.png]] |      \n",
      "| fold_1 best epoch: 224 | [[https://github.com/keiserlab/lab-notebook-caceres/wiki/images/20180815_Paper_Retrains/lr_nesterov_1024_2048_3072/STD_SMA_RATIOS/fold_1/pnr_0.8182/train_loss.png]] | [[https://github.com/keiserlab/lab-notebook-caceres/wiki/images/20180815_Paper_Retrains/lr_nesterov_1024_2048_3072/STD_SMA_RATIOS/fold_1/pnr_0.8182/test_loss.png]] | [[https://github.com/keiserlab/lab-notebook-caceres/wiki/images/20180815_Paper_Retrains/lr_nesterov_1024_2048_3072/STD_SMA_RATIOS/fold_1/pnr_0.8182/test_no_gt_loss.png]] | [[https://github.com/keiserlab/lab-notebook-caceres/wiki/images/20180815_Paper_Retrains/lr_nesterov_1024_2048_3072/STD_SMA_RATIOS/fold_1/pnr_0.8182/test_sneg_loss.png]] |      \n",
      "| fold_2 best epoch: 299 | [[https://github.com/keiserlab/lab-notebook-caceres/wiki/images/20180815_Paper_Retrains/lr_nesterov_1024_2048_3072/STD_SMA_RATIOS/fold_2/pnr_0.8182/train_loss.png]] | [[https://github.com/keiserlab/lab-notebook-caceres/wiki/images/20180815_Paper_Retrains/lr_nesterov_1024_2048_3072/STD_SMA_RATIOS/fold_2/pnr_0.8182/test_loss.png]] | [[https://github.com/keiserlab/lab-notebook-caceres/wiki/images/20180815_Paper_Retrains/lr_nesterov_1024_2048_3072/STD_SMA_RATIOS/fold_2/pnr_0.8182/test_no_gt_loss.png]] | [[https://github.com/keiserlab/lab-notebook-caceres/wiki/images/20180815_Paper_Retrains/lr_nesterov_1024_2048_3072/STD_SMA_RATIOS/fold_2/pnr_0.8182/test_sneg_loss.png]] |      \n",
      "| fold_3 best epoch: 260 | [[https://github.com/keiserlab/lab-notebook-caceres/wiki/images/20180815_Paper_Retrains/lr_nesterov_1024_2048_3072/STD_SMA_RATIOS/fold_3/pnr_0.8182/train_loss.png]] | [[https://github.com/keiserlab/lab-notebook-caceres/wiki/images/20180815_Paper_Retrains/lr_nesterov_1024_2048_3072/STD_SMA_RATIOS/fold_3/pnr_0.8182/test_loss.png]] | [[https://github.com/keiserlab/lab-notebook-caceres/wiki/images/20180815_Paper_Retrains/lr_nesterov_1024_2048_3072/STD_SMA_RATIOS/fold_3/pnr_0.8182/test_no_gt_loss.png]] | [[https://github.com/keiserlab/lab-notebook-caceres/wiki/images/20180815_Paper_Retrains/lr_nesterov_1024_2048_3072/STD_SMA_RATIOS/fold_3/pnr_0.8182/test_sneg_loss.png]] |      \n",
      "| fold_4 best epoch: 139 | [[https://github.com/keiserlab/lab-notebook-caceres/wiki/images/20180815_Paper_Retrains/lr_nesterov_1024_2048_3072/STD_SMA_RATIOS/fold_4/pnr_0.8182/train_loss.png]] | [[https://github.com/keiserlab/lab-notebook-caceres/wiki/images/20180815_Paper_Retrains/lr_nesterov_1024_2048_3072/STD_SMA_RATIOS/fold_4/pnr_0.8182/test_loss.png]] | [[https://github.com/keiserlab/lab-notebook-caceres/wiki/images/20180815_Paper_Retrains/lr_nesterov_1024_2048_3072/STD_SMA_RATIOS/fold_4/pnr_0.8182/test_no_gt_loss.png]] | [[https://github.com/keiserlab/lab-notebook-caceres/wiki/images/20180815_Paper_Retrains/lr_nesterov_1024_2048_3072/STD_SMA_RATIOS/fold_4/pnr_0.8182/test_sneg_loss.png]] |      \n",
      "\n",
      "\n",
      "\n",
      "| PNR_1.0 | train_loss | test_loss | test_no_gt_loss | test_sneg_loss |      \n",
      "| :--- | :--- | :--- | :--- | :--- |      \n",
      "| fold_0 best epoch: 200 | [[https://github.com/keiserlab/lab-notebook-caceres/wiki/images/20180815_Paper_Retrains/lr_nesterov_1024_2048_3072/STD_SMA_RATIOS/fold_0/pnr_1.0/train_loss.png]] | [[https://github.com/keiserlab/lab-notebook-caceres/wiki/images/20180815_Paper_Retrains/lr_nesterov_1024_2048_3072/STD_SMA_RATIOS/fold_0/pnr_1.0/test_loss.png]] | [[https://github.com/keiserlab/lab-notebook-caceres/wiki/images/20180815_Paper_Retrains/lr_nesterov_1024_2048_3072/STD_SMA_RATIOS/fold_0/pnr_1.0/test_no_gt_loss.png]] | [[https://github.com/keiserlab/lab-notebook-caceres/wiki/images/20180815_Paper_Retrains/lr_nesterov_1024_2048_3072/STD_SMA_RATIOS/fold_0/pnr_1.0/test_sneg_loss.png]] |      \n",
      "| fold_1 best epoch: 316 | [[https://github.com/keiserlab/lab-notebook-caceres/wiki/images/20180815_Paper_Retrains/lr_nesterov_1024_2048_3072/STD_SMA_RATIOS/fold_1/pnr_1.0/train_loss.png]] | [[https://github.com/keiserlab/lab-notebook-caceres/wiki/images/20180815_Paper_Retrains/lr_nesterov_1024_2048_3072/STD_SMA_RATIOS/fold_1/pnr_1.0/test_loss.png]] | [[https://github.com/keiserlab/lab-notebook-caceres/wiki/images/20180815_Paper_Retrains/lr_nesterov_1024_2048_3072/STD_SMA_RATIOS/fold_1/pnr_1.0/test_no_gt_loss.png]] | [[https://github.com/keiserlab/lab-notebook-caceres/wiki/images/20180815_Paper_Retrains/lr_nesterov_1024_2048_3072/STD_SMA_RATIOS/fold_1/pnr_1.0/test_sneg_loss.png]] |      \n",
      "| fold_2 best epoch: 100 | [[https://github.com/keiserlab/lab-notebook-caceres/wiki/images/20180815_Paper_Retrains/lr_nesterov_1024_2048_3072/STD_SMA_RATIOS/fold_2/pnr_1.0/train_loss.png]] | [[https://github.com/keiserlab/lab-notebook-caceres/wiki/images/20180815_Paper_Retrains/lr_nesterov_1024_2048_3072/STD_SMA_RATIOS/fold_2/pnr_1.0/test_loss.png]] | [[https://github.com/keiserlab/lab-notebook-caceres/wiki/images/20180815_Paper_Retrains/lr_nesterov_1024_2048_3072/STD_SMA_RATIOS/fold_2/pnr_1.0/test_no_gt_loss.png]] | [[https://github.com/keiserlab/lab-notebook-caceres/wiki/images/20180815_Paper_Retrains/lr_nesterov_1024_2048_3072/STD_SMA_RATIOS/fold_2/pnr_1.0/test_sneg_loss.png]] |      \n",
      "| fold_3 best epoch: 294 | [[https://github.com/keiserlab/lab-notebook-caceres/wiki/images/20180815_Paper_Retrains/lr_nesterov_1024_2048_3072/STD_SMA_RATIOS/fold_3/pnr_1.0/train_loss.png]] | [[https://github.com/keiserlab/lab-notebook-caceres/wiki/images/20180815_Paper_Retrains/lr_nesterov_1024_2048_3072/STD_SMA_RATIOS/fold_3/pnr_1.0/test_loss.png]] | [[https://github.com/keiserlab/lab-notebook-caceres/wiki/images/20180815_Paper_Retrains/lr_nesterov_1024_2048_3072/STD_SMA_RATIOS/fold_3/pnr_1.0/test_no_gt_loss.png]] | [[https://github.com/keiserlab/lab-notebook-caceres/wiki/images/20180815_Paper_Retrains/lr_nesterov_1024_2048_3072/STD_SMA_RATIOS/fold_3/pnr_1.0/test_sneg_loss.png]] |      \n",
      "| fold_4 best epoch: 344 | [[https://github.com/keiserlab/lab-notebook-caceres/wiki/images/20180815_Paper_Retrains/lr_nesterov_1024_2048_3072/STD_SMA_RATIOS/fold_4/pnr_1.0/train_loss.png]] | [[https://github.com/keiserlab/lab-notebook-caceres/wiki/images/20180815_Paper_Retrains/lr_nesterov_1024_2048_3072/STD_SMA_RATIOS/fold_4/pnr_1.0/test_loss.png]] | [[https://github.com/keiserlab/lab-notebook-caceres/wiki/images/20180815_Paper_Retrains/lr_nesterov_1024_2048_3072/STD_SMA_RATIOS/fold_4/pnr_1.0/test_no_gt_loss.png]] | [[https://github.com/keiserlab/lab-notebook-caceres/wiki/images/20180815_Paper_Retrains/lr_nesterov_1024_2048_3072/STD_SMA_RATIOS/fold_4/pnr_1.0/test_sneg_loss.png]] |      \n",
      "\n",
      "\n",
      "\n",
      "| PNR_1.2222 | train_loss | test_loss | test_no_gt_loss | test_sneg_loss |      \n",
      "| :--- | :--- | :--- | :--- | :--- |      \n",
      "| fold_0 best epoch: 236 | [[https://github.com/keiserlab/lab-notebook-caceres/wiki/images/20180815_Paper_Retrains/lr_nesterov_1024_2048_3072/STD_SMA_RATIOS/fold_0/pnr_1.2222/train_loss.png]] | [[https://github.com/keiserlab/lab-notebook-caceres/wiki/images/20180815_Paper_Retrains/lr_nesterov_1024_2048_3072/STD_SMA_RATIOS/fold_0/pnr_1.2222/test_loss.png]] | [[https://github.com/keiserlab/lab-notebook-caceres/wiki/images/20180815_Paper_Retrains/lr_nesterov_1024_2048_3072/STD_SMA_RATIOS/fold_0/pnr_1.2222/test_no_gt_loss.png]] | [[https://github.com/keiserlab/lab-notebook-caceres/wiki/images/20180815_Paper_Retrains/lr_nesterov_1024_2048_3072/STD_SMA_RATIOS/fold_0/pnr_1.2222/test_sneg_loss.png]] |      \n",
      "| fold_1 best epoch: 81 | [[https://github.com/keiserlab/lab-notebook-caceres/wiki/images/20180815_Paper_Retrains/lr_nesterov_1024_2048_3072/STD_SMA_RATIOS/fold_1/pnr_1.2222/train_loss.png]] | [[https://github.com/keiserlab/lab-notebook-caceres/wiki/images/20180815_Paper_Retrains/lr_nesterov_1024_2048_3072/STD_SMA_RATIOS/fold_1/pnr_1.2222/test_loss.png]] | [[https://github.com/keiserlab/lab-notebook-caceres/wiki/images/20180815_Paper_Retrains/lr_nesterov_1024_2048_3072/STD_SMA_RATIOS/fold_1/pnr_1.2222/test_no_gt_loss.png]] | [[https://github.com/keiserlab/lab-notebook-caceres/wiki/images/20180815_Paper_Retrains/lr_nesterov_1024_2048_3072/STD_SMA_RATIOS/fold_1/pnr_1.2222/test_sneg_loss.png]] |      \n",
      "| fold_2 best epoch: 160 | [[https://github.com/keiserlab/lab-notebook-caceres/wiki/images/20180815_Paper_Retrains/lr_nesterov_1024_2048_3072/STD_SMA_RATIOS/fold_2/pnr_1.2222/train_loss.png]] | [[https://github.com/keiserlab/lab-notebook-caceres/wiki/images/20180815_Paper_Retrains/lr_nesterov_1024_2048_3072/STD_SMA_RATIOS/fold_2/pnr_1.2222/test_loss.png]] | [[https://github.com/keiserlab/lab-notebook-caceres/wiki/images/20180815_Paper_Retrains/lr_nesterov_1024_2048_3072/STD_SMA_RATIOS/fold_2/pnr_1.2222/test_no_gt_loss.png]] | [[https://github.com/keiserlab/lab-notebook-caceres/wiki/images/20180815_Paper_Retrains/lr_nesterov_1024_2048_3072/STD_SMA_RATIOS/fold_2/pnr_1.2222/test_sneg_loss.png]] |      \n",
      "| fold_3 best epoch: 242 | [[https://github.com/keiserlab/lab-notebook-caceres/wiki/images/20180815_Paper_Retrains/lr_nesterov_1024_2048_3072/STD_SMA_RATIOS/fold_3/pnr_1.2222/train_loss.png]] | [[https://github.com/keiserlab/lab-notebook-caceres/wiki/images/20180815_Paper_Retrains/lr_nesterov_1024_2048_3072/STD_SMA_RATIOS/fold_3/pnr_1.2222/test_loss.png]] | [[https://github.com/keiserlab/lab-notebook-caceres/wiki/images/20180815_Paper_Retrains/lr_nesterov_1024_2048_3072/STD_SMA_RATIOS/fold_3/pnr_1.2222/test_no_gt_loss.png]] | [[https://github.com/keiserlab/lab-notebook-caceres/wiki/images/20180815_Paper_Retrains/lr_nesterov_1024_2048_3072/STD_SMA_RATIOS/fold_3/pnr_1.2222/test_sneg_loss.png]] |      \n",
      "| fold_4 best epoch: 173 | [[https://github.com/keiserlab/lab-notebook-caceres/wiki/images/20180815_Paper_Retrains/lr_nesterov_1024_2048_3072/STD_SMA_RATIOS/fold_4/pnr_1.2222/train_loss.png]] | [[https://github.com/keiserlab/lab-notebook-caceres/wiki/images/20180815_Paper_Retrains/lr_nesterov_1024_2048_3072/STD_SMA_RATIOS/fold_4/pnr_1.2222/test_loss.png]] | [[https://github.com/keiserlab/lab-notebook-caceres/wiki/images/20180815_Paper_Retrains/lr_nesterov_1024_2048_3072/STD_SMA_RATIOS/fold_4/pnr_1.2222/test_no_gt_loss.png]] | [[https://github.com/keiserlab/lab-notebook-caceres/wiki/images/20180815_Paper_Retrains/lr_nesterov_1024_2048_3072/STD_SMA_RATIOS/fold_4/pnr_1.2222/test_sneg_loss.png]] |      \n",
      "\n",
      "\n",
      "\n",
      "| PNR_1.5 | train_loss | test_loss | test_no_gt_loss | test_sneg_loss |      \n",
      "| :--- | :--- | :--- | :--- | :--- |      \n",
      "| fold_0 best epoch: 97 | [[https://github.com/keiserlab/lab-notebook-caceres/wiki/images/20180815_Paper_Retrains/lr_nesterov_1024_2048_3072/STD_SMA_RATIOS/fold_0/pnr_1.5/train_loss.png]] | [[https://github.com/keiserlab/lab-notebook-caceres/wiki/images/20180815_Paper_Retrains/lr_nesterov_1024_2048_3072/STD_SMA_RATIOS/fold_0/pnr_1.5/test_loss.png]] | [[https://github.com/keiserlab/lab-notebook-caceres/wiki/images/20180815_Paper_Retrains/lr_nesterov_1024_2048_3072/STD_SMA_RATIOS/fold_0/pnr_1.5/test_no_gt_loss.png]] | [[https://github.com/keiserlab/lab-notebook-caceres/wiki/images/20180815_Paper_Retrains/lr_nesterov_1024_2048_3072/STD_SMA_RATIOS/fold_0/pnr_1.5/test_sneg_loss.png]] |      \n",
      "| fold_1 best epoch: 206 | [[https://github.com/keiserlab/lab-notebook-caceres/wiki/images/20180815_Paper_Retrains/lr_nesterov_1024_2048_3072/STD_SMA_RATIOS/fold_1/pnr_1.5/train_loss.png]] | [[https://github.com/keiserlab/lab-notebook-caceres/wiki/images/20180815_Paper_Retrains/lr_nesterov_1024_2048_3072/STD_SMA_RATIOS/fold_1/pnr_1.5/test_loss.png]] | [[https://github.com/keiserlab/lab-notebook-caceres/wiki/images/20180815_Paper_Retrains/lr_nesterov_1024_2048_3072/STD_SMA_RATIOS/fold_1/pnr_1.5/test_no_gt_loss.png]] | [[https://github.com/keiserlab/lab-notebook-caceres/wiki/images/20180815_Paper_Retrains/lr_nesterov_1024_2048_3072/STD_SMA_RATIOS/fold_1/pnr_1.5/test_sneg_loss.png]] |      \n",
      "| fold_2 best epoch: 172 | [[https://github.com/keiserlab/lab-notebook-caceres/wiki/images/20180815_Paper_Retrains/lr_nesterov_1024_2048_3072/STD_SMA_RATIOS/fold_2/pnr_1.5/train_loss.png]] | [[https://github.com/keiserlab/lab-notebook-caceres/wiki/images/20180815_Paper_Retrains/lr_nesterov_1024_2048_3072/STD_SMA_RATIOS/fold_2/pnr_1.5/test_loss.png]] | [[https://github.com/keiserlab/lab-notebook-caceres/wiki/images/20180815_Paper_Retrains/lr_nesterov_1024_2048_3072/STD_SMA_RATIOS/fold_2/pnr_1.5/test_no_gt_loss.png]] | [[https://github.com/keiserlab/lab-notebook-caceres/wiki/images/20180815_Paper_Retrains/lr_nesterov_1024_2048_3072/STD_SMA_RATIOS/fold_2/pnr_1.5/test_sneg_loss.png]] |      \n",
      "| fold_3 best epoch: 373 | [[https://github.com/keiserlab/lab-notebook-caceres/wiki/images/20180815_Paper_Retrains/lr_nesterov_1024_2048_3072/STD_SMA_RATIOS/fold_3/pnr_1.5/train_loss.png]] | [[https://github.com/keiserlab/lab-notebook-caceres/wiki/images/20180815_Paper_Retrains/lr_nesterov_1024_2048_3072/STD_SMA_RATIOS/fold_3/pnr_1.5/test_loss.png]] | [[https://github.com/keiserlab/lab-notebook-caceres/wiki/images/20180815_Paper_Retrains/lr_nesterov_1024_2048_3072/STD_SMA_RATIOS/fold_3/pnr_1.5/test_no_gt_loss.png]] | [[https://github.com/keiserlab/lab-notebook-caceres/wiki/images/20180815_Paper_Retrains/lr_nesterov_1024_2048_3072/STD_SMA_RATIOS/fold_3/pnr_1.5/test_sneg_loss.png]] |      \n",
      "| fold_4 best epoch: 72 | [[https://github.com/keiserlab/lab-notebook-caceres/wiki/images/20180815_Paper_Retrains/lr_nesterov_1024_2048_3072/STD_SMA_RATIOS/fold_4/pnr_1.5/train_loss.png]] | [[https://github.com/keiserlab/lab-notebook-caceres/wiki/images/20180815_Paper_Retrains/lr_nesterov_1024_2048_3072/STD_SMA_RATIOS/fold_4/pnr_1.5/test_loss.png]] | [[https://github.com/keiserlab/lab-notebook-caceres/wiki/images/20180815_Paper_Retrains/lr_nesterov_1024_2048_3072/STD_SMA_RATIOS/fold_4/pnr_1.5/test_no_gt_loss.png]] | [[https://github.com/keiserlab/lab-notebook-caceres/wiki/images/20180815_Paper_Retrains/lr_nesterov_1024_2048_3072/STD_SMA_RATIOS/fold_4/pnr_1.5/test_sneg_loss.png]] |      \n",
      "\n",
      "\n",
      "\n",
      "| PNR_2.3333 | train_loss | test_loss | test_no_gt_loss | test_sneg_loss |      \n",
      "| :--- | :--- | :--- | :--- | :--- |      \n",
      "| fold_0 best epoch: 132 | [[https://github.com/keiserlab/lab-notebook-caceres/wiki/images/20180815_Paper_Retrains/lr_nesterov_1024_2048_3072/STD_SMA_RATIOS/fold_0/pnr_2.3333/train_loss.png]] | [[https://github.com/keiserlab/lab-notebook-caceres/wiki/images/20180815_Paper_Retrains/lr_nesterov_1024_2048_3072/STD_SMA_RATIOS/fold_0/pnr_2.3333/test_loss.png]] | [[https://github.com/keiserlab/lab-notebook-caceres/wiki/images/20180815_Paper_Retrains/lr_nesterov_1024_2048_3072/STD_SMA_RATIOS/fold_0/pnr_2.3333/test_no_gt_loss.png]] | [[https://github.com/keiserlab/lab-notebook-caceres/wiki/images/20180815_Paper_Retrains/lr_nesterov_1024_2048_3072/STD_SMA_RATIOS/fold_0/pnr_2.3333/test_sneg_loss.png]] |      \n",
      "| fold_1 best epoch: 0 |      \n",
      "| fold_2 best epoch: 0 | [[https://github.com/keiserlab/lab-notebook-caceres/wiki/images/20180815_Paper_Retrains/lr_nesterov_1024_2048_3072/STD_SMA_RATIOS/fold_2/pnr_2.3333/train_loss.png]] | [[https://github.com/keiserlab/lab-notebook-caceres/wiki/images/20180815_Paper_Retrains/lr_nesterov_1024_2048_3072/STD_SMA_RATIOS/fold_2/pnr_2.3333/test_loss.png]] | [[https://github.com/keiserlab/lab-notebook-caceres/wiki/images/20180815_Paper_Retrains/lr_nesterov_1024_2048_3072/STD_SMA_RATIOS/fold_2/pnr_2.3333/test_no_gt_loss.png]] | [[https://github.com/keiserlab/lab-notebook-caceres/wiki/images/20180815_Paper_Retrains/lr_nesterov_1024_2048_3072/STD_SMA_RATIOS/fold_2/pnr_2.3333/test_sneg_loss.png]] |      \n",
      "| fold_3 best epoch: 199 | [[https://github.com/keiserlab/lab-notebook-caceres/wiki/images/20180815_Paper_Retrains/lr_nesterov_1024_2048_3072/STD_SMA_RATIOS/fold_3/pnr_2.3333/train_loss.png]] | [[https://github.com/keiserlab/lab-notebook-caceres/wiki/images/20180815_Paper_Retrains/lr_nesterov_1024_2048_3072/STD_SMA_RATIOS/fold_3/pnr_2.3333/test_loss.png]] | [[https://github.com/keiserlab/lab-notebook-caceres/wiki/images/20180815_Paper_Retrains/lr_nesterov_1024_2048_3072/STD_SMA_RATIOS/fold_3/pnr_2.3333/test_no_gt_loss.png]] | [[https://github.com/keiserlab/lab-notebook-caceres/wiki/images/20180815_Paper_Retrains/lr_nesterov_1024_2048_3072/STD_SMA_RATIOS/fold_3/pnr_2.3333/test_sneg_loss.png]] |      \n",
      "| fold_4 best epoch: 0 | [[https://github.com/keiserlab/lab-notebook-caceres/wiki/images/20180815_Paper_Retrains/lr_nesterov_1024_2048_3072/STD_SMA_RATIOS/fold_4/pnr_2.3333/train_loss.png]] | [[https://github.com/keiserlab/lab-notebook-caceres/wiki/images/20180815_Paper_Retrains/lr_nesterov_1024_2048_3072/STD_SMA_RATIOS/fold_4/pnr_2.3333/test_loss.png]] | [[https://github.com/keiserlab/lab-notebook-caceres/wiki/images/20180815_Paper_Retrains/lr_nesterov_1024_2048_3072/STD_SMA_RATIOS/fold_4/pnr_2.3333/test_no_gt_loss.png]] | [[https://github.com/keiserlab/lab-notebook-caceres/wiki/images/20180815_Paper_Retrains/lr_nesterov_1024_2048_3072/STD_SMA_RATIOS/fold_4/pnr_2.3333/test_sneg_loss.png]] |      \n",
      "\n",
      "\n",
      "\n",
      "| PNR_4.0 | train_loss | test_loss | test_no_gt_loss | test_sneg_loss |      \n",
      "| :--- | :--- | :--- | :--- | :--- |      \n",
      "| fold_0 best epoch: 356 | [[https://github.com/keiserlab/lab-notebook-caceres/wiki/images/20180815_Paper_Retrains/lr_nesterov_1024_2048_3072/STD_SMA_RATIOS/fold_0/pnr_4.0/train_loss.png]] | [[https://github.com/keiserlab/lab-notebook-caceres/wiki/images/20180815_Paper_Retrains/lr_nesterov_1024_2048_3072/STD_SMA_RATIOS/fold_0/pnr_4.0/test_loss.png]] | [[https://github.com/keiserlab/lab-notebook-caceres/wiki/images/20180815_Paper_Retrains/lr_nesterov_1024_2048_3072/STD_SMA_RATIOS/fold_0/pnr_4.0/test_no_gt_loss.png]] | [[https://github.com/keiserlab/lab-notebook-caceres/wiki/images/20180815_Paper_Retrains/lr_nesterov_1024_2048_3072/STD_SMA_RATIOS/fold_0/pnr_4.0/test_sneg_loss.png]] |      \n",
      "| fold_1 best epoch: 300 | [[https://github.com/keiserlab/lab-notebook-caceres/wiki/images/20180815_Paper_Retrains/lr_nesterov_1024_2048_3072/STD_SMA_RATIOS/fold_1/pnr_4.0/train_loss.png]] | [[https://github.com/keiserlab/lab-notebook-caceres/wiki/images/20180815_Paper_Retrains/lr_nesterov_1024_2048_3072/STD_SMA_RATIOS/fold_1/pnr_4.0/test_loss.png]] | [[https://github.com/keiserlab/lab-notebook-caceres/wiki/images/20180815_Paper_Retrains/lr_nesterov_1024_2048_3072/STD_SMA_RATIOS/fold_1/pnr_4.0/test_no_gt_loss.png]] | [[https://github.com/keiserlab/lab-notebook-caceres/wiki/images/20180815_Paper_Retrains/lr_nesterov_1024_2048_3072/STD_SMA_RATIOS/fold_1/pnr_4.0/test_sneg_loss.png]] |      \n",
      "| fold_2 best epoch: 211 | [[https://github.com/keiserlab/lab-notebook-caceres/wiki/images/20180815_Paper_Retrains/lr_nesterov_1024_2048_3072/STD_SMA_RATIOS/fold_2/pnr_4.0/train_loss.png]] | [[https://github.com/keiserlab/lab-notebook-caceres/wiki/images/20180815_Paper_Retrains/lr_nesterov_1024_2048_3072/STD_SMA_RATIOS/fold_2/pnr_4.0/test_loss.png]] | [[https://github.com/keiserlab/lab-notebook-caceres/wiki/images/20180815_Paper_Retrains/lr_nesterov_1024_2048_3072/STD_SMA_RATIOS/fold_2/pnr_4.0/test_no_gt_loss.png]] | [[https://github.com/keiserlab/lab-notebook-caceres/wiki/images/20180815_Paper_Retrains/lr_nesterov_1024_2048_3072/STD_SMA_RATIOS/fold_2/pnr_4.0/test_sneg_loss.png]] |      \n",
      "| fold_3 best epoch: 362 | [[https://github.com/keiserlab/lab-notebook-caceres/wiki/images/20180815_Paper_Retrains/lr_nesterov_1024_2048_3072/STD_SMA_RATIOS/fold_3/pnr_4.0/train_loss.png]] | [[https://github.com/keiserlab/lab-notebook-caceres/wiki/images/20180815_Paper_Retrains/lr_nesterov_1024_2048_3072/STD_SMA_RATIOS/fold_3/pnr_4.0/test_loss.png]] | [[https://github.com/keiserlab/lab-notebook-caceres/wiki/images/20180815_Paper_Retrains/lr_nesterov_1024_2048_3072/STD_SMA_RATIOS/fold_3/pnr_4.0/test_no_gt_loss.png]] | [[https://github.com/keiserlab/lab-notebook-caceres/wiki/images/20180815_Paper_Retrains/lr_nesterov_1024_2048_3072/STD_SMA_RATIOS/fold_3/pnr_4.0/test_sneg_loss.png]] |      \n",
      "| fold_4 best epoch: 339 | [[https://github.com/keiserlab/lab-notebook-caceres/wiki/images/20180815_Paper_Retrains/lr_nesterov_1024_2048_3072/STD_SMA_RATIOS/fold_4/pnr_4.0/train_loss.png]] | [[https://github.com/keiserlab/lab-notebook-caceres/wiki/images/20180815_Paper_Retrains/lr_nesterov_1024_2048_3072/STD_SMA_RATIOS/fold_4/pnr_4.0/test_loss.png]] | [[https://github.com/keiserlab/lab-notebook-caceres/wiki/images/20180815_Paper_Retrains/lr_nesterov_1024_2048_3072/STD_SMA_RATIOS/fold_4/pnr_4.0/test_no_gt_loss.png]] | [[https://github.com/keiserlab/lab-notebook-caceres/wiki/images/20180815_Paper_Retrains/lr_nesterov_1024_2048_3072/STD_SMA_RATIOS/fold_4/pnr_4.0/test_sneg_loss.png]] |      \n",
      "\n",
      "\n",
      "\n",
      "| PNR_9.0 | train_loss | test_loss | test_no_gt_loss | test_sneg_loss |      \n",
      "| :--- | :--- | :--- | :--- | :--- |      \n",
      "| fold_0 best epoch: 263 | [[https://github.com/keiserlab/lab-notebook-caceres/wiki/images/20180815_Paper_Retrains/lr_nesterov_1024_2048_3072/STD_SMA_RATIOS/fold_0/pnr_19.0/train_loss.png]] | [[https://github.com/keiserlab/lab-notebook-caceres/wiki/images/20180815_Paper_Retrains/lr_nesterov_1024_2048_3072/STD_SMA_RATIOS/fold_0/pnr_9.0/train_loss.png]] | [[https://github.com/keiserlab/lab-notebook-caceres/wiki/images/20180815_Paper_Retrains/lr_nesterov_1024_2048_3072/STD_SMA_RATIOS/fold_0/pnr_19.0/test_loss.png]] | [[https://github.com/keiserlab/lab-notebook-caceres/wiki/images/20180815_Paper_Retrains/lr_nesterov_1024_2048_3072/STD_SMA_RATIOS/fold_0/pnr_9.0/test_loss.png]] | [[https://github.com/keiserlab/lab-notebook-caceres/wiki/images/20180815_Paper_Retrains/lr_nesterov_1024_2048_3072/STD_SMA_RATIOS/fold_0/pnr_19.0/test_no_gt_loss.png]] | [[https://github.com/keiserlab/lab-notebook-caceres/wiki/images/20180815_Paper_Retrains/lr_nesterov_1024_2048_3072/STD_SMA_RATIOS/fold_0/pnr_9.0/test_no_gt_loss.png]] | [[https://github.com/keiserlab/lab-notebook-caceres/wiki/images/20180815_Paper_Retrains/lr_nesterov_1024_2048_3072/STD_SMA_RATIOS/fold_0/pnr_19.0/test_sneg_loss.png]] | [[https://github.com/keiserlab/lab-notebook-caceres/wiki/images/20180815_Paper_Retrains/lr_nesterov_1024_2048_3072/STD_SMA_RATIOS/fold_0/pnr_9.0/test_sneg_loss.png]] |      \n",
      "| fold_1 best epoch: 81 | [[https://github.com/keiserlab/lab-notebook-caceres/wiki/images/20180815_Paper_Retrains/lr_nesterov_1024_2048_3072/STD_SMA_RATIOS/fold_1/pnr_19.0/train_loss.png]] | [[https://github.com/keiserlab/lab-notebook-caceres/wiki/images/20180815_Paper_Retrains/lr_nesterov_1024_2048_3072/STD_SMA_RATIOS/fold_1/pnr_9.0/train_loss.png]] | [[https://github.com/keiserlab/lab-notebook-caceres/wiki/images/20180815_Paper_Retrains/lr_nesterov_1024_2048_3072/STD_SMA_RATIOS/fold_1/pnr_19.0/test_loss.png]] | [[https://github.com/keiserlab/lab-notebook-caceres/wiki/images/20180815_Paper_Retrains/lr_nesterov_1024_2048_3072/STD_SMA_RATIOS/fold_1/pnr_9.0/test_loss.png]] | [[https://github.com/keiserlab/lab-notebook-caceres/wiki/images/20180815_Paper_Retrains/lr_nesterov_1024_2048_3072/STD_SMA_RATIOS/fold_1/pnr_19.0/test_no_gt_loss.png]] | [[https://github.com/keiserlab/lab-notebook-caceres/wiki/images/20180815_Paper_Retrains/lr_nesterov_1024_2048_3072/STD_SMA_RATIOS/fold_1/pnr_9.0/test_no_gt_loss.png]] | [[https://github.com/keiserlab/lab-notebook-caceres/wiki/images/20180815_Paper_Retrains/lr_nesterov_1024_2048_3072/STD_SMA_RATIOS/fold_1/pnr_19.0/test_sneg_loss.png]] | [[https://github.com/keiserlab/lab-notebook-caceres/wiki/images/20180815_Paper_Retrains/lr_nesterov_1024_2048_3072/STD_SMA_RATIOS/fold_1/pnr_9.0/test_sneg_loss.png]] |      \n",
      "| fold_2 best epoch: 354 | [[https://github.com/keiserlab/lab-notebook-caceres/wiki/images/20180815_Paper_Retrains/lr_nesterov_1024_2048_3072/STD_SMA_RATIOS/fold_2/pnr_19.0/train_loss.png]] | [[https://github.com/keiserlab/lab-notebook-caceres/wiki/images/20180815_Paper_Retrains/lr_nesterov_1024_2048_3072/STD_SMA_RATIOS/fold_2/pnr_9.0/train_loss.png]] | [[https://github.com/keiserlab/lab-notebook-caceres/wiki/images/20180815_Paper_Retrains/lr_nesterov_1024_2048_3072/STD_SMA_RATIOS/fold_2/pnr_19.0/test_loss.png]] | [[https://github.com/keiserlab/lab-notebook-caceres/wiki/images/20180815_Paper_Retrains/lr_nesterov_1024_2048_3072/STD_SMA_RATIOS/fold_2/pnr_9.0/test_loss.png]] | [[https://github.com/keiserlab/lab-notebook-caceres/wiki/images/20180815_Paper_Retrains/lr_nesterov_1024_2048_3072/STD_SMA_RATIOS/fold_2/pnr_19.0/test_no_gt_loss.png]] | [[https://github.com/keiserlab/lab-notebook-caceres/wiki/images/20180815_Paper_Retrains/lr_nesterov_1024_2048_3072/STD_SMA_RATIOS/fold_2/pnr_9.0/test_no_gt_loss.png]] | [[https://github.com/keiserlab/lab-notebook-caceres/wiki/images/20180815_Paper_Retrains/lr_nesterov_1024_2048_3072/STD_SMA_RATIOS/fold_2/pnr_19.0/test_sneg_loss.png]] | [[https://github.com/keiserlab/lab-notebook-caceres/wiki/images/20180815_Paper_Retrains/lr_nesterov_1024_2048_3072/STD_SMA_RATIOS/fold_2/pnr_9.0/test_sneg_loss.png]] |      \n",
      "| fold_3 best epoch: 0 | [[https://github.com/keiserlab/lab-notebook-caceres/wiki/images/20180815_Paper_Retrains/lr_nesterov_1024_2048_3072/STD_SMA_RATIOS/fold_3/pnr_9.0/train_loss.png]] | [[https://github.com/keiserlab/lab-notebook-caceres/wiki/images/20180815_Paper_Retrains/lr_nesterov_1024_2048_3072/STD_SMA_RATIOS/fold_3/pnr_19.0/train_loss.png]] | [[https://github.com/keiserlab/lab-notebook-caceres/wiki/images/20180815_Paper_Retrains/lr_nesterov_1024_2048_3072/STD_SMA_RATIOS/fold_3/pnr_9.0/test_loss.png]] | [[https://github.com/keiserlab/lab-notebook-caceres/wiki/images/20180815_Paper_Retrains/lr_nesterov_1024_2048_3072/STD_SMA_RATIOS/fold_3/pnr_19.0/test_loss.png]] | [[https://github.com/keiserlab/lab-notebook-caceres/wiki/images/20180815_Paper_Retrains/lr_nesterov_1024_2048_3072/STD_SMA_RATIOS/fold_3/pnr_9.0/test_no_gt_loss.png]] | [[https://github.com/keiserlab/lab-notebook-caceres/wiki/images/20180815_Paper_Retrains/lr_nesterov_1024_2048_3072/STD_SMA_RATIOS/fold_3/pnr_19.0/test_no_gt_loss.png]] | [[https://github.com/keiserlab/lab-notebook-caceres/wiki/images/20180815_Paper_Retrains/lr_nesterov_1024_2048_3072/STD_SMA_RATIOS/fold_3/pnr_9.0/test_sneg_loss.png]] | [[https://github.com/keiserlab/lab-notebook-caceres/wiki/images/20180815_Paper_Retrains/lr_nesterov_1024_2048_3072/STD_SMA_RATIOS/fold_3/pnr_19.0/test_sneg_loss.png]] |      \n",
      "| fold_4 best epoch: 296 | [[https://github.com/keiserlab/lab-notebook-caceres/wiki/images/20180815_Paper_Retrains/lr_nesterov_1024_2048_3072/STD_SMA_RATIOS/fold_4/pnr_19.0/train_loss.png]] | [[https://github.com/keiserlab/lab-notebook-caceres/wiki/images/20180815_Paper_Retrains/lr_nesterov_1024_2048_3072/STD_SMA_RATIOS/fold_4/pnr_9.0/train_loss.png]] | [[https://github.com/keiserlab/lab-notebook-caceres/wiki/images/20180815_Paper_Retrains/lr_nesterov_1024_2048_3072/STD_SMA_RATIOS/fold_4/pnr_19.0/test_loss.png]] | [[https://github.com/keiserlab/lab-notebook-caceres/wiki/images/20180815_Paper_Retrains/lr_nesterov_1024_2048_3072/STD_SMA_RATIOS/fold_4/pnr_9.0/test_loss.png]] | [[https://github.com/keiserlab/lab-notebook-caceres/wiki/images/20180815_Paper_Retrains/lr_nesterov_1024_2048_3072/STD_SMA_RATIOS/fold_4/pnr_19.0/test_no_gt_loss.png]] | [[https://github.com/keiserlab/lab-notebook-caceres/wiki/images/20180815_Paper_Retrains/lr_nesterov_1024_2048_3072/STD_SMA_RATIOS/fold_4/pnr_9.0/test_no_gt_loss.png]] | [[https://github.com/keiserlab/lab-notebook-caceres/wiki/images/20180815_Paper_Retrains/lr_nesterov_1024_2048_3072/STD_SMA_RATIOS/fold_4/pnr_19.0/test_sneg_loss.png]] | [[https://github.com/keiserlab/lab-notebook-caceres/wiki/images/20180815_Paper_Retrains/lr_nesterov_1024_2048_3072/STD_SMA_RATIOS/fold_4/pnr_9.0/test_sneg_loss.png]] |      \n",
      "\n",
      "\n",
      "\n",
      "| PNR_19.0 | train_loss | test_loss | test_no_gt_loss | test_sneg_loss |      \n",
      "| :--- | :--- | :--- | :--- | :--- |      \n",
      "| fold_0 best epoch: 57 | [[https://github.com/keiserlab/lab-notebook-caceres/wiki/images/20180815_Paper_Retrains/lr_nesterov_1024_2048_3072/STD_SMA_RATIOS/fold_0/pnr_19.0/train_loss.png]] | [[https://github.com/keiserlab/lab-notebook-caceres/wiki/images/20180815_Paper_Retrains/lr_nesterov_1024_2048_3072/STD_SMA_RATIOS/fold_0/pnr_19.0/test_loss.png]] | [[https://github.com/keiserlab/lab-notebook-caceres/wiki/images/20180815_Paper_Retrains/lr_nesterov_1024_2048_3072/STD_SMA_RATIOS/fold_0/pnr_19.0/test_no_gt_loss.png]] | [[https://github.com/keiserlab/lab-notebook-caceres/wiki/images/20180815_Paper_Retrains/lr_nesterov_1024_2048_3072/STD_SMA_RATIOS/fold_0/pnr_19.0/test_sneg_loss.png]] |      \n",
      "| fold_1 best epoch: 459 | [[https://github.com/keiserlab/lab-notebook-caceres/wiki/images/20180815_Paper_Retrains/lr_nesterov_1024_2048_3072/STD_SMA_RATIOS/fold_1/pnr_19.0/train_loss.png]] | [[https://github.com/keiserlab/lab-notebook-caceres/wiki/images/20180815_Paper_Retrains/lr_nesterov_1024_2048_3072/STD_SMA_RATIOS/fold_1/pnr_19.0/test_loss.png]] | [[https://github.com/keiserlab/lab-notebook-caceres/wiki/images/20180815_Paper_Retrains/lr_nesterov_1024_2048_3072/STD_SMA_RATIOS/fold_1/pnr_19.0/test_no_gt_loss.png]] | [[https://github.com/keiserlab/lab-notebook-caceres/wiki/images/20180815_Paper_Retrains/lr_nesterov_1024_2048_3072/STD_SMA_RATIOS/fold_1/pnr_19.0/test_sneg_loss.png]] |      \n",
      "| fold_2 best epoch: 194 | [[https://github.com/keiserlab/lab-notebook-caceres/wiki/images/20180815_Paper_Retrains/lr_nesterov_1024_2048_3072/STD_SMA_RATIOS/fold_2/pnr_19.0/train_loss.png]] | [[https://github.com/keiserlab/lab-notebook-caceres/wiki/images/20180815_Paper_Retrains/lr_nesterov_1024_2048_3072/STD_SMA_RATIOS/fold_2/pnr_19.0/test_loss.png]] | [[https://github.com/keiserlab/lab-notebook-caceres/wiki/images/20180815_Paper_Retrains/lr_nesterov_1024_2048_3072/STD_SMA_RATIOS/fold_2/pnr_19.0/test_no_gt_loss.png]] | [[https://github.com/keiserlab/lab-notebook-caceres/wiki/images/20180815_Paper_Retrains/lr_nesterov_1024_2048_3072/STD_SMA_RATIOS/fold_2/pnr_19.0/test_sneg_loss.png]] |      \n",
      "| fold_3 best epoch: 100 | [[https://github.com/keiserlab/lab-notebook-caceres/wiki/images/20180815_Paper_Retrains/lr_nesterov_1024_2048_3072/STD_SMA_RATIOS/fold_3/pnr_19.0/train_loss.png]] | [[https://github.com/keiserlab/lab-notebook-caceres/wiki/images/20180815_Paper_Retrains/lr_nesterov_1024_2048_3072/STD_SMA_RATIOS/fold_3/pnr_19.0/test_loss.png]] | [[https://github.com/keiserlab/lab-notebook-caceres/wiki/images/20180815_Paper_Retrains/lr_nesterov_1024_2048_3072/STD_SMA_RATIOS/fold_3/pnr_19.0/test_no_gt_loss.png]] | [[https://github.com/keiserlab/lab-notebook-caceres/wiki/images/20180815_Paper_Retrains/lr_nesterov_1024_2048_3072/STD_SMA_RATIOS/fold_3/pnr_19.0/test_sneg_loss.png]] |      \n",
      "| fold_4 best epoch: 206 | [[https://github.com/keiserlab/lab-notebook-caceres/wiki/images/20180815_Paper_Retrains/lr_nesterov_1024_2048_3072/STD_SMA_RATIOS/fold_4/pnr_19.0/train_loss.png]] | [[https://github.com/keiserlab/lab-notebook-caceres/wiki/images/20180815_Paper_Retrains/lr_nesterov_1024_2048_3072/STD_SMA_RATIOS/fold_4/pnr_19.0/test_loss.png]] | [[https://github.com/keiserlab/lab-notebook-caceres/wiki/images/20180815_Paper_Retrains/lr_nesterov_1024_2048_3072/STD_SMA_RATIOS/fold_4/pnr_19.0/test_no_gt_loss.png]] | [[https://github.com/keiserlab/lab-notebook-caceres/wiki/images/20180815_Paper_Retrains/lr_nesterov_1024_2048_3072/STD_SMA_RATIOS/fold_4/pnr_19.0/test_sneg_loss.png]] |      \n",
      "\n",
      "\n",
      "\n"
     ]
    }
   ],
   "source": [
    "img_order = ['train_loss','test_loss', 'test_no_gt_loss', 'test_sneg_loss']\n",
    "for ratio in sneg_pnrs:\n",
    "    png_subset = [f for f in png_files if str(ratio) in f]\n",
    "    headers = [\"PNR_{}\".format(ratio)]\n",
    "    headers.extend(img_order)\n",
    "    print(print_table(headers))\n",
    "    print(print_table([\":---\"]*len(headers)))\n",
    "    for f in np.arange(0, 5, 1):\n",
    "        name_fmter = \"fold_{} best epoch: {}\".format(str(f), expt_dict[ratio][f])\n",
    "        fold_fmter = \"fold_{}\".format(str(f))\n",
    "        fold_pngs = [i for i in png_subset if fold_fmter in i]\n",
    "        fold_pngs = sorted(fold_pngs, key=lambda x: img_order.index(x.split(\"/\")[-1].split(\".\")[0]))\n",
    "        md_print_fmt = [name_fmter] + [format_md_img(github_wiki_expt, i.split(\"//\")[-1]) for i in fold_pngs]\n",
    "        print(print_table(md_print_fmt))\n",
    "    print(\"\\n\\n\")"
   ]
  },
  {
   "cell_type": "code",
   "execution_count": null,
   "metadata": {
    "collapsed": true
   },
   "outputs": [],
   "source": []
  }
 ],
 "metadata": {
  "kernelspec": {
   "display_name": "Python 2",
   "language": "python",
   "name": "python2"
  },
  "language_info": {
   "codemirror_mode": {
    "name": "ipython",
    "version": 2
   },
   "file_extension": ".py",
   "mimetype": "text/x-python",
   "name": "python",
   "nbconvert_exporter": "python",
   "pygments_lexer": "ipython2",
   "version": "2.7.12"
  }
 },
 "nbformat": 4,
 "nbformat_minor": 2
}
