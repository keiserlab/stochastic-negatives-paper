{
 "cells": [
  {
   "cell_type": "markdown",
   "metadata": {},
   "source": [
    "## SEA prediction file changes\n",
    "\n",
    "Make SEA predictions and change the file so that \"*,*\" is now \"* *\" as we are getting an error with number of columns on the trainging end"
   ]
  },
  {
   "cell_type": "code",
   "execution_count": 1,
   "metadata": {
    "collapsed": true
   },
   "outputs": [],
   "source": [
    "import re\n",
    "import fileinput\n",
    "import os"
   ]
  },
  {
   "cell_type": "code",
   "execution_count": 3,
   "metadata": {
    "collapsed": true
   },
   "outputs": [],
   "source": [
    "def get_env_var(handle):\n",
    "    ''' Get an environment variable given the handle for the bash variable'''\n",
    "    tmp = os.getenv(handle)\n",
    "    if not tmp:\n",
    "        raise LookupError(\"Environment variable: {} not set.\".format(handle))\n",
    "    return tmp.strip(\"'\")\n",
    "\n",
    "home_save_base = get_env_var(\"HOME_SAVE_BASE\")\n",
    "base=\"{}/output/20190410_SMA_Investigation/SEA_GEN/binding/preds\".format(home_save_base)\n",
    "pred_file=\"{}/train_ts2012_chembl20_MWmax800_scrubDM_minpos10_cutoff5_SEA_predictions.csv\".format(base)\n",
    "pred_copy=\"{}/train_ts2012_chembl20_MWmax800_scrubDM_minpos10_cutoff5_SEA_predictions_reduced.csv\".format(base)\n",
    "\n",
    "regex_str = r'(?!(([^\"]*\"){2})*[^\"]*$),'\n",
    "pattern = re.compile(regex_str)"
   ]
  },
  {
   "cell_type": "code",
   "execution_count": 4,
   "metadata": {
    "collapsed": true
   },
   "outputs": [],
   "source": [
    "!cp $pred_file $pred_copy"
   ]
  },
  {
   "cell_type": "code",
   "execution_count": 12,
   "metadata": {},
   "outputs": [
    {
     "name": "stdout",
     "output_type": "stream",
     "text": [
      "('\"Kynurenine/alpha-aminoadipate aminotransferase, mitochondrial\"', 'Kynurenine/alpha-aminoadipate aminotransferase, mitochondrial\"')\n",
      "('\"Kynurenine/alpha-aminoadipate aminotransferase, mitochondrial\"', 'Kynurenine/alpha-aminoadipate aminotransferase, mitochondrial\"')\n",
      "('\"Kynurenine/alpha-aminoadipate aminotransferase, mitochondrial\"', 'Kynurenine/alpha-aminoadipate aminotransferase, mitochondrial\"')\n",
      "('\"Kynurenine/alpha-aminoadipate aminotransferase, mitochondrial\"', 'Kynurenine/alpha-aminoadipate aminotransferase, mitochondrial\"')\n",
      "('\"Glutamate receptor ionotropic, AMPA 2\"', 'Glutamate receptor ionotropic, AMPA 2\"')\n",
      "('\"Nitric-oxide synthase, brain\"', 'Nitric-oxide synthase, brain\"')\n",
      "('\"Nitric-oxide synthase, brain\"', 'Nitric-oxide synthase, brain\"')\n",
      "('\"Nitric-oxide synthase, brain\"', 'Nitric-oxide synthase, brain\"')\n",
      "('\"Nitric-oxide synthase, brain\"', 'Nitric-oxide synthase, brain\"')\n",
      "('\"Nitric-oxide synthase, brain\"', 'Nitric-oxide synthase, brain\"')\n",
      "('\"Indoleamine 2,3-dioxygenase\"', 'Indoleamine 2,3-dioxygenase\"')\n"
     ]
    }
   ],
   "source": [
    "counter = 0\n",
    "with open(pred_file, \"r\") as f:\n",
    "    for line in f:\n",
    "        for match in re.finditer(pattern, line):\n",
    "            print(match.groups())\n",
    "            counter +=1\n",
    "        if counter > 10:\n",
    "            break"
   ]
  },
  {
   "cell_type": "code",
   "execution_count": 13,
   "metadata": {},
   "outputs": [
    {
     "name": "stdout",
     "output_type": "stream",
     "text": [
      "('\"Kynurenine/alpha-aminoadipate aminotransferase, mitochondrial\"', 'Kynurenine/alpha-aminoadipate aminotransferase, mitochondrial\"')\n",
      "('\"Kynurenine/alpha-aminoadipate aminotransferase, mitochondrial\"', 'Kynurenine/alpha-aminoadipate aminotransferase, mitochondrial\"')\n",
      "('\"Kynurenine/alpha-aminoadipate aminotransferase, mitochondrial\"', 'Kynurenine/alpha-aminoadipate aminotransferase, mitochondrial\"')\n",
      "('\"Kynurenine/alpha-aminoadipate aminotransferase, mitochondrial\"', 'Kynurenine/alpha-aminoadipate aminotransferase, mitochondrial\"')\n",
      "('\"Glutamate receptor ionotropic, AMPA 2\"', 'Glutamate receptor ionotropic, AMPA 2\"')\n",
      "('\"Nitric-oxide synthase, brain\"', 'Nitric-oxide synthase, brain\"')\n",
      "('\"Nitric-oxide synthase, brain\"', 'Nitric-oxide synthase, brain\"')\n",
      "('\"Nitric-oxide synthase, brain\"', 'Nitric-oxide synthase, brain\"')\n",
      "('\"Nitric-oxide synthase, brain\"', 'Nitric-oxide synthase, brain\"')\n",
      "('\"Nitric-oxide synthase, brain\"', 'Nitric-oxide synthase, brain\"')\n",
      "('\"Indoleamine 2,3-dioxygenase\"', 'Indoleamine 2,3-dioxygenase\"')\n"
     ]
    }
   ],
   "source": [
    "counter = 0\n",
    "with open(pred_copy, \"r\") as f:\n",
    "    for line in f:\n",
    "        for match in re.finditer(pattern, line):\n",
    "            print(match.groups())\n",
    "            counter +=1\n",
    "        if counter > 10:\n",
    "            break"
   ]
  },
  {
   "cell_type": "code",
   "execution_count": 9,
   "metadata": {
    "collapsed": true
   },
   "outputs": [],
   "source": [
    "for line in fileinput.input(pred_copy, inplace=1):\n",
    "    line = re.sub(regex_str, r'', line.rstrip())"
   ]
  },
  {
   "cell_type": "code",
   "execution_count": 11,
   "metadata": {
    "collapsed": true
   },
   "outputs": [],
   "source": [
    "counter = 0\n",
    "with open(pred_copy, \"r\") as f:\n",
    "    for line in f:\n",
    "        for match in re.finditer(pattern, line):\n",
    "            print(match.groups())\n",
    "            counter +=1\n",
    "        if counter > 10:\n",
    "            break"
   ]
  },
  {
   "cell_type": "code",
   "execution_count": null,
   "metadata": {
    "collapsed": true
   },
   "outputs": [],
   "source": []
  }
 ],
 "metadata": {
  "kernelspec": {
   "display_name": "Python 2",
   "language": "python",
   "name": "python2"
  },
  "language_info": {
   "codemirror_mode": {
    "name": "ipython",
    "version": 2
   },
   "file_extension": ".py",
   "mimetype": "text/x-python",
   "name": "python",
   "nbconvert_exporter": "python",
   "pygments_lexer": "ipython2",
   "version": "2.7.12"
  }
 },
 "nbformat": 4,
 "nbformat_minor": 2
}
