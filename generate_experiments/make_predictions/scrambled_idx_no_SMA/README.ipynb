{
 "cells": [
  {
   "cell_type": "markdown",
   "metadata": {},
   "source": [
    "## Why am I doing this?\n",
    "\n",
    "Based on the perfomance difference between validation and time split sets for scrambled indices, I suspect that the initial good performance on AUPRC is due to targets with high positive counts. To counteract that, I'm going to use an SMA model on the scrambled indices and look to see if that initial bump goes away. "
   ]
  },
  {
   "cell_type": "markdown",
   "metadata": {
    "collapsed": true
   },
   "source": [
    "!cp ../scrambled_idx/scrambled_trains.sh ./"
   ]
  },
  {
   "cell_type": "markdown",
   "metadata": {
    "collapsed": true
   },
   "source": [
    "!cp ../scrambled_idx/sneg_args.txt ./"
   ]
  },
  {
   "cell_type": "markdown",
   "metadata": {},
   "source": [
    "copied args and now modifying"
   ]
  },
  {
   "cell_type": "markdown",
   "metadata": {
    "collapsed": true
   },
   "source": [
    "Well fuck. Looks like I trained the scrambled_idx model using SMA. So, now I guess my hypothesis will be inverted. "
   ]
  },
  {
   "cell_type": "markdown",
   "metadata": {},
   "source": [
    "!cp ../scrambled_idx/gen_ts_validation.sh ./"
   ]
  },
  {
   "cell_type": "markdown",
   "metadata": {
    "collapsed": true
   },
   "source": [
    "!cp ../scrambled_idx/get_best_epochs.py ./"
   ]
  },
  {
   "cell_type": "markdown",
   "metadata": {
    "collapsed": true
   },
   "source": [
    "!cp ../scrambled_idx/get_best_epochs.sh ./"
   ]
  },
  {
   "cell_type": "markdown",
   "metadata": {},
   "source": [
    "!cp ../scrambled_idx/get_metrics.sh ./"
   ]
  },
  {
   "cell_type": "markdown",
   "metadata": {},
   "source": [
    "!cp ../scrambled_idx/run_with_custom_epochs* ./"
   ]
  },
  {
   "cell_type": "markdown",
   "metadata": {
    "collapsed": true
   },
   "source": [
    "now look at data"
   ]
  },
  {
   "cell_type": "markdown",
   "metadata": {},
   "source": [
    "!cp ../scrambled_idx/plot_scrambled_aucs.ipynb ./"
   ]
  },
  {
   "cell_type": "markdown",
   "metadata": {},
   "source": [
    "!cp ../scrambled_idx/r2_plots.ipynb ./"
   ]
  },
  {
   "cell_type": "markdown",
   "metadata": {},
   "source": [
    "## Check training"
   ]
  },
  {
   "cell_type": "code",
   "execution_count": 5,
   "metadata": {
    "collapsed": true
   },
   "outputs": [],
   "source": [
    "import pandas as pd\n",
    "import os\n",
    "from glob import glob\n",
    "import numpy as np\n",
    "import json\n",
    "from itertools import izip\n",
    "\n",
    "\n",
    "def get_env_var(handle):\n",
    "    ''' Get an environment variable given the handle for the bash variable'''\n",
    "    tmp = os.getenv(handle)\n",
    "    if not tmp:\n",
    "        raise LookupError(\"Environment variable: {} not set.\".format(handle))\n",
    "    return tmp.strip(\"'\")\n",
    "\n",
    "def format_md_img(link_name, rel_plot_loc):\n",
    "    img_formatter=\"[[{}/{}]]\".format(link_name, rel_plot_loc)\n",
    "    return img_formatter\n",
    "\n",
    "\n",
    "def print_table(list_of_headers):\n",
    "    fmter =  \"| {} {}\".format(\"{}\", \" {} \")\n",
    "    for header in list_of_headers:\n",
    "        fmter = fmter.format(\"{} {}\".format(header, \"| {}\"), \"{}\")\n",
    "    fmter = fmter.format(\" \", \" \")\n",
    "    return fmter\n",
    "\n",
    "\n",
    "class Experiment(dict):\n",
    "    def __init__(self, name):\n",
    "        self.name = name\n",
    "        self.folds = []\n",
    "        self.converged_epochs = []\n",
    "        self.trained_paths = []\n",
    "      \n",
    "    def __repr__(self):\n",
    "        return str(vars(self))\n",
    "    \n",
    "    def __str__(self):\n",
    "        return json.dumps(vars(self), indent=2)\n",
    "        \n",
    "    def set_convereged_epoch(self, epoch, train_path, fold=None):        \n",
    "        self.folds.append(fold)\n",
    "        self.converged_epochs.append(epoch)\n",
    "        self.trained_paths.append(train_path)\n",
    "        \n",
    "\n",
    "home=get_env_var(\"HOME\")\n",
    "base=\"{}/labgits/lab-notebook-caceres.wiki/images/20180815_Paper_Retrains/\".format(home)\n",
    "\n",
    "home_save_dir = get_env_var(\"HOME_SAVE_BASE\")\n",
    "srv_save_dir = get_env_var(\"DATA_SAVE_BASE\")\n",
    "proj_dir = get_env_var(\"NMEW_PROJ_BASE\")\n",
    "\n",
    "sneg_pnrs=[1.0]\n",
    "fold_tmplt = \"fold_[0-9]*/pnr_*/*.png\"\n",
    "\n",
    "# github formatting info:\n",
    "\n",
    "github_wiki_link=\"https://github.com/keiserlab/lab-notebook-caceres/wiki/images\"\n",
    "expt_name = \"20180815_Paper_Retrains\"\n",
    "expt_sub_name=\"scrambled_idx_no_SMA\"\n",
    "github_wiki_expt = \"{}/{}\".format(github_wiki_link, expt_name, expt_sub_name)\n",
    "\n",
    "expt_dir = \"{}/lr_nesterov_1024_2048_3072/\".format(base)\n",
    "\n",
    "metrics_for_convergance = ['matthews-corrcoef_binary-5.0_test', \n",
    "                           'matthews-corrcoef_binary-6.0_test', \n",
    "                           'r2_test']\n",
    "experiments = []\n",
    "\n",
    "parent_dir = os.path.join(expt_dir, expt_sub_name)"
   ]
  },
  {
   "cell_type": "code",
   "execution_count": 6,
   "metadata": {
    "collapsed": true
   },
   "outputs": [],
   "source": [
    "!mkdir -p $parent_dir\n"
   ]
  },
  {
   "cell_type": "markdown",
   "metadata": {},
   "source": [
    "### copied images of interest into parent dir\n",
    "\n",
    "```\n",
    "!rsync -azrRv $HOME_SAVE_BASE/output/20180815_Paper_Retrains/trained_nets/./lr_nesterov_1024_2048_3072/scrambled_idx_no_SMA/fold_*/pnr_*/*.png $base\n",
    "```"
   ]
  },
  {
   "cell_type": "code",
   "execution_count": 7,
   "metadata": {
    "collapsed": true
   },
   "outputs": [],
   "source": [
    "png_files = glob(os.path.join(parent_dir, fold_tmplt))"
   ]
  },
  {
   "cell_type": "code",
   "execution_count": 11,
   "metadata": {
    "collapsed": true
   },
   "outputs": [],
   "source": [
    "experiments = []\n",
    "converged_epochs = (\"{}/output/20180815_Paper_Retrains/predictions/{}/experiments.json\".format(home_save_dir, expt_sub_name))\n",
    "with open(converged_epochs, \"r\") as fp:\n",
    "    expts = json.load(fp)\n",
    "\n",
    "expt_list = []\n",
    "for e in expts:\n",
    "    tmp = Experiment(e[\"name\"])\n",
    "    for epoch, path, fold in izip(e[\"converged_epochs\"], e[\"trained_paths\"], e[\"folds\"]):\n",
    "        tmp.set_convereged_epoch(epoch, path, fold)\n",
    "    experiments.append(tmp)\n",
    "    del(tmp)    \n",
    "    \n",
    "expt_dict = {float(i.name.split(\"_\")[-1]): dict(zip([int(j.split(\"_\")[1]) for j in i.folds], i.converged_epochs)) for i in experiments}"
   ]
  },
  {
   "cell_type": "code",
   "execution_count": 12,
   "metadata": {},
   "outputs": [
    {
     "name": "stdout",
     "output_type": "stream",
     "text": [
      "| PNR_1.0 | train_loss | test_loss | test_no_gt_loss |      \n",
      "| :--- | :--- | :--- | :--- |      \n",
      "| fold_0 best epoch: 0 | [[https://github.com/keiserlab/lab-notebook-caceres/wiki/images/20180815_Paper_Retrains/lr_nesterov_1024_2048_3072/scrambled_idx_no_SMA/fold_0/pnr_1.0/train_loss.png]] | [[https://github.com/keiserlab/lab-notebook-caceres/wiki/images/20180815_Paper_Retrains/lr_nesterov_1024_2048_3072/scrambled_idx_no_SMA/fold_0/pnr_1.0/test_loss.png]] | [[https://github.com/keiserlab/lab-notebook-caceres/wiki/images/20180815_Paper_Retrains/lr_nesterov_1024_2048_3072/scrambled_idx_no_SMA/fold_0/pnr_1.0/test_no_gt_loss.png]] |      \n",
      "| fold_1 best epoch: 0 | [[https://github.com/keiserlab/lab-notebook-caceres/wiki/images/20180815_Paper_Retrains/lr_nesterov_1024_2048_3072/scrambled_idx_no_SMA/fold_1/pnr_1.0/train_loss.png]] | [[https://github.com/keiserlab/lab-notebook-caceres/wiki/images/20180815_Paper_Retrains/lr_nesterov_1024_2048_3072/scrambled_idx_no_SMA/fold_1/pnr_1.0/test_loss.png]] | [[https://github.com/keiserlab/lab-notebook-caceres/wiki/images/20180815_Paper_Retrains/lr_nesterov_1024_2048_3072/scrambled_idx_no_SMA/fold_1/pnr_1.0/test_no_gt_loss.png]] |      \n",
      "| fold_2 best epoch: 0 | [[https://github.com/keiserlab/lab-notebook-caceres/wiki/images/20180815_Paper_Retrains/lr_nesterov_1024_2048_3072/scrambled_idx_no_SMA/fold_2/pnr_1.0/train_loss.png]] | [[https://github.com/keiserlab/lab-notebook-caceres/wiki/images/20180815_Paper_Retrains/lr_nesterov_1024_2048_3072/scrambled_idx_no_SMA/fold_2/pnr_1.0/test_loss.png]] | [[https://github.com/keiserlab/lab-notebook-caceres/wiki/images/20180815_Paper_Retrains/lr_nesterov_1024_2048_3072/scrambled_idx_no_SMA/fold_2/pnr_1.0/test_no_gt_loss.png]] |      \n",
      "| fold_3 best epoch: 0 | [[https://github.com/keiserlab/lab-notebook-caceres/wiki/images/20180815_Paper_Retrains/lr_nesterov_1024_2048_3072/scrambled_idx_no_SMA/fold_3/pnr_1.0/train_loss.png]] | [[https://github.com/keiserlab/lab-notebook-caceres/wiki/images/20180815_Paper_Retrains/lr_nesterov_1024_2048_3072/scrambled_idx_no_SMA/fold_3/pnr_1.0/test_loss.png]] | [[https://github.com/keiserlab/lab-notebook-caceres/wiki/images/20180815_Paper_Retrains/lr_nesterov_1024_2048_3072/scrambled_idx_no_SMA/fold_3/pnr_1.0/test_no_gt_loss.png]] |      \n",
      "| fold_4 best epoch: 100 | [[https://github.com/keiserlab/lab-notebook-caceres/wiki/images/20180815_Paper_Retrains/lr_nesterov_1024_2048_3072/scrambled_idx_no_SMA/fold_4/pnr_1.0/train_loss.png]] | [[https://github.com/keiserlab/lab-notebook-caceres/wiki/images/20180815_Paper_Retrains/lr_nesterov_1024_2048_3072/scrambled_idx_no_SMA/fold_4/pnr_1.0/test_loss.png]] | [[https://github.com/keiserlab/lab-notebook-caceres/wiki/images/20180815_Paper_Retrains/lr_nesterov_1024_2048_3072/scrambled_idx_no_SMA/fold_4/pnr_1.0/test_no_gt_loss.png]] |      \n",
      "\n",
      "\n",
      "\n"
     ]
    }
   ],
   "source": [
    "img_order = ['train_loss','test_loss', 'test_no_gt_loss']\n",
    "for ratio in sneg_pnrs:\n",
    "    png_subset = [f for f in png_files if str(ratio) in f]\n",
    "    headers = [\"PNR_{}\".format(ratio)]\n",
    "    headers.extend(img_order)\n",
    "    print(print_table(headers))\n",
    "    print(print_table([\":---\"]*len(headers)))\n",
    "    for f in np.arange(0, 5, 1):\n",
    "        name_fmter = \"fold_{} best epoch: {}\".format(str(f), expt_dict[ratio][f])\n",
    "        fold_fmter = \"fold_{}\".format(str(f))\n",
    "        fold_pngs = [i for i in png_subset if fold_fmter in i]\n",
    "        fold_pngs = sorted(fold_pngs, key=lambda x: img_order.index(x.split(\"/\")[-1].split(\".\")[0]))\n",
    "        md_print_fmt = [name_fmter] + [format_md_img(github_wiki_expt, i.split(\"//\")[-1]) for i in fold_pngs]\n",
    "        print(print_table(md_print_fmt))\n",
    "    print(\"\\n\\n\")"
   ]
  },
  {
   "cell_type": "code",
   "execution_count": null,
   "metadata": {
    "collapsed": true
   },
   "outputs": [],
   "source": []
  }
 ],
 "metadata": {
  "kernelspec": {
   "display_name": "Python 2",
   "language": "python",
   "name": "python2"
  },
  "language_info": {
   "codemirror_mode": {
    "name": "ipython",
    "version": 2
   },
   "file_extension": ".py",
   "mimetype": "text/x-python",
   "name": "python",
   "nbconvert_exporter": "python",
   "pygments_lexer": "ipython2",
   "version": "2.7.15"
  }
 },
 "nbformat": 4,
 "nbformat_minor": 2
}
